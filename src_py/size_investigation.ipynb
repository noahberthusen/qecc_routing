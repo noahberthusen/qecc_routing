{
 "cells": [
  {
   "cell_type": "code",
   "execution_count": 5,
   "metadata": {},
   "outputs": [],
   "source": [
    "import numpy as np\n",
    "import math\n",
    "import matplotlib.pyplot as plt\n",
    "from mec import make_circle\n",
    "from Grid import Grid\n",
    "import scipy.integrate as integrate\n",
    "from scipy.optimize import curve_fit\n",
    "import random\n",
    "import pandas as pd\n",
    "import lmfit"
   ]
  },
  {
   "cell_type": "code",
   "execution_count": 20,
   "metadata": {},
   "outputs": [],
   "source": [
    "df = pd.read_csv(\"../results/tmp.csv\", names=[\"M\", \"edges\"])"
   ]
  },
  {
   "cell_type": "code",
   "execution_count": 3,
   "metadata": {},
   "outputs": [],
   "source": [
    "def edges(x, c):\n",
    "    def g(y):\n",
    "        # return 1\n",
    "        a = 2\n",
    "        return (a/(1-np.exp(-a))) * np.exp(-a*y)\n",
    "\n",
    "    integrand = lambda y: g(y) * (x**y)\n",
    "    return c *integrate.quad(integrand, 0, 1)[0] * x**2\n",
    "\n",
    "def edges_vec(x, c):\n",
    "    if len(x) > 1:\n",
    "        return [edges(m, c) for m in x]\n",
    "    else:\n",
    "        return edges(x, c)\n",
    "\n",
    "def rt_vec(x, c, d):\n",
    "    if len(x) > 1:\n",
    "        return [(edges(m, c) / m**2) + d for m in x]\n",
    "    else:\n",
    "        return (edges(x, c) / x**2) + d"
   ]
  },
  {
   "cell_type": "code",
   "execution_count": 35,
   "metadata": {},
   "outputs": [
    {
     "name": "stdout",
     "output_type": "stream",
     "text": [
      "[4.04183892 2.99782833] [[ 8.76119748e-03 -4.80577931e-04]\n",
      " [-4.80577931e-04  2.63866858e-05]]\n"
     ]
    }
   ],
   "source": [
    "df = pd.read_csv(\"../results/tmp.csv\", names=[\"M\", \"edges\"])\n",
    "\n",
    "def func(x, c, g):\n",
    "    return c*x**g\n",
    "popt, pcov = curve_fit(func, df['M'], df[\"edges\"])\n",
    "print(popt, pcov)"
   ]
  },
  {
   "cell_type": "code",
   "execution_count": null,
   "metadata": {},
   "outputs": [],
   "source": [
    "model = lmfit.Model(edges_vec)\n",
    "params = lmfit.Parameters()\n",
    "params.add('c', value=1, min=0, max=1e10)\n",
    "result = model.fit(df['edges'], params, x=df['M'])\n",
    "c = result.params['c'].value\n",
    "\n",
    "print(result.fit_report())"
   ]
  },
  {
   "cell_type": "code",
   "execution_count": 34,
   "metadata": {},
   "outputs": [
    {
     "data": {
      "text/plain": [
       "Text(0, 0.5, 'Approx total number of edges')"
      ]
     },
     "execution_count": 34,
     "metadata": {},
     "output_type": "execute_result"
    },
    {
     "data": {
      "image/png": "[encoded data removed]",
      "text/plain": [
       "<Figure size 432x288 with 1 Axes>"
      ]
     },
     "metadata": {
      "needs_background": "light"
     },
     "output_type": "display_data"
    }
   ],
   "source": [
    "plt.scatter(df[\"M\"], df[\"edges\"], label=\"data\")\n",
    "\n",
    "# xs = np.linspace(0, 200, 100)\n",
    "# ys = edges_vec(xs, c)\n",
    "# plt.plot(xs, ys, label=f\"exact fit, c = {c}\")\n",
    "\n",
    "plt.legend()\n",
    "plt.xlabel(\"System size (M)\")\n",
    "plt.ylabel(\"Approx total number of edges\")\n",
    "\n",
    "# plt.savefig(f'../figures/notes8.png', dpi=600, transparent=False, bbox_inches='tight')\n"
   ]
  },
  {
   "cell_type": "code",
   "execution_count": null,
   "metadata": {},
   "outputs": [],
   "source": []
  },
  {
   "cell_type": "code",
   "execution_count": 8,
   "metadata": {},
   "outputs": [
    {
     "name": "stdout",
     "output_type": "stream",
     "text": [
      "[[Model]]\n",
      "    Model(rt_vec)\n",
      "[[Fit Statistics]]\n",
      "    # fitting method   = leastsq\n",
      "    # function evals   = 13\n",
      "    # data points      = 13\n",
      "    # variables        = 2\n",
      "    chi-square         = 0.66434364\n",
      "    reduced chi-square = 0.06039488\n",
      "    Akaike info crit   = -34.6607662\n",
      "    Bayesian info crit = -33.5308675\n",
      "    R-squared          = 0.99860600\n",
      "[[Variables]]\n",
      "    c:  1.85128302 +/- 0.02084793 (1.13%) (init = 1)\n",
      "    d:  6.35342503 +/- 0.18955880 (2.98%) (init = 0)\n",
      "[[Correlations]] (unreported correlations are < 0.100)\n",
      "    C(c, d) = -0.933\n"
     ]
    },
    {
     "data": {
      "text/plain": [
       "Text(0, 0.5, 'Avg routing time')"
      ]
     },
     "execution_count": 8,
     "metadata": {},
     "output_type": "execute_result"
    },
    {
     "data": {
      "image/png": "[encoded data removed]",
      "text/plain": [
       "<Figure size 432x288 with 1 Axes>"
      ]
     },
     "metadata": {
      "needs_background": "light"
     },
     "output_type": "display_data"
    }
   ],
   "source": [
    "k = 5\n",
    "beta = 1\n",
    "a = 2\n",
    "type = f\"a_{a}\"\n",
    "# type = \"uniform\"\n",
    "df2 = pd.read_csv(f\"../results/k_{k}/res_files_dist/{type}/combined_res.res\")\n",
    "\n",
    "df2 = df2[(df2['beta'] == round(beta, 1)) & (df2['gamma'] == 0)]\n",
    "# plt.scatter(df2['m'], df2['mean'], label='data')\n",
    "\n",
    "# xs = np.linspace(10, 200, 1000)\n",
    "# ys = rt_vec(xs, 2, 6)\n",
    "# plt.plot(xs, ys, label='exact')\n",
    "\n",
    "\n",
    "model = lmfit.Model(rt_vec)\n",
    "params = lmfit.Parameters()\n",
    "params.add('c', value=1, min=0, max=1e10)\n",
    "params.add('d', value=0, min=-1e2, max=1e2)\n",
    "\n",
    "\n",
    "result = model.fit(df2['mean'], params, x=df2['m'])\n",
    "c = result.params[\"c\"].value\n",
    "d = result.params[\"d\"].value\n",
    "print(result.fit_report())\n",
    "\n",
    "plt.scatter(df2[\"m\"], df2[\"mean\"], label=f\"data, $\\lambda$ = {a}\")\n",
    "\n",
    "xs = np.linspace(min(df2[\"m\"]), max(df2[\"m\"]), 100)\n",
    "ys = rt_vec(xs, c, d)\n",
    "plt.plot(xs, ys, label=f\"fit, c = {round(c, 2)}, d = {round(d, 2)}\", c='orange')\n",
    "\n",
    "def f(x, c, d):\n",
    "    return c*x**d\n",
    "\n",
    "model = lmfit.Model(f)\n",
    "params = lmfit.Parameters()\n",
    "params.add('c', value=1, min=0, max=1e5)\n",
    "params.add('d', value=0.5, min=0, max=1)\n",
    "\n",
    "# model = lmfit.Model(rt_vec)\n",
    "# params = lmfit.Parameters()\n",
    "# params.add('c', value=1, min=0, max=1e10)\n",
    "# # params.add('d', value=0, min=-1e2, max=1e2)\n",
    "# params.add('d', value=0, vary=False)\n",
    "\n",
    "result = model.fit(df2['mean'], params, x=df2['m'])\n",
    "c = result.params[\"c\"].value\n",
    "d = result.params[\"d\"].value\n",
    "ys = f(xs, c, d)\n",
    "plt.plot(xs, ys, label=f\"fit, c = {round(c, 2)}, d = {round(d, 2)}\", c='black')\n",
    "\n",
    "\n",
    "plt.legend()\n",
    "plt.xlabel(\"System size (M)\")\n",
    "plt.ylabel(\"Avg routing time\")\n",
    "\n",
    "# plt.savefig(f'../figures/notes9b.png', dpi=600, transparent=False, bbox_inches='tight')\n",
    "\n"
   ]
  },
  {
   "cell_type": "code",
   "execution_count": null,
   "metadata": {},
   "outputs": [],
   "source": []
  }
 ],
 "metadata": {
  "kernelspec": {
   "display_name": "qc",
   "language": "python",
   "name": "python3"
  },
  "language_info": {
   "codemirror_mode": {
    "name": "ipython",
    "version": 3
   },
   "file_extension": ".py",
   "mimetype": "text/x-python",
   "name": "python",
   "nbconvert_exporter": "python",
   "pygments_lexer": "ipython3",
   "version": "3.8.12"
  },
  "orig_nbformat": 4,
  "vscode": {
   "interpreter": {
    "hash": "0ec6a07b5680b7cd4331b54bc02dbe3823b9a431e7975ff6d8e95dcfb04b0c38"
   }
  }
 },
 "nbformat": 4,
 "nbformat_minor": 2
}
