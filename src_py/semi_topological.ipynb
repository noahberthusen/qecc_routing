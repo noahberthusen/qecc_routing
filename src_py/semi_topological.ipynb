{
 "cells": [
  {
   "cell_type": "code",
   "execution_count": 1,
   "metadata": {},
   "outputs": [],
   "source": [
    "import numpy as np"
   ]
  },
  {
   "cell_type": "code",
   "execution_count": 2,
   "metadata": {},
   "outputs": [],
   "source": [
    "def gf2_rank(rows):\n",
    "    \"\"\"\n",
    "    Find rank of a matrix over GF2.\n",
    "\n",
    "    The rows of the matrix are given as nonnegative integers, thought\n",
    "    of as bit-strings.\n",
    "\n",
    "    This function modifies the input list. Use gf2_rank(rows.copy())\n",
    "    instead of gf2_rank(rows) to avoid modifying rows.\n",
    "    \"\"\"\n",
    "    rank = 0\n",
    "    while len(rows):\n",
    "        pivot_row = rows[-1]\n",
    "        rows = np.delete(rows, -1, 0)\n",
    "        if np.count_nonzero(pivot_row):\n",
    "            rank += 1\n",
    "            lsb = pivot_row & -pivot_row\n",
    "            for index, row in enumerate(rows):\n",
    "                if np.count_nonzero(row & lsb):\n",
    "                    rows[index] = row ^ pivot_row\n",
    "    return rank\n",
    "def rref(H):\n",
    "    r = 0\n",
    "    n = len(H[0])\n",
    "    num_checks = len(H)\n",
    "    k = n - num_checks\n",
    "    for c in range(0, num_checks):\n",
    "        if (H[r, c] == 0):\n",
    "            # need to swap\n",
    "            for r2 in range(r+1, num_checks):\n",
    "                if (H[r2, c] == 1):\n",
    "                    temp = H[r, :].copy()\n",
    "                    H[r, :] = H[r2, :]\n",
    "                    H[r2, :] = temp\n",
    "                    break\n",
    "                    \n",
    "        # if (H[r, c] == 0):\n",
    "        #     print('H is singular')\n",
    "\n",
    "        # cancel out other rows\n",
    "        for r2 in range(r+1, num_checks):\n",
    "            if (H[r2, c] == 1):\n",
    "                H[r2, :] = H[r2, :] ^ H[r, :]\n",
    "\n",
    "        # # back substitution\n",
    "        for r2 in range(0, r):\n",
    "            if (H[r2, c] == 1):\n",
    "                H[r2, :] = H[r2, :] ^ H[r, :]\n",
    "\n",
    "        r += 1\n",
    "    return H"
   ]
  },
  {
   "cell_type": "code",
   "execution_count": 11,
   "metadata": {},
   "outputs": [
    {
     "name": "stdout",
     "output_type": "stream",
     "text": [
      "[[1 1 0 0 0 0 0 0 0 0 0 0 0 0 0]\n",
      " [0 1 1 0 0 0 0 0 0 0 0 0 0 0 0]\n",
      " [0 0 1 1 0 0 0 0 0 0 0 0 0 0 0]\n",
      " [0 0 0 1 1 0 0 0 0 0 0 0 0 0 0]\n",
      " [0 0 0 0 1 1 0 0 0 0 0 0 0 0 0]\n",
      " [0 0 0 0 0 1 1 0 0 0 0 0 0 0 0]\n",
      " [0 0 0 0 0 0 1 1 0 0 0 0 0 0 0]\n",
      " [0 0 0 0 0 0 0 1 1 0 0 0 0 0 0]\n",
      " [0 0 0 0 0 0 0 0 1 1 0 0 0 0 0]\n",
      " [0 0 0 0 0 0 0 0 0 1 1 0 0 0 0]\n",
      " [0 0 0 0 0 0 0 0 0 0 1 1 0 0 0]\n",
      " [0 0 0 0 0 0 0 0 0 0 0 1 1 0 0]\n",
      " [0 0 0 0 0 0 0 0 0 0 0 0 1 1 0]\n",
      " [0 0 0 0 0 0 0 0 0 0 0 0 0 1 1]]\n"
     ]
    }
   ],
   "source": [
    "def repetition_code(n):\n",
    "    # generates the parity check matrix for a repitition code with parameters [n, 1, n]\n",
    "\n",
    "    H = np.zeros((n-1, n), dtype=int)\n",
    "    for i in range(n-1):\n",
    "        H[i][i] = 1\n",
    "        H[i][i+1] = 1\n",
    "\n",
    "    return H\n",
    "H = repetition_code(15)\n",
    "print(H)"
   ]
  },
  {
   "cell_type": "code",
   "execution_count": 67,
   "metadata": {},
   "outputs": [
    {
     "name": "stdout",
     "output_type": "stream",
     "text": [
      "[[0 1 1 0 0 0 0 0 0 0 0 0 0 0 0]\n",
      " [0 0 0 0 0 0 0 0 1 0 0 0 0 1 0]\n",
      " [0 0 0 0 0 1 1 0 0 0 0 0 0 0 0]\n",
      " [0 0 0 0 1 0 0 0 0 0 0 1 0 0 0]\n",
      " [0 0 0 0 0 0 0 1 1 0 0 0 0 0 0]\n",
      " [0 0 0 0 0 1 0 0 0 1 0 0 0 0 0]\n",
      " [0 0 0 0 0 0 0 0 0 1 1 0 0 0 0]\n",
      " [0 0 0 0 0 0 0 0 0 0 1 0 1 0 0]\n",
      " [0 0 0 1 0 0 0 0 0 0 0 1 0 0 0]\n",
      " [0 0 0 0 0 0 0 0 0 0 0 0 1 1 0]\n",
      " [0 0 0 0 0 0 0 1 0 0 0 0 0 0 1]]\n"
     ]
    }
   ],
   "source": [
    "H = repetition_code(15)\n",
    "\n",
    "vs = np.array([], dtype=int)\n",
    "cs = np.array([], dtype=int)\n",
    "\n",
    "local_perc = 0.5\n",
    "# desired_rate = 0.25\n",
    "\n",
    "for i in range(int(H.shape[0] * local_perc)):\n",
    "    nz_rows = np.nonzero(np.any(H, axis=1))[0]\n",
    "    c_ind = np.random.choice(nz_rows)\n",
    "\n",
    "    for v_ind in np.where(H[c_ind])[0]:\n",
    "        vs = np.append(vs, v_ind)\n",
    "    cs = np.append(cs, [c_ind, c_ind])\n",
    "    H[c_ind] = np.zeros(n)\n",
    "\n",
    "while (vs.size and cs.size):\n",
    "    # choose random 'stub' from each array\n",
    "    double_edge = True\n",
    "    while(double_edge):\n",
    "        v_ind = np.random.randint(0, len(vs))\n",
    "        c_ind = np.random.randint(0, len(cs))\n",
    "\n",
    "        if (H[cs[c_ind]][vs[v_ind]] != 1):\n",
    "            double_edge = False\n",
    "            H[cs[c_ind]][vs[v_ind]] = 1\n",
    "            vs = np.delete(vs, v_ind)\n",
    "            cs =np.delete(cs, c_ind)\n",
    "\n",
    "for i in range(int(3)):\n",
    "    H = np.delete(H, i, axis=0)    \n",
    "print(H)"
   ]
  },
  {
   "cell_type": "code",
   "execution_count": 68,
   "metadata": {},
   "outputs": [
    {
     "name": "stdout",
     "output_type": "stream",
     "text": [
      "15 4\n",
      "Rank: 11\n",
      "[[1 0 0 0 0 0 0 1 1 0 0 0 0 0 0]\n",
      " [0 1 0 0 1 0 1 0 0 1 0 0 0 1 1]\n",
      " [0 0 1 0 1 1 0 0 0 1 1 0 0 1 0]\n",
      " [0 0 0 1 1 1 0 0 0 0 0 1 1 0 0]]\n"
     ]
    }
   ],
   "source": [
    "n = H.shape[1]\n",
    "k = n - H.shape[0]\n",
    "print(n, k)\n",
    "\n",
    "print(f\"Rank: {gf2_rank(H)}\")\n",
    "rref_H = rref(H.copy())\n",
    "G = np.hstack([np.eye(k, dtype=int), rref_H[:,n-k:n].T])\n",
    "print(G)"
   ]
  },
  {
   "cell_type": "code",
   "execution_count": 69,
   "metadata": {},
   "outputs": [
    {
     "name": "stdout",
     "output_type": "stream",
     "text": [
      "[0 0 0 0 0 0 0 0 0 0 0 0 0 0 0]\n",
      "[0 0 0 0 0 1 1 1 1 1 1 0 1 1 1]\n",
      "[0 0 0 1 1 0 0 0 0 0 0 1 0 0 0]\n",
      "[0 0 0 1 1 1 1 1 1 1 1 1 1 1 1]\n",
      "[0 1 1 0 0 0 0 0 0 0 0 0 0 0 0]\n",
      "[0 1 1 0 0 1 1 1 1 1 1 0 1 1 1]\n",
      "[0 1 1 1 1 0 0 0 0 0 0 1 0 0 0]\n",
      "[0 1 1 1 1 1 1 1 1 1 1 1 1 1 1]\n",
      "[1 0 0 0 0 0 0 0 0 0 0 0 0 0 0]\n",
      "[1 0 0 0 0 1 1 1 1 1 1 0 1 1 1]\n",
      "[1 0 0 1 1 0 0 0 0 0 0 1 0 0 0]\n",
      "[1 0 0 1 1 1 1 1 1 1 1 1 1 1 1]\n",
      "[1 1 1 0 0 0 0 0 0 0 0 0 0 0 0]\n",
      "[1 1 1 0 0 1 1 1 1 1 1 0 1 1 1]\n",
      "[1 1 1 1 1 0 0 0 0 0 0 1 0 0 0]\n",
      "[1 1 1 1 1 1 1 1 1 1 1 1 1 1 1]\n"
     ]
    }
   ],
   "source": [
    "for j in range(0, 2**n):\n",
    "    num = bin(j)[2:].zfill(n)\n",
    "    w = np.array([int(b) for b in num])\n",
    "    # encoded_w = w@G % 2\n",
    "\n",
    "    # print(w)\n",
    "    if (not np.any(H@w % 2)):\n",
    "        print(w)\n",
    "    # if (np.count_nonzero(encoded_w) < d):\n",
    "        # d = np.count_nonzero(encoded_w)"
   ]
  },
  {
   "cell_type": "code",
   "execution_count": 55,
   "metadata": {},
   "outputs": [],
   "source": [
    "H = np.array([[1,1],[1,-1]]) * 1/np.sqrt(2)\n",
    "S = np.array([[1,0],[0,1j]])\n",
    "Sd = np.array([[1,0],[0,-1j]])\n",
    "\n",
    "X = np.array([[0,1],[1,0]])\n",
    "Y = np.array([[0,-1j],[1j,0]])\n",
    "Z = np.array([[1,0],[0,-1]])\n",
    "I = np.eye(2)\n",
    "\n",
    "zero = np.array([1,0])\n",
    "one = np.array([0,1])\n",
    "\n",
    "plus = np.array([1,1]) * 1/np.sqrt(2)\n",
    "minus = np.array([1,-1]) * 1/np.sqrt(2)\n",
    "\n",
    "r = np.array([1,1j]) * 1/np.sqrt(2)\n",
    "l = np.array([1,-1j]) * 1/np.sqrt(2)\n",
    "\n",
    "bell = np.array([1,0,0,1]) * 1/np.sqrt(2)\n",
    "ghz = np.array([1,0,0,0,0,0,0,1]) * 1/np.sqrt(2)"
   ]
  },
  {
   "cell_type": "code",
   "execution_count": 38,
   "metadata": {},
   "outputs": [
    {
     "name": "stdout",
     "output_type": "stream",
     "text": [
      "0.2499999999999999\n"
     ]
    }
   ],
   "source": [
    "zz = np.kron(zero, one)\n",
    "proj = np.outer(zz, zz)\n",
    "prob = (bell @ np.kron(H,I).conj().T) @ (proj.conj().T @ proj) @ (np.kron(H,I) @ bell)\n",
    "print(prob)"
   ]
  },
  {
   "cell_type": "code",
   "execution_count": 62,
   "metadata": {},
   "outputs": [
    {
     "name": "stdout",
     "output_type": "stream",
     "text": [
      "Pr(00) = 0.25\n",
      "Pr(01) = 0.25\n",
      "Pr(10) = 0.25\n",
      "Pr(11) = 0.25\n"
     ]
    }
   ],
   "source": [
    "basis1 = H@Sd\n",
    "basis2 = H\n",
    "\n",
    "zz = np.kron(zero, zero)\n",
    "proj = np.outer(zz, zz)\n",
    "prob = (bell @ np.kron(basis1,basis2).conj().T) @ (proj.conj().T @ proj) @ (np.kron(basis1,basis2) @ bell)\n",
    "print(f\"Pr(00) = {round(abs(prob),2)}\")\n",
    "zz = np.kron(zero, one)\n",
    "proj = np.outer(zz, zz)\n",
    "prob = (bell @ np.kron(basis1,basis2).conj().T) @ (proj.conj().T @ proj) @ (np.kron(basis1,basis2) @ bell)\n",
    "print(f\"Pr(01) = {round(abs(prob),2)}\")\n",
    "zz = np.kron(one, zero)\n",
    "proj = np.outer(zz, zz)\n",
    "prob = (bell @ np.kron(basis1,basis2).conj().T) @ (proj.conj().T @ proj) @ (np.kron(basis1,basis2) @ bell)\n",
    "print(f\"Pr(10) = {round(abs(prob),2)}\")\n",
    "zz = np.kron(one, one)\n",
    "proj = np.outer(zz, zz)\n",
    "prob = (bell @ np.kron(basis1,basis2).conj().T) @ (proj.conj().T @ proj) @ (np.kron(basis1,basis2) @ bell)\n",
    "print(f\"Pr(11) = {round(abs(prob),2)}\")"
   ]
  },
  {
   "cell_type": "code",
   "execution_count": 39,
   "metadata": {},
   "outputs": [
    {
     "data": {
      "text/plain": [
       "array([0., 1., 0., 0.])"
      ]
     },
     "execution_count": 39,
     "metadata": {},
     "output_type": "execute_result"
    }
   ],
   "source": [
    "proj @ (np.kron(H,I) @ bell) / np.sqrt(prob)"
   ]
  },
  {
   "cell_type": "code",
   "execution_count": 47,
   "metadata": {},
   "outputs": [
    {
     "data": {
      "text/plain": [
       "0.24999999999999983"
      ]
     },
     "execution_count": 47,
     "metadata": {},
     "output_type": "execute_result"
    }
   ],
   "source": [
    "zzz = np.kron(one, np.kron(one, zero))\n",
    "proj = np.outer(zzz, zzz)\n",
    "(ghz @ np.kron(H,np.kron(H,H)).conj().T) @ (proj.conj().T @ proj) @ (np.kron(H,np.kron(H,H)) @ ghz)"
   ]
  },
  {
   "cell_type": "code",
   "execution_count": 96,
   "metadata": {},
   "outputs": [
    {
     "name": "stdout",
     "output_type": "stream",
     "text": [
      "Pr(000) = 0.25\n",
      "Pr(001) = 0.0\n",
      "Pr(010) = 0.0\n",
      "Pr(011) = 0.25\n",
      "Pr(100) = 0.25\n",
      "Pr(101) = 0.0\n",
      "Pr(110) = 0.0\n",
      "Pr(111) = 0.25\n"
     ]
    }
   ],
   "source": [
    "b1 = H\n",
    "b2 = I\n",
    "b3 = I\n",
    "\n",
    "for i in range(2):\n",
    "    for j in range(2):\n",
    "        for k in range(2):\n",
    "            oc1 = one if i else zero\n",
    "            oc2 = one if j else zero\n",
    "            oc3 = one if k else zero\n",
    "\n",
    "            zzz = np.kron(oc1, np.kron(oc2, oc3))\n",
    "            proj = np.outer(zzz, zzz)\n",
    "            prob = (ghz @ np.kron(b1,np.kron(b2,b3)).conj().T) @ (proj.conj().T @ proj) @ (np.kron(b1,np.kron(b2,b3)) @ ghz)\n",
    "            print(f\"Pr({i}{j}{k}) = {round(abs(prob), 2)}\")"
   ]
  },
  {
   "cell_type": "code",
   "execution_count": null,
   "metadata": {},
   "outputs": [],
   "source": []
  }
 ],
 "metadata": {
  "kernelspec": {
   "display_name": "qc",
   "language": "python",
   "name": "python3"
  },
  "language_info": {
   "codemirror_mode": {
    "name": "ipython",
    "version": 3
   },
   "file_extension": ".py",
   "mimetype": "text/x-python",
   "name": "python",
   "nbconvert_exporter": "python",
   "pygments_lexer": "ipython3",
   "version": "3.8.12"
  },
  "orig_nbformat": 4,
  "vscode": {
   "interpreter": {
    "hash": "0ec6a07b5680b7cd4331b54bc02dbe3823b9a431e7975ff6d8e95dcfb04b0c38"
   }
  }
 },
 "nbformat": 4,
 "nbformat_minor": 2
}
