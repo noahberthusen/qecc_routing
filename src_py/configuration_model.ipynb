{
 "cells": [
  {
   "cell_type": "code",
   "execution_count": 1,
   "metadata": {},
   "outputs": [],
   "source": [
    "import numpy as np\n",
    "import scipy.sparse as sparse\n",
    "import math\n",
    "import matplotlib.pyplot as plt\n",
    "from mec import make_circle\n",
    "from Grid import Grid\n",
    "import copy\n",
    "from itertools import chain\n",
    "import random\n",
    "from collections import Counter"
   ]
  },
  {
   "cell_type": "code",
   "execution_count": 31,
   "metadata": {},
   "outputs": [],
   "source": [
    "def in_circle(point, circle):\n",
    "    x, y = point\n",
    "    cx, cy, r = circle\n",
    "    return np.sqrt((x - cx)**2 + (y - cy)**2) <= r\n",
    "\n",
    "def distance(p, q):\n",
    "    return np.sqrt((p[0]-q[0])**2 + (p[1]-q[1])**2)\n",
    "\n",
    "def independent_gens(gens):\n",
    "    ind_sets = []\n",
    "    gen_sets = [set(gen) for gen in gens]\n",
    "\n",
    "    while gen_sets:\n",
    "        ind_set = [gen_sets[0]]\n",
    "        gen_sets.pop(0)\n",
    "\n",
    "        for i, gen_set in reversed(list(enumerate(gen_sets))):\n",
    "            add = True\n",
    "            for gen in ind_set:\n",
    "                if (gen & gen_set):\n",
    "                    add = False\n",
    "\n",
    "            if add:\n",
    "                ind_set.append(gen_set)\n",
    "                gen_sets.pop(i)\n",
    "\n",
    "        if (ind_set):\n",
    "            ind_sets.append(ind_set)\n",
    "\n",
    "    return ind_sets\n",
    "\n",
    "def randomly_draw_generators(m, gamma):\n",
    "    def in_circle(point, circle):\n",
    "        x, y = point\n",
    "        cx, cy, r = circle\n",
    "        return np.sqrt((x - cx)**2 + (y - cy)**2) <= r\n",
    "\n",
    "    gens = []\n",
    "    all_points = [(x,y) for x in range(m) for y in range(m)]\n",
    "\n",
    "    N = m**2\n",
    "    L = np.sqrt(2)*((m/2)**gamma)\n",
    "    while (len(gens) < N):\n",
    "        cx, cy = random.choice(all_points)\n",
    "\n",
    "        in_points = [point for point in all_points if in_circle(point, (cx, cy, L))]\n",
    "\n",
    "        if (len(in_points) >= 5):\n",
    "            points = random.sample(in_points, 5)\n",
    "            gens.append(points)\n",
    "\n",
    "    return gens"
   ]
  },
  {
   "cell_type": "code",
   "execution_count": 32,
   "metadata": {},
   "outputs": [],
   "source": [
    "def configuration_model(m, gamma):\n",
    "    # m = 10\n",
    "    n = m**2\n",
    "\n",
    "    r = np.sqrt(2)*((m/2)**gamma)\n",
    "    deg_v = 5 # w_c. Every bit is in this many checks\n",
    "    deg_c = 5 # w_r. Every check has this many bits in it\n",
    "    num_checks = (n*deg_v)//deg_c\n",
    "    k = n - num_checks\n",
    "\n",
    "    vs = [deg_v for _ in range(n)]\n",
    "    qbts = [(x,y) for x in range(m) for y in range(m)]\n",
    "    ops = [[] for i in range(num_checks)]\n",
    "    \n",
    "    c_inds = []\n",
    "    pot_qbts = []\n",
    "    for i in range(num_checks):\n",
    "        pot_qbts.append([])\n",
    "        for j in range(n):\n",
    "            pot_qbts[i].append(j)\n",
    "        c_inds.append(i)\n",
    "\n",
    "    while (np.count_nonzero(vs)):\n",
    "        if (len(c_inds)):\n",
    "            c_ind = np.random.choice(c_inds)\n",
    "        else:\n",
    "            break\n",
    "\n",
    "        # choose a v that is within the specified radius (from list of potential qbts)\n",
    "        v_ind = np.random.choice(pot_qbts[c_ind])\n",
    "        ops[c_ind].append(qbts[v_ind])\n",
    "        \n",
    "        if (len(ops[c_ind]) == deg_c):\n",
    "            c_inds.remove(c_ind)\n",
    "        else:\n",
    "            pot_qbts[c_ind].remove(v_ind)\n",
    "            if (len(pot_qbts[c_ind]) == 0): c_inds.remove(c_ind)\n",
    "\n",
    "        # update potential qbts\n",
    "        # for pot_ind, pot in enumerate(pot_qbts[c_ind]):\n",
    "        #     if (pot and (make_circle(ops[c_ind] + [qbts[pot_ind]])[2] > r)):\n",
    "        #         pot_qbts[c_ind][pot_ind] = 0\n",
    "\n",
    "        if (len(ops[c_ind]) == 1): \n",
    "            for i in range(n):\n",
    "                if (distance(ops[c_ind][0], qbts[i]) > r):\n",
    "                    if i in pot_qbts[c_ind]:\n",
    "                        pot_qbts[c_ind].remove(i)\n",
    "                        if (len(pot_qbts[c_ind]) == 0): c_inds.remove(c_ind)\n",
    "\n",
    "        vs[v_ind] -= 1\n",
    "        if (not vs[v_ind]):\n",
    "            for i in c_inds:\n",
    "                if v_ind in pot_qbts[i]:\n",
    "                    pot_qbts[i].remove(v_ind)\n",
    "                    if (len(pot_qbts[i]) == 0): c_inds.remove(i)\n",
    "\n",
    "\n",
    "    print(sum(vs))\n",
    "\n",
    "    # for op in ops:\n",
    "    #     if (len(op) == 1):\n",
    "    #         print(\"Do again\")\n",
    "\n",
    "    return ops"
   ]
  },
  {
   "cell_type": "code",
   "execution_count": 33,
   "metadata": {},
   "outputs": [
    {
     "name": "stdout",
     "output_type": "stream",
     "text": [
      "1.2255274201523572 1.4142135623730951\n",
      "1.2263043770577335 1.6611620399354272\n",
      "1.2400212376643729 1.9512323996468892\n",
      "1.8025504011928084 2.291954538992328\n",
      "1.8216761050204733 2.6921732181969564\n",
      "2.333044757910777 3.1622776601683795\n",
      "2.5209591726604743 3.714471242937836\n",
      "2.8260918939313178 4.363088285510481\n",
      "3.2841459750602873 5.124966150526038\n",
      "3.5039993897598207 6.0198823230927685\n",
      "3.848210393354528 7.0710678118654755\n"
     ]
    }
   ],
   "source": [
    "m = 10\n",
    "gens = [randomly_draw_generators(m, gamma) for gamma in np.linspace(0,1,11)]\n",
    "gammas = np.linspace(0, 1, 11)\n",
    "for i, gen in enumerate(gens):\n",
    "    print(np.mean([make_circle(op)[2] for op in gen]), np.sqrt(2)*(m/2)**gammas[i])"
   ]
  },
  {
   "cell_type": "code",
   "execution_count": 225,
   "metadata": {},
   "outputs": [
    {
     "name": "stdout",
     "output_type": "stream",
     "text": [
      "45\n",
      "65\n",
      "46\n",
      "31\n",
      "24\n",
      "12\n",
      "11\n",
      "10\n",
      "14\n",
      "4\n",
      "1\n",
      "1.1158948341058663 1.4142135623730951\n",
      "1.0869509831517736 1.6611620399354272\n",
      "1.1380979078006483 1.9512323996468892\n",
      "1.680733016379129 2.291954538992328\n",
      "1.7287106406142692 2.6921732181969564\n",
      "2.210581402650293 3.1622776601683795\n",
      "2.2876515284239516 3.714471242937836\n",
      "2.7213778012439276 4.363088285510481\n",
      "2.956255616543816 5.124966150526038\n",
      "3.459156595374154 6.0198823230927685\n",
      "3.916427275225758 7.0710678118654755\n"
     ]
    }
   ],
   "source": [
    "gens = [configuration_model(10, gamma) for gamma in np.linspace(0, 1, 11)]\n",
    "gammas = np.linspace(0, 1, 11)\n",
    "for i, gen in enumerate(gens):\n",
    "    print(np.mean([make_circle(op)[2] for op in gen]), np.sqrt(2)*(10/2)**gammas[i])"
   ]
  },
  {
   "cell_type": "code",
   "execution_count": 144,
   "metadata": {},
   "outputs": [
    {
     "name": "stdout",
     "output_type": "stream",
     "text": [
      "1.2784102085345848 1.0\n",
      "1.5304246386844813 1.174618943088019\n",
      "1.701426711814641 1.379729661461215\n",
      "2.058036557507097 1.6206565966927626\n",
      "2.422525346182174 1.9036539387158786\n",
      "2.8109933020656452 2.23606797749979\n",
      "3.4097317582857145 2.6265278044037674\n",
      "3.87883264439834 3.0851693136000486\n",
      "4.185170326454862 3.623898318388478\n",
      "4.399721166926675 4.256699612603923\n",
      "4.352631222994596 5.0\n"
     ]
    }
   ],
   "source": [
    "gammas = np.linspace(0, 1, 11)\n",
    "for i, gen in enumerate(gens):\n",
    "    print(np.mean([make_circle(op)[2] for op in gen]), (10/2)**gammas[i])"
   ]
  },
  {
   "cell_type": "code",
   "execution_count": 198,
   "metadata": {},
   "outputs": [
    {
     "data": {
      "text/plain": [
       "(4.0, 7.0, 1.0)"
      ]
     },
     "execution_count": 198,
     "metadata": {},
     "output_type": "execute_result"
    }
   ],
   "source": [
    "points = [(4, 6),(3, 7),(4, 7),(4, 8)]\n",
    "make_circle(points)"
   ]
  },
  {
   "cell_type": "code",
   "execution_count": 69,
   "metadata": {},
   "outputs": [
    {
     "data": {
      "image/png": "[encoded data removed]",
      "text/plain": [
       "<Figure size 360x360 with 1 Axes>"
      ]
     },
     "metadata": {
      "needs_background": "light"
     },
     "output_type": "display_data"
    }
   ],
   "source": [
    "fig, ax = plt.subplots(1, 1, figsize=(5,5))\n",
    "\n",
    "\n",
    "ind_sets = independent_gens(ops)\n",
    "\n",
    "all_points = [(x,y) for x in range(m) for y in range(m)]\n",
    "xs, ys = zip(*all_points)\n",
    "ax.scatter(xs, ys)\n",
    "\n",
    "\n",
    "i = 0\n",
    "ind_set = [list(s) for s in ind_sets[i]]\n",
    "gen_xs, gen_ys = zip(*list(chain(*ind_set)))\n",
    "ax.scatter(gen_xs, gen_ys, c='r', s=70)\n",
    "\n",
    "ax.axis('off')\n",
    "plt.show()"
   ]
  },
  {
   "cell_type": "code",
   "execution_count": 70,
   "metadata": {},
   "outputs": [
    {
     "name": "stdout",
     "output_type": "stream",
     "text": [
      "1\n",
      "1\n",
      "1\n",
      "1\n",
      "1\n",
      "1\n",
      "1\n",
      "1\n",
      "1\n",
      "1\n",
      "1\n"
     ]
    }
   ],
   "source": [
    "grid = Grid(m, deg_v)\n",
    "\n",
    "for ind_set in ind_sets:\n",
    "    print(grid.greedy_route_set(ind_set))"
   ]
  },
  {
   "cell_type": "code",
   "execution_count": 9,
   "metadata": {},
   "outputs": [
    {
     "name": "stdout",
     "output_type": "stream",
     "text": [
      "[{(6, 6), (8, 8), (7, 6), (8, 6)}, {(7, 7), (8, 7), (7, 9), (9, 8), (9, 7)}, {(5, 5), (5, 4), (6, 4), (5, 3), (7, 5)}, {(4, 0), (5, 1), (3, 0), (5, 0), (4, 1)}, {(3, 7), (1, 6), (2, 7), (1, 5)}, {(5, 9), (6, 9), (4, 8), (5, 8)}, {(1, 7), (2, 6), (3, 6), (2, 5), (3, 5)}, {(1, 2), (2, 1), (3, 1), (1, 1), (1, 3)}, {(6, 2), (8, 4), (7, 3), (8, 3), (6, 3)}, {(2, 9), (0, 8), (0, 9)}, {(4, 4), (2, 4), (4, 3), (4, 2), (3, 2)}, {(7, 0), (9, 2), (8, 0)}, {(6, 7), (8, 9)}, {(0, 6)}, {(7, 1), (8, 1), (6, 1), (6, 0), (8, 2)}, {(9, 5), (9, 6), (9, 4)}]\n"
     ]
    }
   ],
   "source": [
    "print(ind_sets[1])"
   ]
  },
  {
   "cell_type": "code",
   "execution_count": 38,
   "metadata": {},
   "outputs": [
    {
     "data": {
      "text/plain": [
       "1"
      ]
     },
     "execution_count": 38,
     "metadata": {},
     "output_type": "execute_result"
    }
   ],
   "source": [
    "grid = Grid(10, 5)\n",
    "\n",
    "# s = [{(6, 6), (8, 8), (7, 6), (8, 6)}, {(7, 7), (8, 7), (7, 9), (9, 8), (9, 7)}, {(5, 5), (5, 4), (6, 4), (5, 3), (7, 5)}, {(4, 0), (5, 1), (3, 0), (5, 0), (4, 1)}, {(3, 7), (1, 6), (2, 7), (1, 5)}, {(5, 9), (6, 9), (4, 8), (5, 8)}, {(1, 7), (2, 6), (3, 6), (2, 5), (3, 5)}, {(1, 2), (2, 1), (3, 1), (1, 1), (1, 3)}, {(6, 2), (8, 4), (7, 3), (8, 3), (6, 3)}, {(2, 9), (0, 8), (0, 9)}, {(4, 4), (2, 4), (4, 3), (4, 2), (3, 2)}, {(7, 0), (9, 2), (8, 0)}, {(6, 7), (8, 9)}, {(0, 6)}, {(7, 1), (8, 1), (6, 1), (6, 0), (8, 2)}, {(9, 5), (9, 6), (9, 4)}]\n",
    "s = [{(2, 2), (2, 4), (3, 3), (3, 4), (4, 4)}]\n",
    "grid.greedy_route_set(s)"
   ]
  },
  {
   "cell_type": "code",
   "execution_count": 18,
   "metadata": {},
   "outputs": [
    {
     "name": "stdout",
     "output_type": "stream",
     "text": [
      "0\n",
      "0\n",
      "0\n",
      "0\n",
      "0\n",
      "0\n",
      "0\n",
      "0\n",
      "0\n",
      "0\n",
      "0\n",
      "0\n",
      "0\n",
      "0\n",
      "0\n",
      "0\n"
     ]
    }
   ],
   "source": [
    "for op in s:\n",
    "    grid = Grid(10,5)\n",
    "    print(grid.greedy_route_set(s))"
   ]
  },
  {
   "cell_type": "code",
   "execution_count": 88,
   "metadata": {},
   "outputs": [
    {
     "data": {
      "image/png": "[encoded data removed]",
      "text/plain": [
       "<Figure size 360x360 with 1 Axes>"
      ]
     },
     "metadata": {
      "needs_background": "light"
     },
     "output_type": "display_data"
    }
   ],
   "source": [
    "fig, ax = plt.subplots(1, 1, figsize=(5,5))\n",
    "\n",
    "i = 5\n",
    "\n",
    "# pot_qbt_inds = [qbts[j] for j in pot_qbts[i]]\n",
    "xs, ys = zip(*qbts)\n",
    "op_xs, op_ys = zip(*ops[i])\n",
    "# pot_xs, pot_ys = zip(*pot_qbt_inds)\n",
    "\n",
    "cir = make_circle(ops[i])\n",
    "c = plt.Circle((cir[0], cir[1]), cir[2], alpha=0.3)\n",
    "ax.scatter(xs, ys, c='k')\n",
    "ax.scatter(op_xs, op_ys, c='r')\n",
    "# ax.scatter(pot_xs, pot_ys, c='b')\n",
    "\n",
    "\n",
    "ax.add_artist(c)\n",
    "ax.axis('off')\n",
    "plt.show()"
   ]
  },
  {
   "cell_type": "code",
   "execution_count": 54,
   "metadata": {},
   "outputs": [
    {
     "name": "stdout",
     "output_type": "stream",
     "text": [
      "0.23259936155752908\n"
     ]
    },
    {
     "data": {
      "text/plain": [
       "(array([3.92475305, 3.50067168, 3.36464558, 2.86454962, 2.72052199,\n",
       "        2.2124245 , 1.86835848, 1.84035311, 1.77634083, 1.49628709,\n",
       "        1.44027635, 1.25224027, 1.18822799, 1.07620649, 0.87616811,\n",
       "        0.87616811, 0.78815122, 0.80415429, 0.7041351 , 0.568109  ,\n",
       "        0.56010747, 0.48809365, 0.42808214, 0.31606064, 0.34006525,\n",
       "        0.32806295, 0.30805911, 0.22004222, 0.27605297, 0.26805143,\n",
       "        0.20403915, 0.21604145, 0.17603378, 0.1480284 , 0.12002303,\n",
       "        0.12802456, 0.12002303, 0.06801305, 0.07601459, 0.07601459]),\n",
       " array([3.89013937e-05, 2.50341046e-02, 5.00293078e-02, 7.50245111e-02,\n",
       "        1.00019714e-01, 1.25014917e-01, 1.50010121e-01, 1.75005324e-01,\n",
       "        2.00000527e-01, 2.24995730e-01, 2.49990934e-01, 2.74986137e-01,\n",
       "        2.99981340e-01, 3.24976543e-01, 3.49971746e-01, 3.74966950e-01,\n",
       "        3.99962153e-01, 4.24957356e-01, 4.49952559e-01, 4.74947763e-01,\n",
       "        4.99942966e-01, 5.24938169e-01, 5.49933372e-01, 5.74928575e-01,\n",
       "        5.99923779e-01, 6.24918982e-01, 6.49914185e-01, 6.74909388e-01,\n",
       "        6.99904592e-01, 7.24899795e-01, 7.49894998e-01, 7.74890201e-01,\n",
       "        7.99885404e-01, 8.24880608e-01, 8.49875811e-01, 8.74871014e-01,\n",
       "        8.99866217e-01, 9.24861421e-01, 9.49856624e-01, 9.74851827e-01,\n",
       "        9.99847030e-01]),\n",
       " <BarContainer object of 40 artists>)"
      ]
     },
     "execution_count": 54,
     "metadata": {},
     "output_type": "execute_result"
    },
    {
     "data": {
      "image/png": "[encoded data removed]",
      "text/plain": [
       "<Figure size 432x288 with 1 Axes>"
      ]
     },
     "metadata": {
      "needs_background": "light"
     },
     "output_type": "display_data"
    },
    {
     "ename": "",
     "evalue": "",
     "output_type": "error",
     "traceback": [
      "\u001b[1;31mThe Kernel crashed while executing code in the the current cell or a previous cell. Please review the code in the cell(s) to identify a possible cause of the failure. Click <a href='https://aka.ms/vscodeJupyterKernelCrash'>here</a> for more info. View Jupyter <a href='command:jupyter.viewOutput'>log</a> for further details."
     ]
    }
   ],
   "source": [
    "# https://stats.stackexchange.com/questions/508749/generating-random-samples-obeying-the-exponential-distribution-with-a-given-min\n",
    "\n",
    "a = 4\n",
    "def f(x):\n",
    "    return a*np.exp(-a*x)\n",
    "    # return 1 - np.exp(-a*x)\n",
    "def f_inv(x):\n",
    "    return -(1/a)*np.log(x/a)\n",
    "\n",
    "points = []\n",
    "points_scaled = []\n",
    "for i in range(10000):\n",
    "    points.append(f_inv(random.uniform(0,1)))\n",
    "    points_scaled.append(f_inv(random.uniform(f(0), f(1))))\n",
    "    # points_scaled.append(random.uniform(0,1))\n",
    "\n",
    "# plt.hist(points, bins=20, density=True)\n",
    "print(np.mean(points_scaled))\n",
    "plt.hist(points_scaled, bins=40, density=True)"
   ]
  },
  {
   "cell_type": "code",
   "execution_count": 52,
   "metadata": {},
   "outputs": [
    {
     "data": {
      "image/png": "[encoded data removed]",
      "text/plain": [
       "<Figure size 432x288 with 1 Axes>"
      ]
     },
     "metadata": {
      "needs_background": "light"
     },
     "output_type": "display_data"
    }
   ],
   "source": [
    "rd = np.round(points_scaled, 4)\n",
    "res = plt.hist(rd)"
   ]
  },
  {
   "cell_type": "code",
   "execution_count": 53,
   "metadata": {},
   "outputs": [
    {
     "name": "stdout",
     "output_type": "stream",
     "text": [
      "2.448240354\n"
     ]
    }
   ],
   "source": [
    "counts = res[0]/len(points_scaled)\n",
    "gammas = res[1]\n",
    "\n",
    "s = 0\n",
    "beta = 1\n",
    "for c, g in zip(counts, gammas):\n",
    "    s += c * (2*beta + g)   # c * (2 beta + gamma), where c is prob of getting gamma\n",
    "print(s)"
   ]
  },
  {
   "cell_type": "code",
   "execution_count": 37,
   "metadata": {},
   "outputs": [
    {
     "data": {
      "text/plain": [
       "<matplotlib.legend.Legend at 0x29136272e80>"
      ]
     },
     "execution_count": 37,
     "metadata": {},
     "output_type": "execute_result"
    },
    {
     "data": {
      "image/png": "[encoded data removed]",
      "text/plain": [
       "<Figure size 432x288 with 1 Axes>"
      ]
     },
     "metadata": {
      "needs_background": "light"
     },
     "output_type": "display_data"
    }
   ],
   "source": [
    "import scipy.integrate as integrate\n",
    "import numpy as np\n",
    "import matplotlib.pyplot as plt\n",
    "import pandas as pd\n",
    "\n",
    "def fit_fun(M, c, beta):\n",
    "    # g(y) is the distribution function\n",
    "    def g(x):\n",
    "        # return 1\n",
    "        l = 4\n",
    "        return (l/(1-np.exp(-l))) * np.exp(-l*x)\n",
    "\n",
    "    integrand = lambda y: g(y) * (M**y)\n",
    "\n",
    "    return c * integrate.quad(integrand, 0, 1)[0] * M**(2*beta-2)\n",
    "\n",
    "k = 5\n",
    "beta = 0.9\n",
    "type = \"a_4\"\n",
    "df = pd.read_csv(f\"../results/k_{k}/res_files_dist/{type}/combined_res.res\")\n",
    "\n",
    "tmp_df = df[(df['beta'] == round(beta, 1)) & (df['gamma'] == 0)]\n",
    "plt.scatter(tmp_df['m'], tmp_df['mean'], label='data')\n",
    "\n",
    "\n",
    "xs = np.linspace(10, 200, 20)\n",
    "ys = [6*fit_fun(x, 1, beta) for x in xs]\n",
    "\n",
    "plt.scatter(xs, ys, label='exact')\n",
    "plt.legend()"
   ]
  },
  {
   "cell_type": "code",
   "execution_count": null,
   "metadata": {},
   "outputs": [],
   "source": []
  }
 ],
 "metadata": {
  "kernelspec": {
   "display_name": "qc",
   "language": "python",
   "name": "python3"
  },
  "language_info": {
   "codemirror_mode": {
    "name": "ipython",
    "version": 3
   },
   "file_extension": ".py",
   "mimetype": "text/x-python",
   "name": "python",
   "nbconvert_exporter": "python",
   "pygments_lexer": "ipython3",
   "version": "3.8.12"
  },
  "orig_nbformat": 4,
  "vscode": {
   "interpreter": {
    "hash": "0ec6a07b5680b7cd4331b54bc02dbe3823b9a431e7975ff6d8e95dcfb04b0c38"
   }
  }
 },
 "nbformat": 4,
 "nbformat_minor": 2
}
