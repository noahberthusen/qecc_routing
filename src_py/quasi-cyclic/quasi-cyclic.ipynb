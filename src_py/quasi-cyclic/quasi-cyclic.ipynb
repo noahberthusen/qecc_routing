{
 "cells": [
  {
   "cell_type": "code",
   "execution_count": 5,
   "metadata": {},
   "outputs": [],
   "source": [
    "import numpy as np\n",
    "from numpy.linalg import matrix_power, matrix_rank\n",
    "import matplotlib.pyplot as plt\n",
    "import itertools\n",
    "import pandas as pd\n",
    "import galois\n",
    "from mec import make_circle\n",
    "import seaborn as sns\n",
    "from scipy.sparse import csr_matrix\n",
    "from scipy.stats import skew"
   ]
  },
  {
   "cell_type": "code",
   "execution_count": 35,
   "metadata": {},
   "outputs": [],
   "source": [
    "codes = [\n",
    "    [6,6,3,1,2,3,1,2],\n",
    "    [15,3,9,1,2,0,2,7],\n",
    "    [9,6,3,1,2,3,1,2],\n",
    "    [12,6,3,1,2,3,1,2],\n",
    "    [12,12,3,2,7,3,1,2],\n",
    "    [30,6,9,1,2,3,25,26],\n",
    "    [21,18,3,10,17,5,3,19]\n",
    "]\n",
    "code = codes[5]\n",
    "# code = [18,12,1,11,3,2,15,1]\n",
    "# code = [28,14,26,6,8,7,9,20]\n",
    "# code = [4,4,3,1,2,3,1,2]\n",
    "# code = [6,6,1,1,6,2,5,6]\n",
    "# code = [6,6,1,3,4,1,3,4]\n",
    "# code = [30,6,5,4,5,1,18,7] # 0.980 at 16.66% masked\n",
    "# code = [12,12,7,7,6,3,10,5]\n",
    "# code = [15,3,13,0,1,2,6,2]\n",
    "# code = [15,3,7,0,1,1,1,0] # 0.980 at 13.33% masked\n",
    "# code = [15,3,14,0,1,1,0,8]\n",
    "\n",
    "# code = [30,6,27,1,2,3,29,28] # [[360,12,12]] 0.984\n",
    "# code = [30,6,27,5,4,3,11,22] # [[360,12,12]] 0.9784\n",
    "# code = [30,6,27,2,1,3,29,1] # [[360,8,12]] 0.9803\n",
    "# code = [30,6,21,1,2,0,17,4] # [[360,8,12]] 0.9774\n",
    "# code = [30,6,27,5,4,3,11,22] # [[360,12,12]] 0.9774\n",
    "# code = [30,6,21,4,5,3,23,7] # [[360,8,12]] 0.9794\n",
    "# code = [15,3,11,1,0,0,14,13]\n",
    "code = [15,3,11,2,0,0,11,13]"
   ]
  },
  {
   "cell_type": "code",
   "execution_count": 36,
   "metadata": {},
   "outputs": [],
   "source": [
    "def cyclic_shift_matrix(l):\n",
    "    arr = np.eye(l, dtype=int)\n",
    "    return np.roll(arr, axis=1, shift=1)\n",
    "\n",
    "ell = code[0]\n",
    "m = code[1]\n",
    "\n",
    "x = np.kron(cyclic_shift_matrix(ell), np.eye(m))\n",
    "y = np.kron(np.eye(ell), cyclic_shift_matrix(m))"
   ]
  },
  {
   "cell_type": "code",
   "execution_count": 37,
   "metadata": {},
   "outputs": [],
   "source": [
    "A1 = matrix_power(x, code[2])\n",
    "A2 = matrix_power(y, code[3])\n",
    "A3 = matrix_power(y, code[4])\n",
    "A = ( A1 + A2 + A3 ) % 2\n",
    "\n",
    "B1 = matrix_power(y, code[5])\n",
    "B2 = matrix_power(x, code[6])\n",
    "B3 = matrix_power(x, code[7])\n",
    "B = ( B1 + B2 + B3 ) % 2"
   ]
  },
  {
   "cell_type": "code",
   "execution_count": 38,
   "metadata": {},
   "outputs": [],
   "source": [
    "Hx = np.hstack([A, B]).astype(int)\n",
    "Hz = np.hstack([B.T, A.T]).astype(int)\n",
    "# H = np.vstack([Hx, Hz])"
   ]
  },
  {
   "cell_type": "code",
   "execution_count": 39,
   "metadata": {},
   "outputs": [
    {
     "name": "stdout",
     "output_type": "stream",
     "text": [
      "k = 4\n"
     ]
    }
   ],
   "source": [
    "GF = galois.GF(2)\n",
    "arr = GF(Hz.T)\n",
    "print(f\"k = {2 * (Hz.T.shape[1] - matrix_rank(arr))}\")"
   ]
  },
  {
   "cell_type": "code",
   "execution_count": 40,
   "metadata": {},
   "outputs": [
    {
     "name": "stdout",
     "output_type": "stream",
     "text": [
      "[(3, 15, 2, 0), (3, 15, 2, 1), (3, 15, 2, 2), (3, 15, 2, 3), (3, 15, 2, 4), (3, 15, 2, 5), (3, 15, 3, 0), (3, 15, 3, 1), (3, 15, 3, 2), (3, 15, 3, 3), (3, 15, 3, 4), (3, 15, 3, 5)]\n"
     ]
    }
   ],
   "source": [
    "def has_toric_layout():\n",
    "    # As = [A1 @ A2.T, A2 @ A3.T, A1 @ A3.T]  # A2 @ A3.T cycling up, A3 @ A2.T cycling up, etc.\n",
    "    # Bs = [B1 @ B2.T, B2 @ B3.T, B1 @ B3.T]\n",
    "    As = [A1 @ A2.T, A2 @ A1.T, A2 @ A3.T, A3 @ A2.T, A1 @ A3.T, A3 @ A1.T ]\n",
    "    Bs = [B1 @ B2.T, B2 @ B1.T, B2 @ B3.T, B3 @ B2.T, B1 @ B3.T, B3 @ B1.T]\n",
    "\n",
    "\n",
    "    def has_toric_layout1():\n",
    "        def order(arr):\n",
    "            for i in range(1, m*ell):\n",
    "                if not np.any(np.eye(arr.shape[0]) - np.linalg.matrix_power(arr, i)):\n",
    "                    return i\n",
    "            return -1\n",
    "\n",
    "        Aorders = [order(AA) for AA in As]\n",
    "        Borders = [order(BB) for BB in Bs]\n",
    "\n",
    "        pot_orders = []\n",
    "        for i, Ao in enumerate(Aorders):\n",
    "            for j, Bo in enumerate(Borders):\n",
    "                if (Ao*Bo == m*ell):\n",
    "                    pot_orders.append((Ao,Bo,i,j))\n",
    "        return pot_orders\n",
    "\n",
    "    def has_toric_layout2(pot_codes):\n",
    "        emb_m, emb_ell, A_ind, B_ind = pot_codes\n",
    "\n",
    "        visited_qbts = set()\n",
    "\n",
    "        ver = csr_matrix(As[A_ind])\n",
    "        hor = csr_matrix(Bs[B_ind])\n",
    "\n",
    "        for i in range(emb_m):\n",
    "            tmp_qbt = (ver**i)[0].indices[0] if i else 0\n",
    "            for j in range(emb_ell):\n",
    "                visited_qbts |= {(hor**j)[tmp_qbt].indices[0] if j else tmp_qbt}\n",
    "\n",
    "        return len(visited_qbts) == ell*m\n",
    "\n",
    "    confirmed_codes = []\n",
    "    pot_codes = has_toric_layout1()\n",
    "    for pot_code in pot_codes:\n",
    "        if has_toric_layout2(pot_code):\n",
    "            confirmed_codes.append(pot_code)\n",
    "    return confirmed_codes\n",
    "\n",
    "confirmed_codes = has_toric_layout()\n",
    "print(confirmed_codes)"
   ]
  },
  {
   "cell_type": "code",
   "execution_count": 41,
   "metadata": {},
   "outputs": [],
   "source": [
    "def embed_code(code, init):\n",
    "    emb_m, emb_ell, A_ind, B_ind = code\n",
    "\n",
    "    lattice = np.empty((2*emb_m, 2*emb_ell), dtype=object)\n",
    "    lattice[0][0] = f\"x{init}\"\n",
    "\n",
    "    # As = [[A1, A2.T], [A2, A3.T], [A1, A3.T]]\n",
    "    # Bs = [[B1, B2.T], [B2, B3.T], [B1, B3.T]]\n",
    "    As = [[A1, A2.T], [A2, A1.T], [A2, A3.T], [A3, A2.T], [A1, A3.T], [A3, A1.T]]\n",
    "    Bs = [[B1, B2.T], [B2, B1.T], [B2, B3.T], [B3, B2.T], [B1, B3.T], [B3, B1.T]]\n",
    "\n",
    "    def get_nbr(i, j):\n",
    "        if (i % 2 == 0):\n",
    "            if (j % 2 == 0):\n",
    "                return \"x\"\n",
    "            else:\n",
    "                return \"r\"\n",
    "        else:\n",
    "            if (j % 2 == 0):\n",
    "                return \"l\"\n",
    "            else:\n",
    "                return \"z\"\n",
    "\n",
    "    for i in range(2*emb_m - 1):\n",
    "        for j in range(2*emb_ell):\n",
    "            curr_ind = int(lattice[i][j][1:])\n",
    "\n",
    "            if (i % 2 == 0):\n",
    "                tmp_A = As[A_ind][1]\n",
    "            else:\n",
    "                tmp_A = As[A_ind][0]\n",
    "            if (j % 2 == 0):\n",
    "                tmp_B = Bs[B_ind][1]\n",
    "            else:\n",
    "                tmp_B = Bs[B_ind][0]\n",
    "\n",
    "            lattice[(i+1)%(2*emb_m)][j] = f\"{get_nbr((i+1)%(2*emb_m), j)}{np.where(tmp_A @ np.eye(m*ell)[curr_ind])[0][0]}\"\n",
    "            lattice[i][(j+1)%(2*emb_ell)] = f\"{get_nbr(i, (j+1)%(2*emb_ell))}{np.where(tmp_B @ np.eye(m*ell)[curr_ind])[0][0]}\"\n",
    "\n",
    "    for i in range(2*emb_m):\n",
    "        for j in range(2*emb_ell):\n",
    "            if (lattice[i][j][0] == \"z\"):\n",
    "                lattice[i][j] = f\"z{int(lattice[i][j][1:]) + m*ell}\"\n",
    "            elif (lattice[i][j][0] == \"r\"):\n",
    "                lattice[i][j] = f\"r{int(lattice[i][j][1:]) + m*ell}\"\n",
    "\n",
    "    return lattice"
   ]
  },
  {
   "cell_type": "code",
   "execution_count": 42,
   "metadata": {},
   "outputs": [
    {
     "name": "stdout",
     "output_type": "stream",
     "text": [
      "0 (3, 15, 2, 0) 2.107958359931433\n",
      "1 (3, 15, 2, 1) 3.340787563580471\n",
      "2 (3, 15, 2, 2) 1.5079307606196808\n",
      "3 (3, 15, 2, 3) 1.0636586270696793\n",
      "4 (3, 15, 2, 4) 1.494359420460468\n",
      "5 (3, 15, 2, 5) 2.14632796051496\n",
      "6 (3, 15, 3, 0) 2.0741365878118874\n",
      "7 (3, 15, 3, 1) 3.2459494512494937\n",
      "8 (3, 15, 3, 2) 1.485159409915457\n",
      "9 (3, 15, 3, 3) 1.0475455833688598\n",
      "10 (3, 15, 3, 4) 1.4731467474674065\n",
      "11 (3, 15, 3, 5) 2.107780576603766\n"
     ]
    }
   ],
   "source": [
    "for c,code in enumerate(confirmed_codes):\n",
    "    lattice = embed_code(code, 0) \n",
    "    \n",
    "    colors = np.empty(lattice.shape, dtype=object)\n",
    "    for i in range(lattice.shape[0]):\n",
    "        for j in range(lattice.shape[1]):\n",
    "            if lattice[i][j][0] == \"x\":\n",
    "                colors[i][j] = \"red\"\n",
    "            elif lattice[i][j][0] == \"r\":\n",
    "                colors[i][j] = \"orange\"\n",
    "            elif lattice[i][j][0] == \"l\":\n",
    "                colors[i][j] = \"blue\"\n",
    "            else:\n",
    "                colors[i][j] = \"green\"\n",
    "\n",
    "    qbts = np.array([None for i in range(2*m*ell)])\n",
    "    for i in range(lattice.shape[0]):\n",
    "        for j in range(lattice.shape[1]):\n",
    "            if lattice[i][j][0] == \"r\" or lattice[i][j][0] == \"l\":\n",
    "                qbts[int(lattice[i][j][1:])] = (i, j)\n",
    "\n",
    "    rs = []\n",
    "    for i in range(m*ell):\n",
    "        gen_qbts = qbts[np.where(Hx[i])[0]]\n",
    "        rs.append(make_circle(gen_qbts)[2])\n",
    "    for i in range(m*ell):\n",
    "        gen_qbts = qbts[np.where(Hz[i])[0]]\n",
    "        rs.append(make_circle(gen_qbts)[2])\n",
    "\n",
    "    print(c, code, skew(rs))\n",
    "    # scaled_rs = [(r - min(rs)) / (max(rs) - min(rs)) for r in rs]\n",
    "\n",
    "    # bins = np.linspace(min(scaled_rs), max(scaled_rs), 20)\n",
    "    # counts, _ = np.histogram(scaled_rs, bins=bins)\n",
    "    # counts_weighter = counts.sum()\n",
    "\n",
    "    # print(code, sum([x*y for x,y in zip(counts/counts_weighter, bins[:-1])]))\n",
    "    # print(code, np.percentile(scaled_rs, 70))\n",
    "    # plt.hist(bins[:-1], bins=bins, weights=counts/counts_weighter, label=f\"{code}\", alpha=0.7)\n",
    "    # plt.legend()"
   ]
  },
  {
   "cell_type": "code",
   "execution_count": null,
   "metadata": {},
   "outputs": [],
   "source": []
  },
  {
   "cell_type": "code",
   "execution_count": 46,
   "metadata": {},
   "outputs": [
    {
     "data": {
      "text/plain": [
       "<matplotlib.collections.PathCollection at 0x2c0e2ece7c0>"
      ]
     },
     "execution_count": 46,
     "metadata": {},
     "output_type": "execute_result"
    },
    {
     "data": {
      "image/png": "[encoded data removed]",
      "text/plain": [
       "<Figure size 432x432 with 1 Axes>"
      ]
     },
     "metadata": {
      "needs_background": "light"
     },
     "output_type": "display_data"
    }
   ],
   "source": [
    "lattice = embed_code(confirmed_codes[5], 0) \n",
    "    \n",
    "colors = np.empty(lattice.shape, dtype=object)\n",
    "\n",
    "for i in range(lattice.shape[0]):\n",
    "    for j in range(lattice.shape[1]):\n",
    "        if lattice[i][j][0] == \"x\":\n",
    "            colors[i][j] = \"red\"\n",
    "        elif lattice[i][j][0] == \"r\":\n",
    "            colors[i][j] = \"orange\"\n",
    "        elif lattice[i][j][0] == \"l\":\n",
    "            colors[i][j] = \"blue\"\n",
    "        else:\n",
    "            colors[i][j] = \"green\"\n",
    "\n",
    "qbts = np.array([None for i in range(2*m*ell)])\n",
    "for i in range(lattice.shape[0]):\n",
    "    for j in range(lattice.shape[1]):\n",
    "        if lattice[i][j][0] == \"r\" or lattice[i][j][0] == \"l\":\n",
    "            qbts[int(lattice[i][j][1:])] = (i, j)\n",
    "x_checks = np.array([None for i in range(m*ell)])\n",
    "z_checks = np.array([None for i in range(m*ell)])\n",
    "\n",
    "for i in range(lattice.shape[0]):\n",
    "    for j in range(lattice.shape[1]):\n",
    "        if lattice[i][j][0] == \"x\":\n",
    "            x_checks[int(lattice[i][j][1:])] = (i, j)\n",
    "        elif lattice[i][j][0] == \"z\":\n",
    "            z_checks[int(lattice[i][j][1:])-(m*ell)] = (i, j)\n",
    "\n",
    "\n",
    "\n",
    "nodes = itertools.product(np.arange(lattice.shape[0]), np.arange(lattice.shape[1]))\n",
    "\n",
    "gen_qbts = qbts[np.where(Hx[4])[0]]\n",
    "\n",
    "fig, ax = plt.subplots(1, 1, figsize=(6, 6))\n",
    "ax.scatter(*zip(*nodes), s=50, c=colors.flatten()) # vv qubits\n",
    "ax.scatter(*zip(*gen_qbts), s=100, c='k')"
   ]
  },
  {
   "cell_type": "code",
   "execution_count": 47,
   "metadata": {},
   "outputs": [
    {
     "name": "stdout",
     "output_type": "stream",
     "text": [
      "[[(5, 0), (1, 26), (0, 27), (0, 29)], (0, 0)], large \n",
      "[[(3, 26), (2, 27), (2, 29)], (2, 0)], large \n",
      "[[(5, 26), (4, 27), (4, 29)], (4, 0)], large \n",
      "[[(5, 16), (1, 12), (0, 13)], (0, 16)], \n",
      "[[(3, 12), (2, 13)], (2, 16)], \n",
      "[[(5, 12), (4, 13)], (4, 16)], \n",
      "[[(5, 2), (1, 28), (0, 29)], (0, 2)], large \n",
      "[[(3, 28), (2, 29)], (2, 2)], large \n",
      "[[(5, 28), (4, 29)], (4, 2)], large \n",
      "[[(5, 18), (1, 14), (0, 15)], (0, 18)], \n",
      "[[(3, 14), (2, 15)], (2, 18)], \n",
      "[[(5, 14), (4, 15)], (4, 18)], \n",
      "[[(1, 0), (5, 4), (0, 1)], (0, 4)], \n",
      "[[(3, 0), (2, 1)], (2, 4)], \n",
      "[[(5, 0), (4, 1)], (4, 4)], \n",
      "[[(1, 16), (5, 20), (0, 17)], (0, 20)], \n",
      "[[(3, 16), (2, 17)], (2, 20)], \n",
      "[[(5, 16), (4, 17)], (4, 20)], \n",
      "[[(1, 2), (5, 6), (0, 3)], (0, 6)], \n",
      "[[(3, 2), (2, 3)], (2, 6)], \n",
      "[[(5, 2), (4, 3)], (4, 6)], \n",
      "[[(1, 18), (5, 22), (0, 19)], (0, 22)], \n",
      "[[(3, 18), (2, 19)], (2, 22)], \n",
      "[[(5, 18), (4, 19)], (4, 22)], \n",
      "[[(1, 4), (5, 8), (0, 5)], (0, 8)], \n",
      "[[(3, 4), (2, 5)], (2, 8)], \n",
      "[[(5, 4), (4, 5)], (4, 8)], \n",
      "[[(1, 20), (5, 24), (0, 21)], (0, 24)], \n",
      "[[(3, 20), (2, 21)], (2, 24)], \n",
      "[[(5, 20), (4, 21)], (4, 24)], \n",
      "[[(1, 6), (5, 10), (0, 7)], (0, 10)], \n",
      "[[(3, 6), (2, 7)], (2, 10)], \n",
      "[[(5, 6), (4, 7)], (4, 10)], \n",
      "[[(1, 22), (5, 26), (0, 23)], (0, 26)], \n",
      "[[(3, 22), (2, 23)], (2, 26)], \n",
      "[[(5, 22), (4, 23)], (4, 26)], \n",
      "[[(1, 8), (5, 12), (0, 9)], (0, 12)], \n",
      "[[(3, 8), (2, 9)], (2, 12)], \n",
      "[[(5, 8), (4, 9)], (4, 12)], \n",
      "[[(1, 24), (5, 28), (0, 25)], (0, 28)], \n",
      "[[(3, 24), (2, 25)], (2, 28)], \n",
      "[[(5, 24), (4, 25)], (4, 28)], \n",
      "[[(1, 10), (5, 14), (0, 11)], (0, 14)], \n",
      "[[(3, 10), (2, 11)], (2, 14)], \n",
      "[[(5, 10), (4, 11)], (4, 14)], \n",
      "\n"
     ]
    }
   ],
   "source": [
    "for i, x_check in enumerate(x_checks):\n",
    "    gen_qbts = qbts[np.where(Hx[i])[0]]\n",
    "\n",
    "    nonlocal_qbts = []\n",
    "    for qbt in gen_qbts:\n",
    "        if (abs(qbt[0] - x_check[0]) + abs(qbt[1] - x_check[1])) > 1:\n",
    "            nonlocal_qbts.append(qbt)\n",
    "\n",
    "    print([nonlocal_qbts, x_check], end=\", \")\n",
    "    # if (len(nonlocal_qbts) > 2): print(f'more than 2 nonlocal', end=\" \")\n",
    "    if make_circle(gen_qbts)[2] > 10: print('large', end=\" \")\n",
    "    print()\n",
    "\n",
    "print()\n",
    "# for i, z_check in enumerate(z_checks):\n",
    "#     gen_qbts = qbts[np.where(Hz[i])[0]]\n",
    "\n",
    "#     nonlocal_qbts = []\n",
    "#     for qbt in gen_qbts:\n",
    "#         if (abs(qbt[0] - z_check[0]) + abs(qbt[1] - z_check[1])) > 1:\n",
    "#             nonlocal_qbts.append(qbt)\n",
    "\n",
    "#     print([nonlocal_qbts, z_check], end=\", \")\n",
    "#     # if (len(nonlocal_qbts) > 2): print(f'more than 2 nonlocal', end=\" \")\n",
    "#     if make_circle(gen_qbts)[2] > 10: print('large', end=\" \")\n",
    "#     print()\n",
    "    \n",
    "    "
   ]
  },
  {
   "cell_type": "code",
   "execution_count": 45,
   "metadata": {},
   "outputs": [
    {
     "name": "stdout",
     "output_type": "stream",
     "text": [
      "4 0\n"
     ]
    },
    {
     "data": {
      "image/png": "[encoded data removed]",
      "text/plain": [
       "<Figure size 288x288 with 1 Axes>"
      ]
     },
     "metadata": {
      "needs_background": "light"
     },
     "output_type": "display_data"
    }
   ],
   "source": [
    "x_rs = []\n",
    "z_rs = []\n",
    "for i in range(m*ell):\n",
    "    gen_qbts = qbts[np.where(Hx[i])[0]]\n",
    "    x_rs.append(make_circle(gen_qbts)[2])\n",
    "for i in range(m*ell):\n",
    "    gen_qbts = qbts[np.where(Hz[i])[0]]\n",
    "    z_rs.append(make_circle(gen_qbts)[2])\n",
    "\n",
    "fig, ax = plt.subplots(1, 1, figsize=(4,4))\n",
    "rs = x_rs\n",
    "bins = np.linspace(min(rs), max(rs), 10)\n",
    "counts, _ = np.histogram(rs, bins=bins)\n",
    "counts_weighter = counts.sum()\n",
    "ax.hist(bins[:-1], bins=bins, weights=counts/counts_weighter, color='black')\n",
    "print(np.argmin(rs), np.argmax(rs))"
   ]
  },
  {
   "cell_type": "code",
   "execution_count": 34,
   "metadata": {},
   "outputs": [
    {
     "name": "stdout",
     "output_type": "stream",
     "text": [
      "260.0030610789719\n"
     ]
    },
    {
     "data": {
      "text/plain": [
       "<matplotlib.collections.PathCollection at 0x2c0e2d4a610>"
      ]
     },
     "execution_count": 34,
     "metadata": {},
     "output_type": "execute_result"
    },
    {
     "data": {
      "image/png": "[encoded data removed]",
      "text/plain": [
       "<Figure size 288x288 with 1 Axes>"
      ]
     },
     "metadata": {
      "needs_background": "light"
     },
     "output_type": "display_data"
    }
   ],
   "source": [
    "rs = []\n",
    "for i in range(m*ell):\n",
    "    gen_qbts = qbts[np.where(Hx[i])[0]]\n",
    "    rs.append(make_circle(gen_qbts)[2])\n",
    "# for i in range(m*ell):\n",
    "#     gen_qbts = qbts[np.where(Hz[i])[0]]\n",
    "#     rs.append(make_circle(gen_qbts)[2])\n",
    "\n",
    "# bins = np.linspace(min(rs), max(rs), 20)\n",
    "# counts, _ = np.histogram(rs, bins=bins)\n",
    "# counts_weighter = counts.sum()\n",
    "# plt.hist(bins[:-1], bins=bins, weights=counts/counts_weighter)\n",
    "rs = sorted(rs)\n",
    "print(sum(rs))\n",
    "\n",
    "fig, ax = plt.subplots(1, 1, figsize=(4,4))\n",
    "work = [sum((rs)[:int(i*len(rs))])/sum(rs) for i in np.linspace(0,1,100)]\n",
    "plt.scatter(np.linspace(0,1,100), work, c='k')"
   ]
  },
  {
   "cell_type": "code",
   "execution_count": 406,
   "metadata": {},
   "outputs": [
    {
     "name": "stdout",
     "output_type": "stream",
     "text": [
      "[0, 1, 2, 21, 22, 23, 33, 34, 35]\n",
      "0.2\n"
     ]
    }
   ],
   "source": [
    "arr = []\n",
    "for i, x in enumerate(x_rs):\n",
    "    if (x > (min(x_rs))+np.std(x_rs)):\n",
    "        arr.append(i)\n",
    "print(arr)\n",
    "print(len(arr)/Hx.shape[0])"
   ]
  },
  {
   "cell_type": "code",
   "execution_count": 3,
   "metadata": {},
   "outputs": [],
   "source": [
    "codes = pd.read_csv(\"./codes/30_6/codes.csv\")\n",
    "\n",
    "# codes['min'] = mins\n",
    "codes = codes.sort_values(by=['d','min','p_log'], ascending=[False,True,False])\n",
    "# codes = codes.sort_values(by=['p_log'], ascending=[False])\n",
    "\n",
    "# codes[:20]\n",
    "codes.to_csv(\"./codes/30_6/sorted_codes.csv\", index=None)"
   ]
  },
  {
   "cell_type": "code",
   "execution_count": null,
   "metadata": {},
   "outputs": [],
   "source": [
    "[[(5, 16)], (0, 16)], \n",
    "[[(5, 18)], (0, 18)], \n",
    "[[(5, 4)], (0, 4)], \n",
    "[[(5, 20)], (0, 20)], \n",
    "[[(5, 6)], (0, 6)], \n",
    "[[(5, 22)], (0, 22)], \n",
    "[[(5, 8),], (0, 8)], \n",
    "[[(5, 24)], (0, 24)], \n",
    "[[(5, 10)], (0, 10)], \n",
    "[[(5, 26)], (0, 26)], \n",
    "[[(5, 12)], (0, 12)], \n",
    "[[(5, 28)], (0, 28)], \n",
    "[[(5, 14)], (0, 14)], "
   ]
  }
 ],
 "metadata": {
  "kernelspec": {
   "display_name": "qc",
   "language": "python",
   "name": "python3"
  },
  "language_info": {
   "codemirror_mode": {
    "name": "ipython",
    "version": 3
   },
   "file_extension": ".py",
   "mimetype": "text/x-python",
   "name": "python",
   "nbconvert_exporter": "python",
   "pygments_lexer": "ipython3",
   "version": "3.8.17"
  },
  "orig_nbformat": 4
 },
 "nbformat": 4,
 "nbformat_minor": 2
}
