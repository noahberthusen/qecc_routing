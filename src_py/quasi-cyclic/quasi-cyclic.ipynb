{
 "cells": [
  {
   "cell_type": "code",
   "execution_count": 1,
   "metadata": {},
   "outputs": [],
   "source": [
    "import numpy as np\n",
    "from numpy.linalg import matrix_power, matrix_rank\n",
    "import matplotlib.pyplot as plt\n",
    "import itertools\n",
    "import galois\n",
    "from mec import make_circle\n",
    "import seaborn as sns\n",
    "from scipy.sparse import csr_matrix"
   ]
  },
  {
   "cell_type": "code",
   "execution_count": 2,
   "metadata": {},
   "outputs": [],
   "source": [
    "codes = [\n",
    "    [6,6,3,1,2,3,1,2],\n",
    "    [15,3,9,1,2,0,2,7],\n",
    "    [9,6,3,1,2,3,1,2],\n",
    "    [12,6,3,1,2,3,1,2],\n",
    "    [12,12,3,2,7,3,1,2],\n",
    "    [30,6,9,1,2,3,25,26],\n",
    "    [21,18,3,10,17,5,3,19]\n",
    "]\n",
    "code = codes[5]\n",
    "# code = [18,12,1,11,3,2,15,1]\n",
    "# code = [28,14,26,6,8,7,9,20]\n",
    "code = [4,4,3,1,2,3,1,2]"
   ]
  },
  {
   "cell_type": "code",
   "execution_count": 3,
   "metadata": {},
   "outputs": [],
   "source": [
    "def cyclic_shift_matrix(l):\n",
    "    arr = np.eye(l, dtype=int)\n",
    "    return np.roll(arr, axis=1, shift=1)\n",
    "\n",
    "ell = code[0]\n",
    "m = code[1]\n",
    "\n",
    "x = np.kron(cyclic_shift_matrix(ell), np.eye(m))\n",
    "y = np.kron(np.eye(ell), cyclic_shift_matrix(m))"
   ]
  },
  {
   "cell_type": "code",
   "execution_count": 4,
   "metadata": {},
   "outputs": [],
   "source": [
    "A1 = matrix_power(x, code[2])\n",
    "A2 = matrix_power(y, code[3])\n",
    "A3 = matrix_power(y, code[4])\n",
    "A = ( A1 + A2 + A3 ) % 2\n",
    "\n",
    "B1 = matrix_power(y, code[5])\n",
    "B2 = matrix_power(x, code[6])\n",
    "B3 = matrix_power(x, code[7])\n",
    "B = ( B1 + B2 + B3 ) % 2"
   ]
  },
  {
   "cell_type": "code",
   "execution_count": 5,
   "metadata": {},
   "outputs": [],
   "source": [
    "Hx = np.hstack([A, B]).astype(int)\n",
    "Hz = np.hstack([B.T, A.T]).astype(int)\n",
    "# H = np.vstack([Hx, Hz])"
   ]
  },
  {
   "cell_type": "code",
   "execution_count": 7,
   "metadata": {},
   "outputs": [
    {
     "name": "stdout",
     "output_type": "stream",
     "text": [
      "k = 0\n"
     ]
    }
   ],
   "source": [
    "GF = galois.GF(2)\n",
    "arr = GF(Hz.T)\n",
    "print(f\"k = {2 * (Hz.T.shape[1] - matrix_rank(arr))}\")"
   ]
  },
  {
   "cell_type": "code",
   "execution_count": 8,
   "metadata": {},
   "outputs": [
    {
     "name": "stdout",
     "output_type": "stream",
     "text": [
      "[(4, 4, 0, 2), (4, 4, 0, 3), (4, 4, 0, 4), (4, 4, 0, 5), (4, 4, 1, 2), (4, 4, 1, 3), (4, 4, 1, 4), (4, 4, 1, 5), (4, 4, 2, 0), (4, 4, 2, 1), (4, 4, 2, 2), (4, 4, 2, 3), (4, 4, 3, 0), (4, 4, 3, 1), (4, 4, 3, 2), (4, 4, 3, 3), (4, 4, 4, 0), (4, 4, 4, 1), (4, 4, 4, 4), (4, 4, 4, 5), (4, 4, 5, 0), (4, 4, 5, 1), (4, 4, 5, 4), (4, 4, 5, 5)]\n"
     ]
    }
   ],
   "source": [
    "def has_toric_layout():\n",
    "    # As = [A1 @ A2.T, A2 @ A3.T, A1 @ A3.T]  # A2 @ A3.T cycling up, A3 @ A2.T cycling up, etc.\n",
    "    # Bs = [B1 @ B2.T, B2 @ B3.T, B1 @ B3.T]\n",
    "    As = [A1 @ A2.T, A2 @ A1.T, A2 @ A3.T, A3 @ A2.T, A1 @ A3.T, A3 @ A1.T ]\n",
    "    Bs = [B1 @ B2.T, B2 @ B1.T, B2 @ B3.T, B3 @ B2.T, B1 @ B3.T, B3 @ B1.T]\n",
    "\n",
    "\n",
    "    def has_toric_layout1():\n",
    "        def order(arr):\n",
    "            for i in range(1, m*ell):\n",
    "                if not np.any(np.eye(arr.shape[0]) - np.linalg.matrix_power(arr, i)):\n",
    "                    return i\n",
    "            return -1\n",
    "\n",
    "        Aorders = [order(AA) for AA in As]\n",
    "        Borders = [order(BB) for BB in Bs]\n",
    "\n",
    "        pot_orders = []\n",
    "        for i, Ao in enumerate(Aorders):\n",
    "            for j, Bo in enumerate(Borders):\n",
    "                if (Ao*Bo == m*ell):\n",
    "                    pot_orders.append((Ao,Bo,i,j))\n",
    "        return pot_orders\n",
    "\n",
    "    def has_toric_layout2(pot_codes):\n",
    "        emb_m, emb_ell, A_ind, B_ind = pot_codes\n",
    "\n",
    "        visited_qbts = set()\n",
    "\n",
    "        ver = csr_matrix(As[A_ind])\n",
    "        hor = csr_matrix(Bs[B_ind])\n",
    "\n",
    "        for i in range(emb_m):\n",
    "            tmp_qbt = (ver**i)[0].indices[0] if i else 0\n",
    "            for j in range(emb_ell):\n",
    "                visited_qbts |= {(hor**j)[tmp_qbt].indices[0] if j else tmp_qbt}\n",
    "\n",
    "        return len(visited_qbts) == ell*m\n",
    "\n",
    "    confirmed_codes = []\n",
    "    pot_codes = has_toric_layout1()\n",
    "    for pot_code in pot_codes:\n",
    "        if has_toric_layout2(pot_code):\n",
    "            confirmed_codes.append(pot_code)\n",
    "    return confirmed_codes\n",
    "\n",
    "confirmed_codes = has_toric_layout()\n",
    "print(confirmed_codes)"
   ]
  },
  {
   "cell_type": "code",
   "execution_count": 9,
   "metadata": {},
   "outputs": [],
   "source": [
    "def embed_code(code, init):\n",
    "    emb_m, emb_ell, A_ind, B_ind = code\n",
    "\n",
    "    lattice = np.empty((2*emb_m, 2*emb_ell), dtype=object)\n",
    "    lattice[0][0] = f\"x{init}\"\n",
    "\n",
    "    # As = [[A1, A2.T], [A2, A3.T], [A1, A3.T]]\n",
    "    # Bs = [[B1, B2.T], [B2, B3.T], [B1, B3.T]]\n",
    "    As = [[A1, A2.T], [A2, A1.T], [A2, A3.T], [A3, A2.T], [A1, A3.T], [A3, A1.T]]\n",
    "    Bs = [[B1, B2.T], [B2, B1.T], [B2, B3.T], [B3, B2.T], [B1, B3.T], [B3, B1.T]]\n",
    "\n",
    "    def get_nbr(i, j):\n",
    "        if (i % 2 == 0):\n",
    "            if (j % 2 == 0):\n",
    "                return \"x\"\n",
    "            else:\n",
    "                return \"r\"\n",
    "        else:\n",
    "            if (j % 2 == 0):\n",
    "                return \"l\"\n",
    "            else:\n",
    "                return \"z\"\n",
    "\n",
    "    for i in range(2*emb_m - 1):\n",
    "        for j in range(2*emb_ell):\n",
    "            curr_ind = int(lattice[i][j][1:])\n",
    "\n",
    "            if (i % 2 == 0):\n",
    "                tmp_A = As[A_ind][1]\n",
    "            else:\n",
    "                tmp_A = As[A_ind][0]\n",
    "            if (j % 2 == 0):\n",
    "                tmp_B = Bs[B_ind][1]\n",
    "            else:\n",
    "                tmp_B = Bs[B_ind][0]\n",
    "\n",
    "            lattice[(i+1)%(2*emb_m)][j] = f\"{get_nbr((i+1)%(2*emb_m), j)}{np.where(tmp_A @ np.eye(m*ell)[curr_ind])[0][0]}\"\n",
    "            lattice[i][(j+1)%(2*emb_ell)] = f\"{get_nbr(i, (j+1)%(2*emb_ell))}{np.where(tmp_B @ np.eye(m*ell)[curr_ind])[0][0]}\"\n",
    "\n",
    "    for i in range(2*emb_m):\n",
    "        for j in range(2*emb_ell):\n",
    "            if (lattice[i][j][0] == \"z\"):\n",
    "                lattice[i][j] = f\"z{int(lattice[i][j][1:]) + m*ell}\"\n",
    "            elif (lattice[i][j][0] == \"r\"):\n",
    "                lattice[i][j] = f\"r{int(lattice[i][j][1:]) + m*ell}\"\n",
    "\n",
    "    return lattice"
   ]
  },
  {
   "cell_type": "code",
   "execution_count": 10,
   "metadata": {},
   "outputs": [
    {
     "name": "stdout",
     "output_type": "stream",
     "text": [
      "(4, 4, 0, 2) 0.28618421052631576\n",
      "(4, 4, 0, 3) 0.3980263157894737\n",
      "(4, 4, 0, 4) 0.381578947368421\n",
      "(4, 4, 0, 5) 0.46710526315789475\n",
      "(4, 4, 1, 2) 0.381578947368421\n",
      "(4, 4, 1, 3) 0.46710526315789475\n",
      "(4, 4, 1, 4) 0.28618421052631576\n",
      "(4, 4, 1, 5) 0.3980263157894737\n",
      "(4, 4, 2, 0) 0.28618421052631576\n",
      "(4, 4, 2, 1) 0.381578947368421\n",
      "(4, 4, 2, 2) 0.4605263157894737\n",
      "(4, 4, 2, 3) 0.4473684210526316\n",
      "(4, 4, 3, 0) 0.3980263157894737\n",
      "(4, 4, 3, 1) 0.46710526315789475\n",
      "(4, 4, 3, 2) 0.4473684210526316\n",
      "(4, 4, 3, 3) 0.4539473684210526\n",
      "(4, 4, 4, 0) 0.381578947368421\n",
      "(4, 4, 4, 1) 0.28618421052631576\n",
      "(4, 4, 4, 4) 0.4605263157894737\n",
      "(4, 4, 4, 5) 0.4473684210526316\n",
      "(4, 4, 5, 0) 0.46710526315789475\n",
      "(4, 4, 5, 1) 0.3980263157894737\n",
      "(4, 4, 5, 4) 0.4473684210526316\n",
      "(4, 4, 5, 5) 0.4539473684210526\n"
     ]
    }
   ],
   "source": [
    "for code in confirmed_codes:\n",
    "    lattice = embed_code(code, 0) \n",
    "    \n",
    "    colors = np.empty(lattice.shape, dtype=object)\n",
    "    for i in range(lattice.shape[0]):\n",
    "        for j in range(lattice.shape[1]):\n",
    "            if lattice[i][j][0] == \"x\":\n",
    "                colors[i][j] = \"red\"\n",
    "            elif lattice[i][j][0] == \"r\":\n",
    "                colors[i][j] = \"orange\"\n",
    "            elif lattice[i][j][0] == \"l\":\n",
    "                colors[i][j] = \"blue\"\n",
    "            else:\n",
    "                colors[i][j] = \"green\"\n",
    "\n",
    "    qbts = np.array([None for i in range(2*m*ell)])\n",
    "    for i in range(lattice.shape[0]):\n",
    "        for j in range(lattice.shape[1]):\n",
    "            if lattice[i][j][0] == \"r\" or lattice[i][j][0] == \"l\":\n",
    "                qbts[int(lattice[i][j][1:])] = (i, j)\n",
    "\n",
    "    rs = []\n",
    "    for i in range(m*ell):\n",
    "        gen_qbts = qbts[np.where(Hx[i])[0]]\n",
    "        rs.append(make_circle(gen_qbts)[2])\n",
    "    for i in range(m*ell):\n",
    "        gen_qbts = qbts[np.where(Hz[i])[0]]\n",
    "        rs.append(make_circle(gen_qbts)[2])\n",
    "    scaled_rs = [(r - min(rs)) / (max(rs) - min(rs)) for r in rs]\n",
    "\n",
    "    bins = np.linspace(min(scaled_rs), max(scaled_rs), 20)\n",
    "    counts, _ = np.histogram(scaled_rs, bins=bins)\n",
    "    counts_weighter = counts.sum()\n",
    "\n",
    "    print(code, sum([x*y for x,y in zip(counts/counts_weighter, bins[:-1])]))\n",
    "    # print(code, np.percentile(scaled_rs, 70))\n",
    "    # plt.hist(bins[:-1], bins=bins, weights=counts/counts_weighter, label=f\"{code}\", alpha=0.7)\n",
    "    # plt.legend()"
   ]
  },
  {
   "cell_type": "code",
   "execution_count": 11,
   "metadata": {},
   "outputs": [
    {
     "data": {
      "text/plain": [
       "<matplotlib.collections.PathCollection at 0x1d064329dc0>"
      ]
     },
     "execution_count": 11,
     "metadata": {},
     "output_type": "execute_result"
    },
    {
     "data": {
      "image/png": "[encoded data removed]",
      "text/plain": [
       "<Figure size 432x432 with 1 Axes>"
      ]
     },
     "metadata": {
      "needs_background": "light"
     },
     "output_type": "display_data"
    }
   ],
   "source": [
    "lattice = embed_code((4,4,3,0), 0) \n",
    "    \n",
    "colors = np.empty(lattice.shape, dtype=object)\n",
    "\n",
    "for i in range(lattice.shape[0]):\n",
    "    for j in range(lattice.shape[1]):\n",
    "        if lattice[i][j][0] == \"x\":\n",
    "            colors[i][j] = \"red\"\n",
    "        elif lattice[i][j][0] == \"r\":\n",
    "            colors[i][j] = \"orange\"\n",
    "        elif lattice[i][j][0] == \"l\":\n",
    "            colors[i][j] = \"blue\"\n",
    "        else:\n",
    "            colors[i][j] = \"green\"\n",
    "\n",
    "qbts = np.array([None for i in range(2*m*ell)])\n",
    "for i in range(lattice.shape[0]):\n",
    "    for j in range(lattice.shape[1]):\n",
    "        if lattice[i][j][0] == \"r\" or lattice[i][j][0] == \"l\":\n",
    "            qbts[int(lattice[i][j][1:])] = (i, j)\n",
    "\n",
    "\n",
    "nodes = itertools.product(np.arange(lattice.shape[0]), np.arange(lattice.shape[1]))\n",
    "\n",
    "gen_qbts = qbts[np.where(Hx[1])[0]]\n",
    "\n",
    "fig, ax = plt.subplots(1, 1, figsize=(6, 6))\n",
    "ax.scatter(*zip(*nodes), s=50, c=colors.flatten()) # vv qubits\n",
    "ax.scatter(*zip(*gen_qbts), s=100, c='k')"
   ]
  },
  {
   "cell_type": "code",
   "execution_count": 210,
   "metadata": {},
   "outputs": [
    {
     "data": {
      "text/plain": [
       "(array([0.7       , 0.        , 0.        , 0.        , 0.        ,\n",
       "        0.        , 0.        , 0.        , 0.        , 0.        ,\n",
       "        0.        , 0.        , 0.        , 0.        , 0.11111111,\n",
       "        0.15555556, 0.        , 0.        , 0.03333333]),\n",
       " array([ 9.61769203, 10.69088362, 11.7640752 , 12.83726679, 13.91045838,\n",
       "        14.98364996, 16.05684155, 17.13003314, 18.20322472, 19.27641631,\n",
       "        20.3496079 , 21.42279948, 22.49599107, 23.56918266, 24.64237424,\n",
       "        25.71556583, 26.78875742, 27.861949  , 28.93514059, 30.00833218]),\n",
       " <BarContainer object of 19 artists>)"
      ]
     },
     "execution_count": 210,
     "metadata": {},
     "output_type": "execute_result"
    },
    {
     "data": {
      "image/png": "[encoded data removed]",
      "text/plain": [
       "<Figure size 432x288 with 1 Axes>"
      ]
     },
     "metadata": {
      "needs_background": "light"
     },
     "output_type": "display_data"
    }
   ],
   "source": [
    "rs = []\n",
    "for i in range(m*ell):\n",
    "    gen_qbts = qbts[np.where(Hx[i])[0]]\n",
    "    rs.append(make_circle(gen_qbts)[2])\n",
    "for i in range(m*ell):\n",
    "    gen_qbts = qbts[np.where(Hz[i])[0]]\n",
    "    rs.append(make_circle(gen_qbts)[2])\n",
    "\n",
    "bins = np.linspace(min(rs), max(rs), 20)\n",
    "counts, _ = np.histogram(rs, bins=bins)\n",
    "counts_weighter = counts.sum()\n",
    "plt.hist(bins[:-1], bins=bins, weights=counts/counts_weighter)\n",
    "# print(rs)"
   ]
  },
  {
   "cell_type": "code",
   "execution_count": 204,
   "metadata": {},
   "outputs": [
    {
     "name": "stdout",
     "output_type": "stream",
     "text": [
      "[30.008332176247315, 29.508474576271187, 29.508474576271187, 29.508474576271187, 29.508474576271187, 29.508474576271187, 10.514000190222559, 10.51189802081432, 9.617692030835673, 9.617692030835673, 9.617692030835673, 9.617692030835673, 10.514000190222559, 10.51189802081432, 9.617692030835673, 9.617692030835673, 9.617692030835673, 9.617692030835673, 10.514000190222559, 10.51189802081432, 9.617692030835673, 9.617692030835673, 9.617692030835673, 9.617692030835673, 10.514000190222559, 10.51189802081432, 9.617692030835673, 9.617692030835673, 9.617692030835673, 9.617692030835673, 10.514000190222559, 10.51189802081432, 9.617692030835673, 9.617692030835673, 9.617692030835673, 9.617692030835673, 10.514000190222559, 10.51189802081432, 9.617692030835673, 9.617692030835673, 9.617692030835673, 9.617692030835673, 10.514000190222559, 10.51189802081432, 9.617692030835673, 9.617692030835673, 9.617692030835673, 9.617692030835673, 10.514000190222559, 10.51189802081432, 9.617692030835673, 9.617692030835673, 9.617692030835673, 9.617692030835673, 10.514000190222559, 10.51189802081432, 9.617692030835673, 9.617692030835673, 9.617692030835673, 9.617692030835673, 10.514000190222559, 10.51189802081432, 9.617692030835673, 9.617692030835673, 9.617692030835673, 9.617692030835673, 10.514000190222559, 10.51189802081432, 9.617692030835673, 9.617692030835673, 9.617692030835673, 9.617692030835673, 10.514000190222562, 10.51189802081432, 9.617692030835673, 9.617692030835673, 9.617692030835673, 9.617692030835673, 10.514000190222562, 10.51189802081432, 9.617692030835673, 9.617692030835673, 9.617692030835673, 9.617692030835673, 10.514000190222562, 10.51189802081432, 9.617692030835673, 9.617692030835673, 9.617692030835673, 9.617692030835673, 10.514000190222562, 10.51189802081432, 9.617692030835673, 9.617692030835673, 9.617692030835673, 9.617692030835673, 10.514000190222562, 10.51189802081432, 9.617692030835673, 9.617692030835673, 9.617692030835673, 9.617692030835673, 10.514000190222562, 10.51189802081432, 9.617692030835673, 9.617692030835673, 9.617692030835673, 9.617692030835673, 10.514000190222562, 10.51189802081432, 9.617692030835673, 9.617692030835673, 9.617692030835673, 9.617692030835673, 10.514000190222562, 10.51189802081432, 9.617692030835673, 9.617692030835673, 9.617692030835673, 9.617692030835673, 10.514000190222562, 10.51189802081432, 9.617692030835673, 9.617692030835673, 9.617692030835673, 9.617692030835673, 25.544079548889602, 25.544079548889602, 25.8940147524481, 25.544079548889602, 25.544079548889602, 25.544079548889602, 25.544079548889602, 25.544079548889602, 25.8940147524481, 25.544079548889602, 25.544079548889602, 25.544079548889602, 25.544079548889602, 25.544079548889602, 25.8940147524481, 25.544079548889602, 25.544079548889602, 25.544079548889602, 25.544079548889602, 25.544079548889602, 25.8940147524481, 25.544079548889602, 25.544079548889602, 25.544079548889602, 25.544079548889602, 25.544079548889602, 25.8940147524481, 25.544079548889602, 25.544079548889602, 25.544079548889602, 26.17315823394681, 26.1725046566048, 26.1725046566048, 26.1725046566048, 26.1725046566048, 26.1725046566048, 26.17315823394681, 26.1725046566048, 26.1725046566048, 26.1725046566048, 26.1725046566048, 26.1725046566048, 26.17315823394681, 26.1725046566048, 26.1725046566048, 26.1725046566048, 26.1725046566048, 26.1725046566048, 26.17315823394681, 26.1725046566048, 26.1725046566048, 26.1725046566048, 26.1725046566048, 26.1725046566048, 25.544079548889602, 25.544079548889602, 25.544079548889602, 25.544079548889602, 25.544079548889602, 25.8940147524481, 25.544079548889602, 25.544079548889602, 25.544079548889602, 25.544079548889602, 25.544079548889602, 25.8940147524481, 25.544079548889602, 25.544079548889602, 25.544079548889602, 25.544079548889602, 25.544079548889602, 25.8940147524481, 25.544079548889602, 25.544079548889602, 25.544079548889602, 25.544079548889602, 25.544079548889602, 25.8940147524481, 25.544079548889602, 25.544079548889602, 25.544079548889602, 25.544079548889602, 25.544079548889602, 25.8940147524481, 10.51189802081432, 10.514000190222559, 9.617692030835673, 9.617692030835673, 9.617692030835673, 9.617692030835673, 10.51189802081432, 10.514000190222559, 9.617692030835673, 9.617692030835673, 9.617692030835673, 9.617692030835673, 10.51189802081432, 10.514000190222559, 9.617692030835673, 9.617692030835673, 9.617692030835673, 9.617692030835673, 10.51189802081432, 10.514000190222559, 9.617692030835673, 9.617692030835673, 9.617692030835673, 9.617692030835673, 10.51189802081432, 10.514000190222559, 9.617692030835673, 9.617692030835673, 9.617692030835673, 9.617692030835673, 10.51189802081432, 10.514000190222559, 9.617692030835673, 9.617692030835673, 9.617692030835673, 9.617692030835673, 10.51189802081432, 10.514000190222559, 9.617692030835673, 9.617692030835673, 9.617692030835673, 9.617692030835673, 10.51189802081432, 10.514000190222559, 9.617692030835673, 9.617692030835673, 9.617692030835673, 9.617692030835673, 10.51189802081432, 10.514000190222559, 9.617692030835673, 9.617692030835673, 9.617692030835673, 9.617692030835673, 10.51189802081432, 10.514000190222559, 9.617692030835673, 9.617692030835673, 9.617692030835673, 9.617692030835673, 10.51189802081432, 10.514000190222559, 9.617692030835673, 9.617692030835673, 9.617692030835673, 9.617692030835673, 10.51189802081432, 10.514000190222562, 9.617692030835673, 9.617692030835673, 9.617692030835673, 9.617692030835673, 10.51189802081432, 10.514000190222562, 9.617692030835673, 9.617692030835673, 9.617692030835673, 9.617692030835673, 10.51189802081432, 10.514000190222562, 9.617692030835673, 9.617692030835673, 9.617692030835673, 9.617692030835673, 10.51189802081432, 10.514000190222562, 9.617692030835673, 9.617692030835673, 9.617692030835673, 9.617692030835673, 10.51189802081432, 10.514000190222562, 9.617692030835673, 9.617692030835673, 9.617692030835673, 9.617692030835673, 10.51189802081432, 10.514000190222562, 9.617692030835673, 9.617692030835673, 9.617692030835673, 9.617692030835673, 10.51189802081432, 10.514000190222562, 9.617692030835673, 9.617692030835673, 9.617692030835673, 9.617692030835673, 10.51189802081432, 10.514000190222562, 9.617692030835673, 9.617692030835673, 9.617692030835673, 9.617692030835673, 10.51189802081432, 10.514000190222562, 9.617692030835673, 9.617692030835673, 9.617692030835673, 9.617692030835673, 29.508474576271187, 30.008332176247315, 29.508474576271187, 29.508474576271187, 29.508474576271187, 29.508474576271187, 26.1725046566048, 26.17315823394681, 26.1725046566048, 26.1725046566048, 26.1725046566048, 26.1725046566048, 26.1725046566048, 26.17315823394681, 26.1725046566048, 26.1725046566048, 26.1725046566048, 26.1725046566048, 26.1725046566048, 26.17315823394681, 26.1725046566048, 26.1725046566048, 26.1725046566048, 26.1725046566048, 26.1725046566048, 26.17315823394681, 26.1725046566048, 26.1725046566048, 26.1725046566048, 26.1725046566048]\n"
     ]
    }
   ],
   "source": [
    "rs = []\n",
    "for i in range(m*ell):\n",
    "    gen_qbts = qbts[np.where(Hx[i])[0]]\n",
    "    rs.append(make_circle(gen_qbts)[2])\n",
    "for i in range(m*ell):\n",
    "    gen_qbts = qbts[np.where(Hz[i])[0]]\n",
    "    rs.append(make_circle(gen_qbts)[2])\n",
    "\n",
    "# bins = np.linspace(min(rs), max(rs), 20)\n",
    "# counts, _ = np.histogram(rs, bins=bins)\n",
    "# counts_weighter = counts.sum()\n",
    "# plt.hist(bins[:-1], bins=bins, weights=counts/counts_weighter)\n",
    "print(rs)"
   ]
  },
  {
   "cell_type": "code",
   "execution_count": 135,
   "metadata": {},
   "outputs": [
    {
     "data": {
      "text/plain": [
       "(array([0.375 , 0.    , 0.    , 0.    , 0.1875, 0.    , 0.    , 0.    ,\n",
       "        0.1875, 0.    , 0.125 , 0.    , 0.    , 0.0625, 0.    , 0.    ,\n",
       "        0.    , 0.    , 0.0625]),\n",
       " array([0.        , 0.05263158, 0.10526316, 0.15789474, 0.21052632,\n",
       "        0.26315789, 0.31578947, 0.36842105, 0.42105263, 0.47368421,\n",
       "        0.52631579, 0.57894737, 0.63157895, 0.68421053, 0.73684211,\n",
       "        0.78947368, 0.84210526, 0.89473684, 0.94736842, 1.        ]),\n",
       " <BarContainer object of 19 artists>)"
      ]
     },
     "execution_count": 135,
     "metadata": {},
     "output_type": "execute_result"
    },
    {
     "data": {
      "image/png": "[encoded data removed]",
      "text/plain": [
       "<Figure size 432x288 with 1 Axes>"
      ]
     },
     "metadata": {
      "needs_background": "light"
     },
     "output_type": "display_data"
    }
   ],
   "source": [
    "rs = []\n",
    "for i in range(m*ell):\n",
    "    gen_qbts = qbts[np.where(Hx[i])[0]]\n",
    "    rs.append(make_circle(gen_qbts)[2])\n",
    "for i in range(m*ell):\n",
    "    gen_qbts = qbts[np.where(Hz[i])[0]]\n",
    "    rs.append(make_circle(gen_qbts)[2])\n",
    "    \n",
    "scaled_rs = [(r - min(rs)) / (max(rs) - min(rs)) for r in rs]\n",
    "\n",
    "bins = np.linspace(min(scaled_rs), max(scaled_rs), 20)\n",
    "counts, _ = np.histogram(scaled_rs, bins=bins)\n",
    "counts_weighter = counts.sum()\n",
    "plt.hist(bins[:-1], bins=bins, weights=counts/counts_weighter)"
   ]
  },
  {
   "cell_type": "code",
   "execution_count": 136,
   "metadata": {},
   "outputs": [
    {
     "data": {
      "text/plain": [
       "0.28618421052631576"
      ]
     },
     "execution_count": 136,
     "metadata": {},
     "output_type": "execute_result"
    }
   ],
   "source": [
    "sum([x*y for x,y in zip(counts/counts_weighter, bins[:-1])])"
   ]
  },
  {
   "cell_type": "code",
   "execution_count": 115,
   "metadata": {},
   "outputs": [],
   "source": [
    "n = 4\n",
    "for combination in itertools.product(range(1, n + 1), repeat=3):\n",
    "    var1, var2, var3 = combination\n",
    "    # Do something with var1, var2, and var3"
   ]
  },
  {
   "cell_type": "code",
   "execution_count": 158,
   "metadata": {},
   "outputs": [
    {
     "data": {
      "text/plain": [
       "array([['x15', 'r19', 'x11', 'r31', 'x7', 'r27', 'x3', 'r23'],\n",
       "       ['l12', 'z16', 'l8', 'z28', 'l4', 'z24', 'l0', 'z20'],\n",
       "       ['x0', 'r20', 'x12', 'r16', 'x8', 'r28', 'x4', 'r24'],\n",
       "       ['l1', 'z21', 'l13', 'z17', 'l9', 'z29', 'l5', 'z25'],\n",
       "       ['x5', 'r25', 'x1', 'r21', 'x13', 'r17', 'x9', 'r29'],\n",
       "       ['l6', 'z26', 'l2', 'z22', 'l14', 'z18', 'l10', 'z30'],\n",
       "       ['x10', 'r30', 'x6', 'r26', 'x2', 'r22', 'x14', 'r18'],\n",
       "       ['l11', 'z31', 'l7', 'z27', 'l3', 'z23', 'l15', 'z19']],\n",
       "      dtype=object)"
      ]
     },
     "execution_count": 158,
     "metadata": {},
     "output_type": "execute_result"
    }
   ],
   "source": [
    "lattice"
   ]
  },
  {
   "cell_type": "code",
   "execution_count": null,
   "metadata": {},
   "outputs": [],
   "source": []
  }
 ],
 "metadata": {
  "kernelspec": {
   "display_name": "qc",
   "language": "python",
   "name": "python3"
  },
  "language_info": {
   "codemirror_mode": {
    "name": "ipython",
    "version": 3
   },
   "file_extension": ".py",
   "mimetype": "text/x-python",
   "name": "python",
   "nbconvert_exporter": "python",
   "pygments_lexer": "ipython3",
   "version": "3.8.17"
  },
  "orig_nbformat": 4
 },
 "nbformat": 4,
 "nbformat_minor": 2
}
