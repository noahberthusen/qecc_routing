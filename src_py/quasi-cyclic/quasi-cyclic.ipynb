{
 "cells": [
  {
   "cell_type": "code",
   "execution_count": 111,
   "metadata": {},
   "outputs": [],
   "source": [
    "import numpy as np\n",
    "from numpy.linalg import matrix_power, matrix_rank\n",
    "import matplotlib.pyplot as plt\n",
    "import itertools\n",
    "import galois\n",
    "from mec import make_circle\n",
    "import seaborn as sns\n",
    "from scipy.sparse import csr_matrix, csc_matrix, eye"
   ]
  },
  {
   "cell_type": "code",
   "execution_count": 248,
   "metadata": {},
   "outputs": [],
   "source": [
    "codes = [\n",
    "    [6,6,3,1,2,3,1,2],\n",
    "    [15,3,9,1,2,0,2,7],\n",
    "    [9,6,3,1,2,3,1,2],\n",
    "    [12,6,3,1,2,3,1,2],\n",
    "    [12,12,3,2,7,3,1,2],\n",
    "    [30,6,9,1,2,3,25,26],\n",
    "    [21,18,3,10,17,5,3,19]\n",
    "]\n",
    "code = codes[2]\n",
    "# code = [18,12,1,11,3,2,15,1]\n",
    "# code = [28,14,26,6,8,7,9,20]\n",
    "# code = [3,3,3,1,2,3,1,2]"
   ]
  },
  {
   "cell_type": "code",
   "execution_count": 249,
   "metadata": {},
   "outputs": [],
   "source": [
    "def cyclic_shift_matrix(l):\n",
    "    arr = np.eye(l, dtype=int)\n",
    "    return np.roll(arr, axis=1, shift=1)\n",
    "\n",
    "ell = code[0]\n",
    "m = code[1]\n",
    "\n",
    "x = np.kron(cyclic_shift_matrix(ell), np.eye(m))\n",
    "y = np.kron(np.eye(ell), cyclic_shift_matrix(m))"
   ]
  },
  {
   "cell_type": "code",
   "execution_count": 250,
   "metadata": {},
   "outputs": [],
   "source": [
    "A1 = matrix_power(x, code[2])\n",
    "A2 = matrix_power(y, code[3])\n",
    "A3 = matrix_power(y, code[4])\n",
    "A = ( A1 + A2 + A3 ) % 2\n",
    "\n",
    "B1 = matrix_power(y, code[5])\n",
    "B2 = matrix_power(x, code[6])\n",
    "B3 = matrix_power(x, code[7])\n",
    "B = ( B1 + B2 + B3 ) % 2"
   ]
  },
  {
   "cell_type": "code",
   "execution_count": 251,
   "metadata": {},
   "outputs": [],
   "source": [
    "Hx = np.hstack([A, B]).astype(int)\n",
    "Hz = np.hstack([B.T, A.T]).astype(int)\n",
    "# H = np.vstack([Hx, Hz])"
   ]
  },
  {
   "cell_type": "code",
   "execution_count": 252,
   "metadata": {},
   "outputs": [
    {
     "name": "stdout",
     "output_type": "stream",
     "text": [
      "k = 8\n"
     ]
    }
   ],
   "source": [
    "GF = galois.GF(2)\n",
    "arr = GF(Hz.T)\n",
    "print(f\"k = {2 * (Hz.T.shape[1] - matrix_rank(arr))}\")"
   ]
  },
  {
   "cell_type": "code",
   "execution_count": 253,
   "metadata": {},
   "outputs": [
    {
     "data": {
      "text/plain": [
       "[(6, 9, 0, 1), (6, 9, 1, 1), (3, 18, 2, 0), (3, 18, 2, 2)]"
      ]
     },
     "execution_count": 253,
     "metadata": {},
     "output_type": "execute_result"
    }
   ],
   "source": [
    "As = [A1 @ A2.T, A2 @ A3.T, A1 @ A3.T]  # A2 @ A3.T cycling up, A3 @ A2.T cycling up, etc.\n",
    "Bs = [B1 @ B2.T, B2 @ B3.T, B1 @ B3.T]\n",
    "\n",
    "def has_toric_layout1():\n",
    "    def order(arr):\n",
    "        for i in range(1, m*ell):\n",
    "            if not np.any(np.eye(arr.shape[0]) - np.linalg.matrix_power(arr, i)):\n",
    "                return i\n",
    "        return -1\n",
    "    \n",
    "    Aorders = [order(As[0]), order(As[1]), order(As[2])]\n",
    "    Borders = [order(Bs[0]), order(Bs[1]), order(Bs[2])]\n",
    "\n",
    "    pot_orders = []\n",
    "    for i, Ao in enumerate(Aorders):\n",
    "        for j, Bo in enumerate(Borders):\n",
    "            if (Ao*Bo == m*ell):\n",
    "                pot_orders.append((Ao,Bo,i,j))\n",
    "    return pot_orders\n",
    "\n",
    "has_toric_layout1()"
   ]
  },
  {
   "cell_type": "code",
   "execution_count": 254,
   "metadata": {},
   "outputs": [],
   "source": [
    "def has_toric_layout2(pot_order):\n",
    "    emb_m, emb_ell, A_ind, B_ind = pot_order\n",
    "\n",
    "    visited_qbts = set()\n",
    "\n",
    "    ver = csr_matrix(As[A_ind])\n",
    "    hor = csr_matrix(Bs[B_ind])  \n",
    "\n",
    "    for i in range(emb_m):\n",
    "        tmp_qbt = (ver**i)[0].indices[0] if i else 0\n",
    "        for j in range(emb_ell):\n",
    "            visited_qbts |= {(hor**j)[tmp_qbt].indices[0] if j else tmp_qbt}\n",
    "\n",
    "    return len(visited_qbts) == ell*m\n"
   ]
  },
  {
   "cell_type": "code",
   "execution_count": 255,
   "metadata": {},
   "outputs": [
    {
     "data": {
      "text/plain": [
       "[(6, 9, 0, 1), (6, 9, 1, 1), (3, 18, 2, 0), (3, 18, 2, 2)]"
      ]
     },
     "execution_count": 255,
     "metadata": {},
     "output_type": "execute_result"
    }
   ],
   "source": [
    "def has_toric_layout():\n",
    "    As = [A1 @ A2.T, A2 @ A3.T, A1 @ A3.T]  # A2 @ A3.T cycling up, A3 @ A2.T cycling up, etc.\n",
    "    Bs = [B1 @ B2.T, B2 @ B3.T, B1 @ B3.T]\n",
    "\n",
    "    def has_toric_layout1():\n",
    "        def order(arr):\n",
    "            for i in range(1, m*ell):\n",
    "                if not np.any(np.eye(arr.shape[0]) - np.linalg.matrix_power(arr, i)):\n",
    "                    return i\n",
    "            return -1\n",
    "\n",
    "        Aorders = [order(As[0]), order(As[1]), order(As[2])]\n",
    "        Borders = [order(Bs[0]), order(Bs[1]), order(Bs[2])]\n",
    "\n",
    "        pot_orders = []\n",
    "        for i, Ao in enumerate(Aorders):\n",
    "            for j, Bo in enumerate(Borders):\n",
    "                if (Ao*Bo == m*ell):\n",
    "                    pot_orders.append((Ao,Bo,i,j))\n",
    "        return pot_orders\n",
    "\n",
    "    def has_toric_layout2(pot_codes):\n",
    "        emb_m, emb_ell, A_ind, B_ind = pot_codes\n",
    "\n",
    "        visited_qbts = set()\n",
    "\n",
    "        ver = csr_matrix(As[A_ind])\n",
    "        hor = csr_matrix(Bs[B_ind])\n",
    "\n",
    "        for i in range(emb_m):\n",
    "            tmp_qbt = (ver**i)[0].indices[0] if i else 0\n",
    "            for j in range(emb_ell):\n",
    "                visited_qbts |= {(hor**j)[tmp_qbt].indices[0] if j else tmp_qbt}\n",
    "\n",
    "        return len(visited_qbts) == ell*m\n",
    "\n",
    "    confirmed_codes = []\n",
    "    pot_codes = has_toric_layout1()\n",
    "    for pot_code in pot_codes:\n",
    "        if has_toric_layout2(pot_code):\n",
    "            confirmed_codes.append(pot_code)\n",
    "    return confirmed_codes\n",
    "\n",
    "has_toric_layout()"
   ]
  },
  {
   "cell_type": "code",
   "execution_count": 242,
   "metadata": {},
   "outputs": [],
   "source": [
    "lattice = np.empty((2*m, 2*ell), dtype=object)\n",
    "lattice[0][0] = \"x0\"\n",
    "\n",
    "def get_nbr(i, j):\n",
    "    if (i % 2 == 0):\n",
    "        if (j % 2 == 0):\n",
    "            return \"x\"\n",
    "        else:\n",
    "            return \"r\"\n",
    "    else:\n",
    "        if (j % 2 == 0):\n",
    "            return \"l\"\n",
    "        else:\n",
    "            return \"z\"\n",
    "\n",
    "for i in range(2*m - 1):\n",
    "    for j in range(2*ell):\n",
    "        curr_ind = int(lattice[i][j][1:])\n",
    "\n",
    "        if (i % 2 == 0):\n",
    "            tmp_A = A3.T\n",
    "        else:\n",
    "            tmp_A = A2\n",
    "        if (j % 2 == 0):\n",
    "            tmp_B = B3.T\n",
    "        else:\n",
    "            tmp_B = B2\n",
    "\n",
    "        lattice[(i+1)%(2*m)][j] = f\"{get_nbr((i+1)%(2*m), j)}{np.where(tmp_A @ np.eye(m*ell)[int(lattice[i][j][1:])])[0][0]}\"\n",
    "        lattice[i][(j+1)%(2*ell)] = f\"{get_nbr(i, (j+1)%(2*ell))}{np.where(tmp_B @ np.eye(m*ell)[int(lattice[i][j][1:])])[0][0]}\"\n",
    "\n",
    "for i in range(2*m):\n",
    "    for j in range(2*ell):\n",
    "        if (lattice[i][j][0] == \"z\"):\n",
    "            lattice[i][j] = f\"z{int(lattice[i][j][1:]) + m*ell}\"\n",
    "        elif (lattice[i][j][0] == \"r\"):\n",
    "            lattice[i][j] = f\"r{int(lattice[i][j][1:]) + m*ell}\""
   ]
  },
  {
   "cell_type": "code",
   "execution_count": 243,
   "metadata": {},
   "outputs": [],
   "source": [
    "colors = np.empty((2*m, 2*ell), dtype=object)\n",
    "for i in range(2*m):\n",
    "    for j in range(2*ell):\n",
    "        if lattice[i][j][0] == \"x\":\n",
    "            colors[i][j] = \"red\"\n",
    "        elif lattice[i][j][0] == \"r\":\n",
    "            colors[i][j] = \"orange\"\n",
    "        elif lattice[i][j][0] == \"l\":\n",
    "            colors[i][j] = \"blue\"\n",
    "        else:\n",
    "            colors[i][j] = \"green\""
   ]
  },
  {
   "cell_type": "code",
   "execution_count": 244,
   "metadata": {},
   "outputs": [],
   "source": [
    "qbts = np.array([None for i in range(2*m*ell)])\n",
    "for i in range(2*m):\n",
    "    for j in range(2*ell):\n",
    "        if lattice[i][j][0] == \"r\" or lattice[i][j][0] == \"l\":\n",
    "            qbts[int(lattice[i][j][1:])] = (i, j)"
   ]
  },
  {
   "cell_type": "code",
   "execution_count": 245,
   "metadata": {},
   "outputs": [
    {
     "data": {
      "text/plain": [
       "<matplotlib.collections.PathCollection at 0x1ccc68a1220>"
      ]
     },
     "execution_count": 245,
     "metadata": {},
     "output_type": "execute_result"
    },
    {
     "data": {
      "image/png": "[encoded data removed]",
      "text/plain": [
       "<Figure size 432x432 with 1 Axes>"
      ]
     },
     "metadata": {
      "needs_background": "light"
     },
     "output_type": "display_data"
    }
   ],
   "source": [
    "nodes = itertools.product(np.arange(2*m), np.arange(2*ell))\n",
    "\n",
    "gen_qbts = qbts[np.where(Hx[22])[0]]\n",
    "\n",
    "fig, ax = plt.subplots(1, 1, figsize=(6, 6))\n",
    "ax.scatter(*zip(*nodes), s=50, c=colors.flatten()) # vv qubits\n",
    "ax.scatter(*zip(*gen_qbts), s=100, c='k')"
   ]
  },
  {
   "cell_type": "code",
   "execution_count": 246,
   "metadata": {},
   "outputs": [
    {
     "data": {
      "text/plain": [
       "(array([0.25      , 0.        , 0.        , 0.        , 0.16666667,\n",
       "        0.        , 0.        , 0.        , 0.        , 0.47222222,\n",
       "        0.        , 0.        , 0.08333333, 0.        , 0.        ,\n",
       "        0.        , 0.        , 0.        , 0.02777778]),\n",
       " array([3.88329757, 4.0882911 , 4.29328462, 4.49827815, 4.70327168,\n",
       "        4.90826521, 5.11325873, 5.31825226, 5.52324579, 5.72823932,\n",
       "        5.93323284, 6.13822637, 6.3432199 , 6.54821343, 6.75320695,\n",
       "        6.95820048, 7.16319401, 7.36818754, 7.57318107, 7.77817459]),\n",
       " <BarContainer object of 19 artists>)"
      ]
     },
     "execution_count": 246,
     "metadata": {},
     "output_type": "execute_result"
    },
    {
     "data": {
      "image/png": "[encoded data removed]",
      "text/plain": [
       "<Figure size 432x288 with 1 Axes>"
      ]
     },
     "metadata": {
      "needs_background": "light"
     },
     "output_type": "display_data"
    }
   ],
   "source": [
    "rs = []\n",
    "for i in range(m*ell):\n",
    "    gen_qbts = qbts[np.where(Hx[i])[0]]\n",
    "    rs.append(make_circle(gen_qbts)[2])\n",
    "for i in range(m*ell):\n",
    "    gen_qbts = qbts[np.where(Hz[i])[0]]\n",
    "    rs.append(make_circle(gen_qbts)[2])\n",
    "\n",
    "bins = np.linspace(min(rs), max(rs), 20)\n",
    "counts, _ = np.histogram(rs, bins=bins)\n",
    "counts_weighter = counts.sum()\n",
    "plt.hist(bins[:-1], bins=bins, weights=counts/counts_weighter)"
   ]
  },
  {
   "cell_type": "code",
   "execution_count": 82,
   "metadata": {},
   "outputs": [
    {
     "data": {
      "text/plain": [
       "(array([0.38888889, 0.        , 0.        , 0.        , 0.        ,\n",
       "        0.        , 0.        , 0.16666667, 0.        , 0.        ,\n",
       "        0.20138889, 0.10416667, 0.        , 0.04166667, 0.02083333,\n",
       "        0.06944444, 0.        , 0.        , 0.00694444]),\n",
       " array([0.        , 0.05263158, 0.10526316, 0.15789474, 0.21052632,\n",
       "        0.26315789, 0.31578947, 0.36842105, 0.42105263, 0.47368421,\n",
       "        0.52631579, 0.57894737, 0.63157895, 0.68421053, 0.73684211,\n",
       "        0.78947368, 0.84210526, 0.89473684, 0.94736842, 1.        ]),\n",
       " <BarContainer object of 19 artists>)"
      ]
     },
     "execution_count": 82,
     "metadata": {},
     "output_type": "execute_result"
    },
    {
     "data": {
      "image/png": "[encoded data removed]",
      "text/plain": [
       "<Figure size 432x288 with 1 Axes>"
      ]
     },
     "metadata": {
      "needs_background": "light"
     },
     "output_type": "display_data"
    }
   ],
   "source": [
    "scaled_rs = [(r - min(rs)) / (max(rs) - min(rs)) for r in rs]\n",
    "\n",
    "bins = np.linspace(min(scaled_rs), max(scaled_rs), 20)\n",
    "counts, _ = np.histogram(scaled_rs, bins=bins)\n",
    "counts_weighter = counts.sum()\n",
    "plt.hist(bins[:-1], bins=bins, weights=counts/counts_weighter)"
   ]
  },
  {
   "cell_type": "code",
   "execution_count": 83,
   "metadata": {},
   "outputs": [
    {
     "data": {
      "text/plain": [
       "0.3329678362573099"
      ]
     },
     "execution_count": 83,
     "metadata": {},
     "output_type": "execute_result"
    }
   ],
   "source": [
    "sum([x*y for x,y in zip(counts/counts_weighter, bins[:-1])])"
   ]
  },
  {
   "cell_type": "code",
   "execution_count": 228,
   "metadata": {},
   "outputs": [
    {
     "name": "stdout",
     "output_type": "stream",
     "text": [
      "1 1 1\n",
      "1 1 2\n",
      "1 1 3\n",
      "1 1 4\n",
      "1 2 1\n",
      "1 2 2\n",
      "1 2 3\n",
      "1 2 4\n",
      "1 3 1\n",
      "1 3 2\n",
      "1 3 3\n",
      "1 3 4\n",
      "1 4 1\n",
      "1 4 2\n",
      "1 4 3\n",
      "1 4 4\n",
      "2 1 1\n",
      "2 1 2\n",
      "2 1 3\n",
      "2 1 4\n",
      "2 2 1\n",
      "2 2 2\n",
      "2 2 3\n",
      "2 2 4\n",
      "2 3 1\n",
      "2 3 2\n",
      "2 3 3\n",
      "2 3 4\n",
      "2 4 1\n",
      "2 4 2\n",
      "2 4 3\n",
      "2 4 4\n",
      "3 1 1\n",
      "3 1 2\n",
      "3 1 3\n",
      "3 1 4\n",
      "3 2 1\n",
      "3 2 2\n",
      "3 2 3\n",
      "3 2 4\n",
      "3 3 1\n",
      "3 3 2\n",
      "3 3 3\n",
      "3 3 4\n",
      "3 4 1\n",
      "3 4 2\n",
      "3 4 3\n",
      "3 4 4\n",
      "4 1 1\n",
      "4 1 2\n",
      "4 1 3\n",
      "4 1 4\n",
      "4 2 1\n",
      "4 2 2\n",
      "4 2 3\n",
      "4 2 4\n",
      "4 3 1\n",
      "4 3 2\n",
      "4 3 3\n",
      "4 3 4\n",
      "4 4 1\n",
      "4 4 2\n",
      "4 4 3\n",
      "4 4 4\n"
     ]
    }
   ],
   "source": [
    "n = 4\n",
    "for combination in itertools.product(range(1, n + 1), repeat=3):\n",
    "    var1, var2, var3 = combination\n",
    "    # Do something with var1, var2, and var3\n",
    "    print(var1, var2, var3)"
   ]
  },
  {
   "cell_type": "code",
   "execution_count": null,
   "metadata": {},
   "outputs": [],
   "source": []
  }
 ],
 "metadata": {
  "kernelspec": {
   "display_name": "qc",
   "language": "python",
   "name": "python3"
  },
  "language_info": {
   "codemirror_mode": {
    "name": "ipython",
    "version": 3
   },
   "file_extension": ".py",
   "mimetype": "text/x-python",
   "name": "python",
   "nbconvert_exporter": "python",
   "pygments_lexer": "ipython3",
   "version": "3.8.17"
  },
  "orig_nbformat": 4
 },
 "nbformat": 4,
 "nbformat_minor": 2
}
