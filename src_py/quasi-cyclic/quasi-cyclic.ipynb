{
 "cells": [
  {
   "cell_type": "code",
   "execution_count": 5,
   "metadata": {},
   "outputs": [],
   "source": [
    "import numpy as np\n",
    "from numpy.linalg import matrix_power, matrix_rank\n",
    "import matplotlib.pyplot as plt\n",
    "import itertools\n",
    "import pandas as pd\n",
    "import galois\n",
    "from mec import make_circle\n",
    "from scipy.sparse import csr_matrix\n",
    "from scipy.stats import skew"
   ]
  },
  {
   "cell_type": "code",
   "execution_count": 204,
   "metadata": {},
   "outputs": [],
   "source": [
    "codes = [\n",
    "    [6,6,3,1,2,3,1,2],\n",
    "    [15,3,9,1,2,0,2,7],\n",
    "    [6,9,3,1,2,3,1,2],\n",
    "    [6,12,3,1,2,3,1,2],\n",
    "    [12,12,3,2,7,3,1,2],\n",
    "    [30,6,9,1,2,3,25,26],\n",
    "    [21,18,3,10,17,5,3,19]\n",
    "]\n",
    "code = codes[-2]\n",
    "\n",
    "# 10,3,15,12,1,2,0,14,1,3,15,2,4,0.005,0.2,10001,9654,0.9653034696530348,3.8078865529319543,0.5207281650657156,8\n",
    "\n",
    "# 10,6,30,27,5,4,3,29,28,6,30,2,1,0.005,0.1,10001,9810,0.9809019098090191,22,0.5983388736689147,12\n",
    "# 10,6,30,21,1,2,3,13,26,6,30,2,2,0.005,0.1,10001,9799,0.9798020197980202,22,0.592000979396152,12\n",
    "\n",
    "\n",
    "# code = [3,15,12,1,2,0,14,1,3,15,2,4]\n",
    "# code = [6,30,21,1,2,3,13,26,6,30,2,2]\n",
    "# code = [6,30,9,2,1,3,19,2,6,30,3,2]\n",
    "# code = [6,30,27,5,4,3,29,28,6,30,2,1]\n",
    "# code = [5,18,10,3,2,0,7,14,5,18,3,1]\n",
    "# code = [3,12,9,2,1,3,10,5,3,12,3,3]\n",
    "\n",
    "code = [15,3,5,0,2,1,2,6,3,15,0,0]"
   ]
  },
  {
   "cell_type": "code",
   "execution_count": 205,
   "metadata": {},
   "outputs": [],
   "source": [
    "def cyclic_shift_matrix(l):\n",
    "    arr = np.eye(l, dtype=int)\n",
    "    return np.roll(arr, axis=1, shift=1)\n",
    "\n",
    "ell = code[0]\n",
    "m = code[1]\n",
    "\n",
    "x = np.kron(cyclic_shift_matrix(ell), np.eye(m))\n",
    "y = np.kron(np.eye(ell), cyclic_shift_matrix(m))"
   ]
  },
  {
   "cell_type": "code",
   "execution_count": 206,
   "metadata": {},
   "outputs": [],
   "source": [
    "A1 = matrix_power(x, code[2])\n",
    "A2 = matrix_power(y, code[3])\n",
    "A3 = matrix_power(y, code[4])\n",
    "A = ( A1 + A2 + A3 ) % 2\n",
    "\n",
    "B1 = matrix_power(y, code[5])\n",
    "B2 = matrix_power(x, code[6])\n",
    "B3 = matrix_power(x, code[7])\n",
    "B = ( B1 + B2 + B3 ) % 2"
   ]
  },
  {
   "cell_type": "code",
   "execution_count": 207,
   "metadata": {},
   "outputs": [],
   "source": [
    "Hx = np.hstack([A, B]).astype(int)\n",
    "Hz = np.hstack([B.T, A.T]).astype(int)\n",
    "# H = np.vstack([Hx, Hz])"
   ]
  },
  {
   "cell_type": "code",
   "execution_count": 208,
   "metadata": {},
   "outputs": [
    {
     "name": "stdout",
     "output_type": "stream",
     "text": [
      "k = 8\n"
     ]
    }
   ],
   "source": [
    "GF = galois.GF(2)\n",
    "arr = GF(Hz.T)\n",
    "print(f\"k = {2 * (Hz.T.shape[1] - matrix_rank(arr))}\")"
   ]
  },
  {
   "cell_type": "code",
   "execution_count": 209,
   "metadata": {},
   "outputs": [
    {
     "name": "stdout",
     "output_type": "stream",
     "text": [
      "[(3, 15, 0, 0), (3, 15, 0, 1), (3, 15, 0, 4), (3, 15, 0, 5), (3, 15, 1, 0), (3, 15, 1, 1), (3, 15, 1, 4), (3, 15, 1, 5), (3, 15, 2, 0), (3, 15, 2, 1), (3, 15, 2, 2), (3, 15, 2, 3), (3, 15, 3, 0), (3, 15, 3, 1), (3, 15, 3, 2), (3, 15, 3, 3), (3, 15, 4, 0), (3, 15, 4, 1), (3, 15, 4, 2), (3, 15, 4, 3), (3, 15, 4, 4), (3, 15, 4, 5), (3, 15, 5, 0), (3, 15, 5, 1), (3, 15, 5, 2), (3, 15, 5, 3), (3, 15, 5, 4), (3, 15, 5, 5)]\n"
     ]
    }
   ],
   "source": [
    "def has_toric_layout():\n",
    "    # As = [A1 @ A2.T, A2 @ A3.T, A1 @ A3.T]  # A2 @ A3.T cycling up, A3 @ A2.T cycling up, etc.\n",
    "    # Bs = [B1 @ B2.T, B2 @ B3.T, B1 @ B3.T]\n",
    "    As = [A1 @ A2.T, A2 @ A1.T, A2 @ A3.T, A3 @ A2.T, A1 @ A3.T, A3 @ A1.T ]\n",
    "    Bs = [B1 @ B2.T, B2 @ B1.T, B2 @ B3.T, B3 @ B2.T, B1 @ B3.T, B3 @ B1.T]\n",
    "\n",
    "\n",
    "    def has_toric_layout1():\n",
    "        def order(arr):\n",
    "            for i in range(1, m*ell):\n",
    "                if not np.any(np.eye(arr.shape[0]) - np.linalg.matrix_power(arr, i)):\n",
    "                    return i\n",
    "            return -1\n",
    "\n",
    "        Aorders = [order(AA) for AA in As]\n",
    "        Borders = [order(BB) for BB in Bs]\n",
    "\n",
    "        pot_orders = []\n",
    "        for i, Ao in enumerate(Aorders):\n",
    "            for j, Bo in enumerate(Borders):\n",
    "                if (Ao*Bo == m*ell):\n",
    "                    pot_orders.append((Ao,Bo,i,j))\n",
    "        return pot_orders\n",
    "\n",
    "    def has_toric_layout2(pot_codes):\n",
    "        emb_m, emb_ell, A_ind, B_ind = pot_codes\n",
    "\n",
    "        visited_qbts = set()\n",
    "\n",
    "        ver = csr_matrix(As[A_ind])\n",
    "        hor = csr_matrix(Bs[B_ind])\n",
    "\n",
    "        for i in range(emb_m):\n",
    "            tmp_qbt = (ver**i)[0].indices[0] if i else 0\n",
    "            for j in range(emb_ell):\n",
    "                visited_qbts |= {(hor**j)[tmp_qbt].indices[0] if j else tmp_qbt}\n",
    "\n",
    "        return len(visited_qbts) == ell*m\n",
    "\n",
    "    confirmed_codes = []\n",
    "    pot_codes = has_toric_layout1()\n",
    "    for pot_code in pot_codes:\n",
    "        if has_toric_layout2(pot_code):\n",
    "            confirmed_codes.append(pot_code)\n",
    "    return confirmed_codes\n",
    "\n",
    "confirmed_codes = has_toric_layout()\n",
    "print(confirmed_codes)"
   ]
  },
  {
   "cell_type": "code",
   "execution_count": 210,
   "metadata": {},
   "outputs": [],
   "source": [
    "def embed_code(code, init):\n",
    "    emb_m, emb_ell, A_ind, B_ind = code\n",
    "\n",
    "    lattice = np.empty((2*emb_m, 2*emb_ell), dtype=object)\n",
    "    lattice[0][0] = f\"x{init}\"\n",
    "\n",
    "    # As = [[A1, A2.T], [A2, A3.T], [A1, A3.T]]\n",
    "    # Bs = [[B1, B2.T], [B2, B3.T], [B1, B3.T]]\n",
    "    As = [[A1, A2.T], [A2, A1.T], [A2, A3.T], [A3, A2.T], [A1, A3.T], [A3, A1.T]]\n",
    "    Bs = [[B1, B2.T], [B2, B1.T], [B2, B3.T], [B3, B2.T], [B1, B3.T], [B3, B1.T]]\n",
    "\n",
    "    def get_nbr(i, j):\n",
    "        if (i % 2 == 0):\n",
    "            if (j % 2 == 0):\n",
    "                return \"x\"\n",
    "            else:\n",
    "                return \"r\"\n",
    "        else:\n",
    "            if (j % 2 == 0):\n",
    "                return \"l\"\n",
    "            else:\n",
    "                return \"z\"\n",
    "\n",
    "    for i in range(2*emb_m - 1):\n",
    "        for j in range(2*emb_ell):\n",
    "            curr_ind = int(lattice[i][j][1:])\n",
    "\n",
    "            if (i % 2 == 0):\n",
    "                tmp_A = As[A_ind][1]\n",
    "            else:\n",
    "                tmp_A = As[A_ind][0]\n",
    "            if (j % 2 == 0):\n",
    "                tmp_B = Bs[B_ind][1]\n",
    "            else:\n",
    "                tmp_B = Bs[B_ind][0]\n",
    "\n",
    "            lattice[(i+1)%(2*emb_m)][j] = f\"{get_nbr((i+1)%(2*emb_m), j)}{np.where(tmp_A @ np.eye(m*ell)[curr_ind])[0][0]}\"\n",
    "            lattice[i][(j+1)%(2*emb_ell)] = f\"{get_nbr(i, (j+1)%(2*emb_ell))}{np.where(tmp_B @ np.eye(m*ell)[curr_ind])[0][0]}\"\n",
    "\n",
    "    for i in range(2*emb_m):\n",
    "        for j in range(2*emb_ell):\n",
    "            if (lattice[i][j][0] == \"z\"):\n",
    "                lattice[i][j] = f\"z{int(lattice[i][j][1:]) + m*ell}\"\n",
    "            elif (lattice[i][j][0] == \"r\"):\n",
    "                lattice[i][j] = f\"r{int(lattice[i][j][1:]) + m*ell}\"\n",
    "\n",
    "    return lattice"
   ]
  },
  {
   "cell_type": "code",
   "execution_count": 211,
   "metadata": {},
   "outputs": [
    {
     "name": "stdout",
     "output_type": "stream",
     "text": [
      "0 (3, 15, 0, 0) 1.4363418222227162\n",
      "1 (3, 15, 0, 1) 1.515250574432309\n",
      "2 (3, 15, 0, 4) 1.0875292064063298\n",
      "3 (3, 15, 0, 5) 1.0705477489727464\n",
      "4 (3, 15, 1, 0) 1.438194726624334\n",
      "5 (3, 15, 1, 1) 1.5180285420509265\n",
      "6 (3, 15, 1, 4) 1.1047752347712037\n",
      "7 (3, 15, 1, 5) 1.0891173166565413\n",
      "8 (3, 15, 2, 0) 1.2701229501718851\n",
      "9 (3, 15, 2, 1) 1.2992500669920954\n",
      "10 (3, 15, 2, 2) 1.2898787974431223\n",
      "11 (3, 15, 2, 3) 1.3169690530815545\n",
      "12 (3, 15, 3, 0) 1.257621323025841\n",
      "13 (3, 15, 3, 1) 1.285135081117107\n",
      "14 (3, 15, 3, 2) 1.2860770884047124\n",
      "15 (3, 15, 3, 3) 1.3147241838284154\n",
      "16 (3, 15, 4, 0) 1.2453473473543921\n",
      "17 (3, 15, 4, 1) 1.2290655622954427\n",
      "18 (3, 15, 4, 2) 1.326848102813386\n",
      "19 (3, 15, 4, 3) 1.3677827697989497\n",
      "20 (3, 15, 4, 4) 1.5007789187121552\n",
      "21 (3, 15, 4, 5) 1.4289512578335186\n",
      "22 (3, 15, 5, 0) 1.2433964620664597\n",
      "23 (3, 15, 5, 1) 1.227764972103488\n",
      "24 (3, 15, 5, 2) 1.3069237080566265\n",
      "25 (3, 15, 5, 3) 1.344521511952393\n",
      "26 (3, 15, 5, 4) 1.478376876874565\n",
      "27 (3, 15, 5, 5) 1.4100018090824369\n"
     ]
    }
   ],
   "source": [
    "for c,code in enumerate(confirmed_codes):\n",
    "    lattice = embed_code(code, 0)\n",
    "\n",
    "    colors = np.empty(lattice.shape, dtype=object)\n",
    "    for i in range(lattice.shape[0]):\n",
    "        for j in range(lattice.shape[1]):\n",
    "            if lattice[i][j][0] == \"x\":\n",
    "                colors[i][j] = \"red\"\n",
    "            elif lattice[i][j][0] == \"r\":\n",
    "                colors[i][j] = \"orange\"\n",
    "            elif lattice[i][j][0] == \"l\":\n",
    "                colors[i][j] = \"blue\"\n",
    "            else:\n",
    "                colors[i][j] = \"green\"\n",
    "\n",
    "    qbts = np.array([None for i in range(2*m*ell)])\n",
    "    for i in range(lattice.shape[0]):\n",
    "        for j in range(lattice.shape[1]):\n",
    "            if lattice[i][j][0] == \"r\" or lattice[i][j][0] == \"l\":\n",
    "                qbts[int(lattice[i][j][1:])] = (i, j)\n",
    "\n",
    "    x_rs = np.array([])\n",
    "    for i in range(m*ell):\n",
    "        gen_qbts = qbts[np.where(Hx[i])[0]]\n",
    "        x_rs = np.append(x_rs, make_circle(gen_qbts)[2])\n",
    "    # for i in range(m*ell):\n",
    "    #     gen_qbts = qbts[np.where(Hz[i])[0]]\n",
    "    #     rs.append(make_circle(gen_qbts)[2])\n",
    "\n",
    "    x_mask = np.zeros(Hx.shape[0])\n",
    "    for i, x in enumerate(x_rs):\n",
    "        if (x > (min(x_rs))+np.std(x_rs)):\n",
    "            x_mask[i] = 1\n",
    "    p_mask = np.round(np.count_nonzero(x_mask)/(m*ell), 3)\n",
    "    adv = (1-p_mask) / (sum(x_rs[x_mask==0])/sum(x_rs))\n",
    "\n",
    "    print(c, code, adv)\n",
    "    # scaled_rs = [(r - min(rs)) / (max(rs) - min(rs)) for r in rs]\n",
    "\n",
    "    # bins = np.linspace(min(scaled_rs), max(scaled_rs), 20)\n",
    "    # counts, _ = np.histogram(scaled_rs, bins=bins)\n",
    "    # counts_weighter = counts.sum()\n",
    "\n",
    "    # print(code, sum([x*y for x,y in zip(counts/counts_weighter, bins[:-1])]))\n",
    "    # print(code, np.percentile(scaled_rs, 70))\n",
    "    # plt.hist(bins[:-1], bins=bins, weights=counts/counts_weighter, label=f\"{code}\", alpha=0.7)\n",
    "    # plt.legend()"
   ]
  },
  {
   "cell_type": "code",
   "execution_count": null,
   "metadata": {},
   "outputs": [],
   "source": []
  },
  {
   "cell_type": "code",
   "execution_count": 212,
   "metadata": {},
   "outputs": [
    {
     "data": {
      "text/plain": [
       "<matplotlib.collections.PathCollection at 0x1ac05cec250>"
      ]
     },
     "execution_count": 212,
     "metadata": {},
     "output_type": "execute_result"
    },
    {
     "data": {
      "image/png": "[encoded data removed]",
      "text/plain": [
       "<Figure size 600x600 with 1 Axes>"
      ]
     },
     "metadata": {},
     "output_type": "display_data"
    }
   ],
   "source": [
    "lattice = embed_code(confirmed_codes[0], 0)\n",
    "\n",
    "colors = np.empty(lattice.shape, dtype=object)\n",
    "\n",
    "for i in range(lattice.shape[0]):\n",
    "    for j in range(lattice.shape[1]):\n",
    "        if lattice[i][j][0] == \"x\":\n",
    "            colors[i][j] = \"red\"\n",
    "        elif lattice[i][j][0] == \"r\":\n",
    "            colors[i][j] = \"orange\"\n",
    "        elif lattice[i][j][0] == \"l\":\n",
    "            colors[i][j] = \"blue\"\n",
    "        else:\n",
    "            colors[i][j] = \"green\"\n",
    "\n",
    "qbts = np.array([None for i in range(2*m*ell)])\n",
    "for i in range(lattice.shape[0]):\n",
    "    for j in range(lattice.shape[1]):\n",
    "        if lattice[i][j][0] == \"r\" or lattice[i][j][0] == \"l\":\n",
    "            qbts[int(lattice[i][j][1:])] = (i, j)\n",
    "x_checks = np.array([None for i in range(m*ell)])\n",
    "z_checks = np.array([None for i in range(m*ell)])\n",
    "\n",
    "for i in range(lattice.shape[0]):\n",
    "    for j in range(lattice.shape[1]):\n",
    "        if lattice[i][j][0] == \"x\":\n",
    "            x_checks[int(lattice[i][j][1:])] = (i, j)\n",
    "        elif lattice[i][j][0] == \"z\":\n",
    "            z_checks[int(lattice[i][j][1:])-(m*ell)] = (i, j)\n",
    "\n",
    "\n",
    "\n",
    "nodes = itertools.product(np.arange(lattice.shape[0]), np.arange(lattice.shape[1]))\n",
    "\n",
    "gen_qbts = qbts[np.where(Hx[20])[0]]\n",
    "\n",
    "fig, ax = plt.subplots(1, 1, figsize=(6, 6))\n",
    "ax.scatter(*zip(*nodes), s=50, c=colors.flatten()) # vv qubits\n",
    "ax.scatter(*zip(*gen_qbts), s=100, c='k')"
   ]
  },
  {
   "cell_type": "code",
   "execution_count": 213,
   "metadata": {},
   "outputs": [
    {
     "name": "stdout",
     "output_type": "stream",
     "text": [
      "1 0\n"
     ]
    },
    {
     "data": {
      "image/png": "[encoded data removed]",
      "text/plain": [
       "<Figure size 400x400 with 1 Axes>"
      ]
     },
     "metadata": {},
     "output_type": "display_data"
    }
   ],
   "source": [
    "x_rs = []\n",
    "z_rs = []\n",
    "for i in range(m*ell):\n",
    "    gen_qbts = qbts[np.where(Hx[i])[0]]\n",
    "    x_rs.append(make_circle(gen_qbts)[2])\n",
    "for i in range(m*ell):\n",
    "    gen_qbts = qbts[np.where(Hz[i])[0]]\n",
    "    z_rs.append(make_circle(gen_qbts)[2])\n",
    "\n",
    "fig, ax = plt.subplots(1, 1, figsize=(4,4))\n",
    "rs = x_rs\n",
    "bins = np.linspace(min(rs), max(rs), 10)\n",
    "counts, _ = np.histogram(rs, bins=bins)\n",
    "counts_weighter = counts.sum()\n",
    "ax.hist(bins[:-1], bins=bins, weights=counts/counts_weighter, color='black')\n",
    "print(np.argmin(rs), np.argmax(rs))"
   ]
  },
  {
   "cell_type": "code",
   "execution_count": 214,
   "metadata": {},
   "outputs": [],
   "source": [
    "# for i in range(m*ell):\n",
    "#     nlqbts = []\n",
    "#     coord = x_checks[i]\n",
    "#     gen_qbts = qbts[np.where(Hx[i])[0]]\n",
    "#     for qbt in gen_qbts:\n",
    "#         if (abs(coord[0]-qbt[0])+ abs(coord[1]-qbt[1]) > 1):\n",
    "#             nlqbts.append(qbt)\n",
    "#     if make_circle(gen_qbts)[2] < (min(x_rs)+np.std(x_rs)):\n",
    "#         print([nlqbts, coord])\n",
    "\n",
    "# for i in range(m*ell):\n",
    "#     nlqbts = []\n",
    "#     coord = z_checks[i]\n",
    "#     gen_qbts = qbts[np.where(Hz[i])[0]]\n",
    "#     for qbt in gen_qbts:\n",
    "#         if (abs(coord[0]-qbt[0])+ abs(coord[1]-qbt[1]) > 1):\n",
    "#             nlqbts.append(qbt)\n",
    "#     if make_circle(gen_qbts)[2] < (min(z_rs)+np.std(z_rs)):\n",
    "#         print([nlqbts, coord])"
   ]
  },
  {
   "cell_type": "code",
   "execution_count": 215,
   "metadata": {},
   "outputs": [
    {
     "name": "stdout",
     "output_type": "stream",
     "text": [
      "368.29422362978755\n",
      "197.2679098649167\n",
      "[14.71393897 12.509996   13.03840481 12.509996   13.03840481 14.51724138\n",
      " 12.509996   13.15294644 12.509996   13.15294644 14.51724138 12.509996\n",
      " 13.03840481 12.509996   13.03840481]\n"
     ]
    },
    {
     "data": {
      "text/plain": [
       "<matplotlib.collections.PathCollection at 0x1ac05da39d0>"
      ]
     },
     "execution_count": 215,
     "metadata": {},
     "output_type": "execute_result"
    },
    {
     "data": {
      "image/png": "[encoded data removed]",
      "text/plain": [
       "<Figure size 400x400 with 1 Axes>"
      ]
     },
     "metadata": {},
     "output_type": "display_data"
    }
   ],
   "source": [
    "x_rs = np.array([])\n",
    "z_rs = np.array([])\n",
    "for i in range(m*ell):\n",
    "    gen_qbts = qbts[np.where(Hx[i])[0]]\n",
    "    x_rs = np.append(x_rs, make_circle(gen_qbts)[2])\n",
    "for i in range(m*ell):\n",
    "    gen_qbts = qbts[np.where(Hz[i])[0]]\n",
    "    z_rs = np.append(z_rs, make_circle(gen_qbts)[2])\n",
    "\n",
    "x_mask = np.zeros(Hx.shape[0])\n",
    "for i, x in enumerate(x_rs):\n",
    "    if (x > (min(x_rs))+np.std(x_rs)):\n",
    "        x_mask[i] = 1\n",
    "p_mask = np.round(np.count_nonzero(x_mask)/(m*ell), 3)\n",
    "adv = (1 - p_mask) / (sum(x_rs[x_mask==1])/sum(x_rs))\n",
    "\n",
    "# bins = np.linspace(min(rs), max(rs), 20)\n",
    "# counts, _ = np.histogram(rs, bins=bins)\n",
    "# counts_weighter = counts.sum()\n",
    "# plt.hist(bins[:-1], bins=bins, weights=counts/counts_weighter)\n",
    "print(sum(x_rs))\n",
    "print(sum(x_rs[x_mask==1]))\n",
    "print(x_rs[x_mask==1])\n",
    "\n",
    "x_rs = sorted(x_rs)\n",
    "\n",
    "fig, ax = plt.subplots(1, 1, figsize=(4,4))\n",
    "work = [sum((x_rs)[:int(i*len(x_rs))])/sum(x_rs) for i in np.linspace(0,1,100)]\n",
    "plt.scatter(np.linspace(0,1,100), work, c='k')"
   ]
  },
  {
   "cell_type": "code",
   "execution_count": 151,
   "metadata": {},
   "outputs": [
    {
     "name": "stdout",
     "output_type": "stream",
     "text": [
      "[120, 121, 122, 123, 124, 125, 126, 127, 128, 129, 130, 131, 132, 133, 134, 135, 136, 137, 138, 139, 140, 141, 142, 143, 144, 145, 146, 147, 148, 149, 150, 151, 152, 153, 154, 155, 156, 157, 158, 159, 160, 161, 162, 163, 164, 165, 166, 167, 168, 169, 170, 171, 172, 173, 174, 175, 176, 177, 178, 179]\n",
      "0.3333333333333333\n",
      "[0, 1, 2, 3, 4, 5, 6, 7, 8, 9, 10, 11, 12, 13, 14, 15, 16, 17, 18, 19, 20, 21, 22, 23, 24, 25, 26, 27, 28, 29, 150, 151, 152, 153, 154, 155, 156, 157, 158, 159, 160, 161, 162, 163, 164, 165, 166, 167, 168, 169, 170, 171, 172, 173, 174, 175, 176, 177, 178, 179]\n",
      "0.3333333333333333\n"
     ]
    }
   ],
   "source": [
    "arr = []\n",
    "for i, x in enumerate(x_rs):\n",
    "    if (x > (min(x_rs))+np.std(x_rs)):\n",
    "        arr.append(i)\n",
    "x_mask = np.zeros(Hx.shape[0]).astype(np.uint8)\n",
    "x_mask[arr] = 1\n",
    "\n",
    "Hxm = Hx[x_mask == 0]\n",
    "\n",
    "print(arr)\n",
    "print(len(arr)/Hx.shape[0])\n",
    "\n",
    "arr = []\n",
    "for i, z in enumerate(z_rs):\n",
    "    if (z > (min(z_rs))+np.std(z_rs)):\n",
    "        arr.append(i)\n",
    "\n",
    "z_mask = np.zeros(Hz.shape[0]).astype(np.uint8)\n",
    "z_mask[arr] = 1\n",
    "\n",
    "Hzm = Hz[z_mask == 0]\n",
    "print(arr)\n",
    "print(len(arr)/Hz.shape[0])"
   ]
  },
  {
   "cell_type": "code",
   "execution_count": 150,
   "metadata": {},
   "outputs": [
    {
     "data": {
      "text/plain": [
       "<generator object DataFrame.iterrows at 0x000001AC059CD190>"
      ]
     },
     "execution_count": 150,
     "metadata": {},
     "output_type": "execute_result"
    }
   ],
   "source": [
    "arr = \"90,16,15,3,0,1,2,3,14,11,3,15,2,4,0.267,1.5483219615844448\"\n",
    "arr = [[float(i) for i in arr.split(',')]]\n",
    "col_names = [\"n\",\"k\",\"ell\",\"m\",\"a1\",\"a2\",\"a3\",\"b1\",\"b2\",\"b3\",\"emb_m\",\"emb_ell\",\"aa\",\"bb\",\"p_mask\",\"adv\"]\n",
    "df = pd.DataFrame(arr, columns=col_names)\n",
    "df.iterrows()"
   ]
  },
  {
   "cell_type": "code",
   "execution_count": null,
   "metadata": {},
   "outputs": [],
   "source": []
  }
 ],
 "metadata": {
  "kernelspec": {
   "display_name": "qc",
   "language": "python",
   "name": "python3"
  },
  "language_info": {
   "codemirror_mode": {
    "name": "ipython",
    "version": 3
   },
   "file_extension": ".py",
   "mimetype": "text/x-python",
   "name": "python",
   "nbconvert_exporter": "python",
   "pygments_lexer": "ipython3",
   "version": "3.8.18"
  },
  "orig_nbformat": 4
 },
 "nbformat": 4,
 "nbformat_minor": 2
}
