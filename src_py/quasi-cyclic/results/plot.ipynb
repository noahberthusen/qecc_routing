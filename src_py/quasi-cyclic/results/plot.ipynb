{
 "cells": [
  {
   "cell_type": "code",
   "execution_count": 2,
   "metadata": {},
   "outputs": [],
   "source": [
    "import matplotlib.pyplot as plt\n",
    "import pandas as pd\n",
    "import numpy as np\n",
    "from scipy.optimize import curve_fit"
   ]
  },
  {
   "cell_type": "code",
   "execution_count": 3,
   "metadata": {},
   "outputs": [],
   "source": [
    "no_test = 5000000\n",
    "\n",
    "# rotated, 336 qubits (42 each) d = 4\n",
    "p_error = [0.014644272334600528,0.02730078059650798,0.042658494296205385,0.054622653953307565,0.06661371122423243,0.08049840741544922,0.09229347110957253,0.10591757080192399,0.11726689345830865,0.13269648820150737]\n",
    "# rotated, 504 qubits (63 each) d = 5\n",
    "# p_error = [0.002197085202675031,0.004493928356958499,0.0065831748181789385,0.008810377666911284,0.011178663844486403,0.013296230353607719,0.015650696144952625,0.018169767922420532,0.0207074682815529,0.022541402893564877]\n",
    "\n",
    "p_log = [1 - i for i in p_error]\n",
    "ts = [10,20,30,40,50,60,70,80,90,100]\n",
    "p_std_dev = [np.sqrt((p_error[i] * p_log[i]) / no_test) for i in range(len(p_error))]"
   ]
  },
  {
   "cell_type": "code",
   "execution_count": 3,
   "metadata": {},
   "outputs": [
    {
     "name": "stderr",
     "output_type": "stream",
     "text": [
      "No artists with labels found to put in legend.  Note that artists whose label start with an underscore are ignored when legend() is called with no argument.\n",
      "No artists with labels found to put in legend.  Note that artists whose label start with an underscore are ignored when legend() is called with no argument.\n"
     ]
    },
    {
     "data": {
      "text/plain": [
       "<matplotlib.legend.Legend at 0x23db0431490>"
      ]
     },
     "execution_count": 3,
     "metadata": {},
     "output_type": "execute_result"
    },
    {
     "data": {
      "image/png": "[encoded data removed]",
      "text/plain": [
       "<Figure size 500x400 with 1 Axes>"
      ]
     },
     "metadata": {},
     "output_type": "display_data"
    }
   ],
   "source": [
    "fig, ax = plt.subplots(1, 1, figsize=(5,4), sharey=True)\n",
    "\n",
    "code = \"12_3\"\n",
    "\n",
    "df = pd.read_csv(f'./{code}/mask_vs_synd_error_1.1.res')\n",
    "df['p_error'] = 1 - df['p_log']\n",
    "df['p_std_dev'] = np.sqrt(df['p_error'] * df['p_log'] / df['no_test'])\n",
    "# df['p_std_dev'].replace(to_replace=0, value=1e-2, inplace=True)\n",
    "guesses = []\n",
    "params = []\n",
    "\n",
    "def fun(x, a):\n",
    "    return 1 - (1 - a)**x\n",
    "\n",
    "colors = ['#1f77b4', '#ff7f0e', '#2ca02c', '#d62728', '#9467bd', '#8c564b', '#e377c2', '#7f7f7f', '#bcbd22', '#17becf']\n",
    "tmp_df = df[(df['p_std_dev'] > 0)]\n",
    "\n",
    "    # tmp_df_fit = df[(df['p_mask'] == j) & (df['algo'] >= 200)]\n",
    "    # tmp_df_before = df[(df['p_mask'] == j) & (df['algo'] < 200) & (df['algo'] > 10)]\n",
    "\n",
    "# ax.errorbar(tmp_df['t'], tmp_df['p_error'], tmp_df['p_std_dev'], fmt='o', label=\"Quasi-cyclic: [[72,8,d]] (288 qubits)\")\n",
    "# ax.errorbar(ts, p_error, p_std_dev, fmt='o', c='k', label=\"Surface code: [[336,8,4]]\")\n",
    "\n",
    "# popt, pcov = curve_fit(fun, tmp_df['t'], tmp_df['p_error'], maxfev=1000, p0=(0.001),\n",
    "#     sigma=tmp_df['p_std_dev'])\n",
    "# xx = np.linspace(1, 100, 1000)\n",
    "# yy = fun(xx, *popt)\n",
    "# ax.plot(xx, yy, c='k')\n",
    "\n",
    "\n",
    "# ax.plot(np.linspace(0, 0.05, 100), np.linspace(1e-3, 50*1e-3, 100), c='k')\n",
    "# ax[1].plot(np.linspace(1e-3,1e-2,100), np.linspace(1e-3, 1e-2, 100), c='k')\n",
    "\n",
    "# ax.set_title('ISD with $p_0 = 0.001$')\n",
    "# ax[1].set_title('SSF with $k=1$')\n",
    "ax.legend(loc='lower right')\n",
    "ax.set_yscale('log')\n",
    "ax.set_ylabel('Logical error rate, $p_\\log$')\n",
    "ax.set_xlabel('Rounds, $t$')\n",
    "plt.legend(loc='lower right')\n",
    "# ax[1].set_xlabel('$p$')\n",
    "\n",
    "# handles, labels = plt.gca().get_legend_handles_labels()\n",
    "# order = [3,2,1,0]\n",
    "# plt.legend([handles[idx] for idx in order],[labels[idx] for idx in order])"
   ]
  },
  {
   "cell_type": "code",
   "execution_count": 4,
   "metadata": {},
   "outputs": [
    {
     "data": {
      "text/plain": [
       "<matplotlib.legend.Legend at 0x23db26aa280>"
      ]
     },
     "execution_count": 4,
     "metadata": {},
     "output_type": "execute_result"
    },
    {
     "data": {
      "image/png": "[encoded data removed]",
      "text/plain": [
       "<Figure size 500x400 with 1 Axes>"
      ]
     },
     "metadata": {},
     "output_type": "display_data"
    }
   ],
   "source": [
    "fig, ax = plt.subplots(1, 1, figsize=(5,4), sharey=True)\n",
    "\n",
    "code = \"12_3\"\n",
    "\n",
    "df = pd.read_csv(f'./{code}/mask_vs_synd_error_1.2.res')\n",
    "df['p_error'] = 1 - df['p_log']\n",
    "df['p_std_dev'] = np.sqrt(df['p_error'] * df['p_log'] / df['no_test'])\n",
    "# df['p_std_dev'].replace(to_replace=0, value=1e-2, inplace=True)\n",
    "guesses = []\n",
    "params = []\n",
    "\n",
    "def fun(x, a):\n",
    "    return 1 - (1 - a)**x\n",
    "\n",
    "colors = ['#1f77b4', '#ff7f0e', '#2ca02c', '#d62728', '#9467bd', '#8c564b', '#e377c2', '#7f7f7f', '#bcbd22', '#17becf']\n",
    "tmp_df2 = df[(df['p_std_dev'] > 0)]\n",
    "\n",
    "    # tmp_df_fit = df[(df['p_mask'] == j) & (df['algo'] >= 200)]\n",
    "    # tmp_df_before = df[(df['p_mask'] == j) & (df['algo'] < 200) & (df['algo'] > 10)]\n",
    "\n",
    "ax.errorbar(tmp_df['t'], tmp_df['p_error'], tmp_df['p_std_dev'], fmt='o', label=\"Masking\")\n",
    "ax.errorbar(tmp_df2['t'], tmp_df2['p_error'], tmp_df2['p_std_dev'], fmt='o', label=\"Synd error\")\n",
    "\n",
    "\n",
    "# popt, pcov = curve_fit(fun, tmp_df['t'], tmp_df['p_error'], maxfev=1000, p0=(0.001),\n",
    "#     sigma=tmp_df['p_std_dev'])\n",
    "# xx = np.linspace(1, 100, 1000)\n",
    "# yy = fun(xx, *popt)\n",
    "# ax.plot(xx, yy, c='k')\n",
    "\n",
    "\n",
    "# ax.plot(np.linspace(0, 0.05, 100), np.linspace(1e-3, 50*1e-3, 100), c='k')\n",
    "# ax[1].plot(np.linspace(1e-3,1e-2,100), np.linspace(1e-3, 1e-2, 100), c='k')\n",
    "\n",
    "# ax.set_title('ISD with $p_0 = 0.001$')\n",
    "# ax[1].set_title('SSF with $k=1$')\n",
    "ax.legend(loc='lower right')\n",
    "ax.set_yscale('log')\n",
    "ax.set_ylabel('Logical error rate, $p_\\log$')\n",
    "ax.set_xlabel('Rounds, $t$')\n",
    "plt.legend(loc='lower right')\n",
    "# ax[1].set_xlabel('$p$')\n",
    "\n",
    "# handles, labels = plt.gca().get_legend_handles_labels()\n",
    "# order = [3,2,1,0]\n",
    "# plt.legend([handles[idx] for idx in order],[labels[idx] for idx in order])"
   ]
  },
  {
   "cell_type": "code",
   "execution_count": null,
   "metadata": {},
   "outputs": [],
   "source": []
  }
 ],
 "metadata": {
  "interpreter": {
   "hash": "0ec6a07b5680b7cd4331b54bc02dbe3823b9a431e7975ff6d8e95dcfb04b0c38"
  },
  "kernelspec": {
   "display_name": "Python 3.8.12 ('qc')",
   "language": "python",
   "name": "python3"
  },
  "language_info": {
   "codemirror_mode": {
    "name": "ipython",
    "version": 3
   },
   "file_extension": ".py",
   "mimetype": "text/x-python",
   "name": "python",
   "nbconvert_exporter": "python",
   "pygments_lexer": "ipython3",
   "version": "3.8.18"
  },
  "orig_nbformat": 4
 },
 "nbformat": 4,
 "nbformat_minor": 2
}
