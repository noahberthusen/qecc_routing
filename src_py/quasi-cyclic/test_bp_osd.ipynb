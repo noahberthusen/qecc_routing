{
 "cells": [
  {
   "cell_type": "code",
   "execution_count": 1,
   "metadata": {},
   "outputs": [],
   "source": [
    "import numpy as np\n",
    "from numpy.linalg import matrix_power, matrix_rank\n",
    "import matplotlib.pyplot as plt\n",
    "import pandas as pd\n",
    "import galois\n",
    "\n",
    "# import sys\n",
    "# sys.path.append(\"../../../../ldpc/src/\")\n",
    "# from ldpc import bp_decoder\n",
    "# from ldpc.osd import bposd_decoder\n",
    "\n",
    "from scipy.optimize import curve_fit\n",
    "from result import Result, save_new_res, res_to_line"
   ]
  },
  {
   "cell_type": "code",
   "execution_count": 19,
   "metadata": {},
   "outputs": [],
   "source": [
    "codes = [\n",
    "    [6,6,3,1,2,3,1,2],\n",
    "    [15,3,9,1,2,0,2,7],\n",
    "    [9,6,3,1,2,3,1,2],\n",
    "    [12,6,3,1,2,3,1,2],\n",
    "    [12,12,3,2,7,3,1,2],\n",
    "    [30,6,9,1,2,3,25,26],\n",
    "    [21,18,3,10,17,5,3,19]\n",
    "]\n",
    "code = codes[0]\n",
    "# code = [18,12,1,11,3,2,15,1]\n",
    "# code = [28,14,26,6,8,7,9,20]\n",
    "code = [4,4,3,1,2,3,1,2]"
   ]
  },
  {
   "cell_type": "code",
   "execution_count": 20,
   "metadata": {},
   "outputs": [],
   "source": [
    "def cyclic_shift_matrix(l):\n",
    "    arr = np.eye(l, dtype=int)\n",
    "    return np.roll(arr, axis=1, shift=1)\n",
    "\n",
    "ell = code[0]\n",
    "m = code[1]\n",
    "\n",
    "x = np.kron(cyclic_shift_matrix(ell), np.eye(m))\n",
    "y = np.kron(np.eye(ell), cyclic_shift_matrix(m))\n",
    "\n",
    "A1 = matrix_power(x, code[2])\n",
    "A2 = matrix_power(y, code[3])\n",
    "A3 = matrix_power(y, code[4])\n",
    "A = ( A1 + A2 + A3 ) % 2\n",
    "\n",
    "B1 = matrix_power(y, code[5])\n",
    "B2 = matrix_power(x, code[6])\n",
    "B3 = matrix_power(x, code[7])\n",
    "B = ( B1 + B2 + B3 ) % 2\n",
    "\n",
    "Hx = np.hstack([A, B]).astype(int)\n",
    "Hz = np.hstack([B.T, A.T]).astype(int)\n",
    "# H = np.vstack([Hx, Hz])"
   ]
  },
  {
   "cell_type": "code",
   "execution_count": 21,
   "metadata": {},
   "outputs": [],
   "source": [
    "bit_nbhd = [np.where(Hx[:,i])[0] for i in range(Hx.shape[1])]\n",
    "check_nbhd = [np.where(Hx[i])[0] for i in range(Hx.shape[0])]"
   ]
  },
  {
   "cell_type": "code",
   "execution_count": 22,
   "metadata": {},
   "outputs": [
    {
     "name": "stdout",
     "output_type": "stream",
     "text": [
      "[0 0 0 0 0 0 0 0 0 1 0 1 1 0 0 1]\n"
     ]
    }
   ],
   "source": [
    "# error = np.zeros(Hx.shape[1])\n",
    "error = np.array([0,0,0,0,0,0,0,0,1,0,0,1,0,0,0,0,0,0,0,0,0,0,0,0,0,0,0,0,0,0,0,0])\n",
    "# syndrome = (Hx @ error) % 2\n",
    "\n",
    "mask = np.zeros(Hx.shape[0])\n",
    "\n",
    "# mask[2] = 1\n",
    "# error[0] = 1\n",
    "p = 0.005\n",
    "\n",
    "synd = (Hx @ error) % 2\n",
    "print(synd)"
   ]
  },
  {
   "cell_type": "code",
   "execution_count": null,
   "metadata": {},
   "outputs": [],
   "source": [
    "def bp(H, synd, p, T):\n",
    "    b2c_messages_t0 = np.copy(H) * np.log((1-p)/p)\n",
    "    b2c_messages_t1 = np.copy(b2c_messages_t0)\n",
    "\n",
    "    c2b_messages_t0 = np.zeros(H.shape)\n",
    "    c2b_messages_t1 = np.copy(c2b_messages_t0)\n",
    "\n",
    "    def update_bit_to_check(bit, check):\n",
    "        m = np.log((1-p)/p) + np.sum([c2b_messages_t0[nbr][bit] for nbr in bit_nbhd[bit] if nbr != check])\n",
    "        b2c_messages_t1[check][bit] = m\n",
    "\n",
    "    def update_check_to_bit(bit, check):\n",
    "        m = (1-mask[check])*(-1)**synd[check] * 2 * np.arctanh(np.prod([np.tanh(b2c_messages_t0[check][nbr]/2) for nbr in check_nbhd[check] if nbr != bit]))\n",
    "        c2b_messages_t1[check][bit] = m\n",
    "\n",
    "\n",
    "    for i in range(T):\n",
    "        for check, nbhd in enumerate(check_nbhd):\n",
    "            for bit in nbhd:\n",
    "                update_check_to_bit(bit, check)\n",
    "            for bit, nbhd in enumerate(bit_nbhd):\n",
    "                for check in nbhd:\n",
    "                    update_bit_to_check(bit, check)\n",
    "\n",
    "        b2c_messages_t0 = b2c_messages_t1\n",
    "        c2b_messages_t0 = c2b_messages_t1\n",
    "\n",
    "\n",
    "    return [np.log((1-p)/p) + np.sum([c2b_messages_t1[check][bit] for check in bit_nbhd[bit]]) for bit in range(H.shape[0])]\n",
    "bp(Hx, synd, p, Hx.shape[1])\n"
   ]
  },
  {
   "cell_type": "code",
   "execution_count": 127,
   "metadata": {},
   "outputs": [
    {
     "data": {
      "text/plain": [
       "array([ 0, 23, 18, 24, 16, 30, 25, 13, 11, 20, 21,  8,  7,  6,  5, 29,  3,\n",
       "        2,  1, 28, 26, 27, 15, 19, 17, 14, 12, 10,  9,  4, 22, 31],\n",
       "      dtype=int64)"
      ]
     },
     "execution_count": 127,
     "metadata": {},
     "output_type": "execute_result"
    }
   ],
   "source": [
    "prob_log_ratios = np.array([0. ,  0. ,  0. ,  0. ,  5.29, 0.,   0.,   0.  , 0. ,  5.29, 5.29, 0. ,  5.29, 0.,\n",
    " 5.29, 5.29, 0.,   5.29, 0.,   5.29, 0.,   0.,   5.29, 0.,   0. ,  0. ,  5.29, 5.29,\n",
    " 0. ,  0. ,  0.  , 5.29])\n",
    "np.argsort(prob_log_ratios)"
   ]
  },
  {
   "cell_type": "code",
   "execution_count": 197,
   "metadata": {},
   "outputs": [],
   "source": [
    "lin_ind_cols = np.array([ 0, 23, 18, 24, 16, 30, 25, 13, 11, 20, 21,  8,  7,  6,  5, 29,  \n",
    "                         3, 2,  1, 28, 26, 27, 15, 19, 17, 14, 12, 10,  9,  4, 22, 31])\n",
    "lin_ind_cols_inds = np.array([0,1,2,3,4,5,6,7,8,9,10,11,12,13,14,20])"
   ]
  },
  {
   "cell_type": "code",
   "execution_count": 198,
   "metadata": {},
   "outputs": [
    {
     "name": "stdout",
     "output_type": "stream",
     "text": [
      "[1 0 1 0 0 0 0 0 0 0 0 0 0 0 0 0]\n",
      "[1 0 1 0 1 1 0 0 0 0 0 0 0 0 0 0]\n",
      "[0 0 1 1 0 0 0 0 0 0 0 0 0 0]\n"
     ]
    }
   ],
   "source": [
    "error = np.zeros(Hx.shape[1]).astype(np.uint8)\n",
    "error[0] = 1\n",
    "error[1] = 1\n",
    "mask = np.zeros(Hx.shape[0]).astype(np.uint8)\n",
    "mask[0] = 1\n",
    "mask[2] = 1\n",
    "syndrome = (Hx @ error) % 2\n",
    "print(mask)\n",
    "print(syndrome)\n",
    "print(syndrome[mask==0])"
   ]
  },
  {
   "cell_type": "code",
   "execution_count": 203,
   "metadata": {},
   "outputs": [],
   "source": [
    "syndrome2 = np.array([0, 0, 1, 0, 1, 1, 0, 0, 0, 0, 0, 0, 0, 0, 0, 0])\n",
    "syndrome3 = np.array([1, 0, 0, 0, 1, 1, 0, 0, 0, 0, 0, 0, 0, 0, 0, 0])\n"
   ]
  },
  {
   "cell_type": "code",
   "execution_count": 205,
   "metadata": {},
   "outputs": [
    {
     "name": "stdout",
     "output_type": "stream",
     "text": [
      "(16, 32)\n",
      "(16, 16)\n",
      "16\n"
     ]
    },
    {
     "data": {
      "text/plain": [
       "array([1, 1, 0, 1, 0, 1, 1, 1, 1, 0, 0, 1, 0, 0, 0, 1], dtype=uint8)"
      ]
     },
     "execution_count": 205,
     "metadata": {},
     "output_type": "execute_result"
    }
   ],
   "source": [
    "Hop = Hx[:, np.argsort(prob_log_ratios)]\n",
    "print(Hop.shape)\n",
    "GF = galois.GF(2)\n",
    "rank = matrix_rank(GF(Hop))\n",
    "Hs = Hop[:, lin_ind_cols_inds]\n",
    "print(Hs.shape)\n",
    "\n",
    "print(matrix_rank(GF(Hs)))\n",
    "\n",
    "es = np.copy(np.linalg.inv(GF(Hs)) @ GF(syndrome3))\n",
    "# es = np.hstack([es, np.zeros(Hx.shape[1]-rank)])\n",
    "\n",
    "es"
   ]
  },
  {
   "cell_type": "code",
   "execution_count": 118,
   "metadata": {},
   "outputs": [
    {
     "data": {
      "text/plain": [
       "16"
      ]
     },
     "execution_count": 118,
     "metadata": {},
     "output_type": "execute_result"
    }
   ],
   "source": [
    "matrix_rank(GF(Hs))"
   ]
  },
  {
   "cell_type": "code",
   "execution_count": 13,
   "metadata": {},
   "outputs": [
    {
     "data": {
      "text/plain": [
       "100000"
      ]
     },
     "execution_count": 13,
     "metadata": {},
     "output_type": "execute_result"
    }
   ],
   "source": [
    "10**(5)"
   ]
  },
  {
   "cell_type": "code",
   "execution_count": 10,
   "metadata": {},
   "outputs": [
    {
     "data": {
      "text/plain": [
       "array([0.001  , 0.00325, 0.0055 , 0.00775, 0.01   ])"
      ]
     },
     "execution_count": 10,
     "metadata": {},
     "output_type": "execute_result"
    }
   ],
   "source": [
    "np.linspace(1e-3, 1e-2, 5)"
   ]
  },
  {
   "cell_type": "code",
   "execution_count": 2,
   "metadata": {},
   "outputs": [
    {
     "data": {
      "image/png": "[encoded data removed]",
      "text/plain": [
       "<Figure size 432x288 with 1 Axes>"
      ]
     },
     "metadata": {
      "needs_background": "light"
     },
     "output_type": "display_data"
    }
   ],
   "source": [
    "files = [\"results/q108/bp_skipping.res\", \"results/q108/bp_only.res\", \"results/q108/bp_only.res\", \"results/q108/bp_only.res\"]\n",
    "masks = [0, 0, 0.1, 0.2]\n",
    "\n",
    "for i, f in enumerate(files):\n",
    "\n",
    "    df = pd.read_csv(f)\n",
    "    df['p_error'] = 1 - df['p_log']\n",
    "    df['p_std_dev'] = np.sqrt(df['p_error'] * df['p_log'] / df['no_test'])\n",
    "\n",
    "    tmp_df = df[df[\"p_mask\"] == masks[i]]\n",
    "\n",
    "    def fun(x, a):\n",
    "        return 1 - (1 - a)**x\n",
    "\n",
    "    popt, pcov = curve_fit(fun, tmp_df['t'], tmp_df['p_error'], maxfev=1000, p0=(0.001),\n",
    "        sigma=tmp_df['p_std_dev'])\n",
    "\n",
    "    xx = np.linspace(1, 1000, 1000)\n",
    "    yy = fun(xx, *popt)\n",
    "    plt.plot(xx, yy, c='k')\n",
    "    # plt.plot(xx[:150], yy[:150], c='k', linestyle='--', alpha=0.8)\n",
    "\n",
    "    plt.scatter(tmp_df[\"t\"], tmp_df[\"p_error\"], label=f\"{f} {masks[i]}%\")\n",
    "    plt.yscale('log')\n",
    "    plt.legend(loc=\"lower right\")"
   ]
  },
  {
   "cell_type": "code",
   "execution_count": 35,
   "metadata": {},
   "outputs": [
    {
     "data": {
      "image/png": "[encoded data removed]",
      "text/plain": [
       "<Figure size 432x288 with 1 Axes>"
      ]
     },
     "metadata": {
      "needs_background": "light"
     },
     "output_type": "display_data"
    }
   ],
   "source": [
    "codes = [72, 108]\n",
    "files = [f\"results/q{c}/bp_osd.res\" for c in codes]\n",
    "p_mask = 0.3\n",
    "\n",
    "for i, f in enumerate(files):\n",
    "\n",
    "    df = pd.read_csv(f)\n",
    "    df['p_error'] = 1 - df['p_log']\n",
    "    df['p_std_dev'] = np.sqrt(df['p_error'] * df['p_log'] / df['no_test'])\n",
    "\n",
    "    tmp_df = df[df[\"p_mask\"] == p_mask]\n",
    "    def fun(x, a):\n",
    "        return 1 - (1 - a)**x\n",
    "\n",
    "    popt, pcov = curve_fit(fun, tmp_df['t'], tmp_df['p_error'], maxfev=1000, p0=(0.001),\n",
    "        sigma=tmp_df['p_std_dev'])\n",
    "\n",
    "    # xx = np.linspace(1, 100, 100)\n",
    "    # yy = fun(xx, *popt)\n",
    "    # plt.plot(xx, yy, c='k')\n",
    "\n",
    "    plt.plot(xx, [x*0.005 for x in xx], c='r')\n",
    "\n",
    "    plt.scatter(tmp_df[\"t\"], tmp_df[\"p_error\"], label=f\"{codes[i]}, {p_mask}% masked\")\n",
    "    plt.yscale('log')\n",
    "    plt.legend(loc=\"lower right\")"
   ]
  },
  {
   "cell_type": "code",
   "execution_count": null,
   "metadata": {},
   "outputs": [],
   "source": []
  }
 ],
 "metadata": {
  "kernelspec": {
   "display_name": "qc",
   "language": "python",
   "name": "python3"
  },
  "language_info": {
   "codemirror_mode": {
    "name": "ipython",
    "version": 3
   },
   "file_extension": ".py",
   "mimetype": "text/x-python",
   "name": "python",
   "nbconvert_exporter": "python",
   "pygments_lexer": "ipython3",
   "version": "3.8.17"
  },
  "orig_nbformat": 4
 },
 "nbformat": 4,
 "nbformat_minor": 2
}
