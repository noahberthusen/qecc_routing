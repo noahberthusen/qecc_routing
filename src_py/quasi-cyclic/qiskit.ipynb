{
 "cells": [
  {
   "cell_type": "code",
   "execution_count": 2,
   "metadata": {},
   "outputs": [],
   "source": [
    "import numpy as np\n",
    "from qiskit import QuantumCircuit, transpile\n",
    "from qiskit.quantum_info import Kraus, SuperOp\n",
    "from qiskit_aer import AerSimulator\n",
    "from qiskit.tools.visualization import plot_histogram\n",
    "\n",
    "# Import from Qiskit Aer noise module\n",
    "from qiskit_aer.noise import (NoiseModel, QuantumError, ReadoutError,\n",
    "    pauli_error, depolarizing_error, thermal_relaxation_error)\n",
    "\n",
    "\n",
    "# Required imports\n",
    "\n",
    "from qiskit import QuantumCircuit, QuantumRegister, ClassicalRegister\n",
    "from qiskit_aer import AerSimulator\n",
    "from qiskit.visualization import plot_histogram\n",
    "from qiskit.result import marginal_distribution\n",
    "from qiskit.circuit.library import UGate\n",
    "from numpy import pi, random"
   ]
  },
  {
   "cell_type": "code",
   "execution_count": 3,
   "metadata": {},
   "outputs": [],
   "source": [
    "p_reset = 0.001\n",
    "p_meas = 0.001\n",
    "p_gate1 = 0.001\n",
    "p_gate2 = 0.001\n",
    "\n",
    "# QuantumError objects\n",
    "error_reset = pauli_error([('X', p_reset), ('I', 1 - p_reset)])\n",
    "error_meas = pauli_error([('X',p_meas), ('I', 1 - p_meas)])\n",
    "error_gate1 = depolarizing_error(p_gate1, 1)\n",
    "error_gate2 = depolarizing_error(p_gate2, 2)\n",
    "\n",
    "# Add errors to noise model\n",
    "noise_model = NoiseModel()\n",
    "noise_model.add_all_qubit_quantum_error(error_reset, \"reset\")\n",
    "noise_model.add_all_qubit_quantum_error(error_meas, \"measure\")\n",
    "noise_model.add_all_qubit_quantum_error(error_gate1, [\"u1\", \"u2\", \"u3\"])\n",
    "noise_model.add_all_qubit_quantum_error(error_gate2, [\"cx\"])"
   ]
  },
  {
   "cell_type": "code",
   "execution_count": null,
   "metadata": {},
   "outputs": [],
   "source": [
    "def lr_bell_pair(path):\n",
    "\n",
    "    \n",
    "    pass\n",
    "#     c = stim.Circuit()\n",
    "\n",
    "#     for path in paths:\n",
    "#         size = len(path)\n",
    "#         c.append(\"CNOT\", path[:size-(size%2)])\n",
    "#         c.append(\"DEPOLARIZE2\", path[:size-(size%2)], p)\n",
    "#     c.append(\"TICK\")\n",
    "\n",
    "#     for path in paths:\n",
    "#         size = len(path)\n",
    "#         c.append(\"CNOT\", path[1:size-1+(size%2)])\n",
    "#         c.append(\"DEPOLARIZE2\", path[1:size-1+(size%2)], p)\n",
    "#     c.append(\"TICK\")\n",
    "\n",
    "#     for path in paths:\n",
    "#         c.append(\"H\", path[:-1][1::2])\n",
    "#         c.append(\"DEPOLARIZE1\", path[:-1][2::2], p)\n",
    "#     c.append(\"TICK\")\n",
    "\n",
    "#     for path in paths:\n",
    "#         c.append(\"X_ERROR\", path[1:-1], p)\n",
    "#         c.append(\"MR\", path[1:-1])\n",
    "#         c.append(\"X_ERROR\", path[1:-1], p)\n",
    "#     c.append(\"TICK\")\n",
    "\n",
    "#     for j, path in enumerate(paths):\n",
    "#         tot_len = sum([len(p[1:-1]) for p in paths[j:]])\n",
    "#         size = len(path)\n",
    "#         for i in range(1 + (size%2), size-1, 2):\n",
    "#             c.append(\"CZ\", [stim.target_rec(-tot_len+i-1), path[0]])\n",
    "#         c.append(\"DEPOLARIZE1\", path[0], p)\n",
    "#         for i in range(2 - (size%2), size-1, 2):\n",
    "#             c.append(\"CX\", [stim.target_rec(-tot_len+i-1), path[-1]])\n",
    "#         c.append(\"DEPOLARIZE1\", path[-1], p)\n",
    "#     c.append(\"TICK\")\n",
    "\n",
    "#     return c"
   ]
  },
  {
   "cell_type": "code",
   "execution_count": 6,
   "metadata": {},
   "outputs": [],
   "source": [
    "qubit = QuantumRegister(1, \"Q\")\n",
    "ebit0 = QuantumRegister(1, \"A\")\n",
    "ebit1 = QuantumRegister(1, \"B\")\n",
    "a = ClassicalRegister(1, \"a\")\n",
    "b = ClassicalRegister(1, \"b\")\n",
    "\n",
    "protocol = QuantumCircuit(qubit, ebit0, ebit1, a, b)\n",
    "\n",
    "# Prepare ebit used for teleportation\n",
    "protocol.h(ebit0)\n",
    "protocol.cx(ebit0, ebit1)\n",
    "protocol.barrier()\n",
    "\n",
    "# Alice's operations\n",
    "protocol.cx(qubit, ebit0)\n",
    "protocol.h(qubit)\n",
    "protocol.barrier()\n",
    "\n",
    "# Alice measures and sends classical bits to Bob\n",
    "protocol.measure(ebit0, a)\n",
    "protocol.measure(qubit, b)\n",
    "protocol.barrier()\n",
    "\n",
    "# Bob uses the classical bits to conditionally apply gates\n",
    "with protocol.if_test((a, 1)):\n",
    "    protocol.x(ebit1)\n",
    "with protocol.if_test((b, 1)):\n",
    "    protocol.z(ebit1)\n",
    "\n",
    "    "
   ]
  },
  {
   "cell_type": "code",
   "execution_count": 7,
   "metadata": {},
   "outputs": [
    {
     "data": {
      "image/png": "[encoded data removed]",
      "text/plain": [
       "<Figure size 700x500 with 1 Axes>"
      ]
     },
     "execution_count": 7,
     "metadata": {},
     "output_type": "execute_result"
    }
   ],
   "source": [
    "# Create noisy simulator backend\n",
    "sim_noise = AerSimulator(noise_model=noise_model)\n",
    "\n",
    "# Transpile circuit for noisy basis gates\n",
    "circ_tnoise = transpile(protocol, sim_noise)\n",
    "\n",
    "# Run and get counts\n",
    "result_bit_flip = sim_noise.run(circ_tnoise).result()\n",
    "counts_bit_flip = result_bit_flip.get_counts(0)\n",
    "\n",
    "# Plot noisy output\n",
    "plot_histogram(counts_bit_flip)"
   ]
  },
  {
   "cell_type": "code",
   "execution_count": null,
   "metadata": {},
   "outputs": [],
   "source": []
  }
 ],
 "metadata": {
  "kernelspec": {
   "display_name": "qc",
   "language": "python",
   "name": "python3"
  },
  "language_info": {
   "codemirror_mode": {
    "name": "ipython",
    "version": 3
   },
   "file_extension": ".py",
   "mimetype": "text/x-python",
   "name": "python",
   "nbconvert_exporter": "python",
   "pygments_lexer": "ipython3",
   "version": "3.11.5"
  }
 },
 "nbformat": 4,
 "nbformat_minor": 2
}
