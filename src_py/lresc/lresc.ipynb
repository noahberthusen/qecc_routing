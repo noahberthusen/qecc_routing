{
 "cells": [
  {
   "cell_type": "code",
   "execution_count": 1,
   "metadata": {},
   "outputs": [],
   "source": [
    "import numpy as np\n",
    "import matplotlib.pyplot as plt\n",
    "import galois\n",
    "import itertools\n",
    "from mec import make_circle"
   ]
  },
  {
   "cell_type": "code",
   "execution_count": 2,
   "metadata": {},
   "outputs": [
    {
     "name": "stderr",
     "output_type": "stream",
     "text": [
      "C:\\Users\\nfber\\AppData\\Roaming\\Python\\Python38\\site-packages\\numba\\np\\ufunc\\parallel.py:371: NumbaWarning: \u001b[1mThe TBB threading layer requires TBB version 2021 update 6 or later i.e., TBB_INTERFACE_VERSION >= 12060. Found TBB_INTERFACE_VERSION = 12050. The TBB threading layer is disabled.\u001b[0m\n",
      "  warnings.warn(problem)\n"
     ]
    }
   ],
   "source": [
    "GF = galois.GF(2)\n",
    "def find_distance(H):\n",
    "    # good thing these codes are small\n",
    "    n = H.shape[1]\n",
    "    min_weight = n\n",
    "    for i in range(2**n):\n",
    "        cw = bin(i)[2:].zfill(n)\n",
    "        cw = [int(digit) for digit in cw]\n",
    "        if not np.any((H @ cw) % 2):\n",
    "            weight = np.count_nonzero(cw)\n",
    "            if 0 < weight < min_weight:\n",
    "                min_weight = weight\n",
    "    return min_weight\n",
    "\n",
    "def repetition_code(n):\n",
    "    H = np.zeros((n-1,n))\n",
    "    for i in range(n-1):\n",
    "        H[i][i] = H[i][i+1] = 1\n",
    "    return H\n",
    "\n",
    "def concatenate(H, rep_size):\n",
    "    # rep = repetition_code(rep_size)\n",
    "    n = H.shape[1]*rep_size\n",
    "    k = H.shape[1]-np.linalg.matrix_rank(H)\n",
    "    new_H = np.zeros((n-k,n), dtype=np.uint8)\n",
    "\n",
    "    new_H[0:H.shape[0], 0:H.shape[1]] = H\n",
    "    for i in range(H.shape[1]):\n",
    "        for j in range(rep_size-1):\n",
    "            new_H[H.shape[0]+(i*(rep_size-1)+j)][i+(j*H.shape[1])] = 1\n",
    "            new_H[H.shape[0]+(i*(rep_size-1)+j)][i+((j+1)*H.shape[1])] = 1\n",
    "\n",
    "    return new_H"
   ]
  },
  {
   "cell_type": "code",
   "execution_count": 3,
   "metadata": {},
   "outputs": [],
   "source": [
    "def find_best_1D_embedding(H, minimize_checks=False):\n",
    "    # find best ordering of bit and checks to reduce lr edges\n",
    "    # good thing the codes are small\n",
    "    n = H.shape[1]\n",
    "    m = H.shape[0]\n",
    "    bits = np.zeros(n)\n",
    "    checks = np.zeros(m)\n",
    "\n",
    "    check_nbhd = []\n",
    "    for check in range(m):\n",
    "        check_nbhd.append(np.where(H[check])[0])\n",
    "\n",
    "    best_per = None\n",
    "    min_val = np.count_nonzero(H)\n",
    "    best_lr_checks = None\n",
    "\n",
    "    for per in itertools.permutations([f\"b{i}\" for i in range(n)] + [f\"c{i}\" for i in range(m)]):\n",
    "        # probably no checks at the end (at least if all checks have at least two bits in them)\n",
    "        # also add condition for two checks next to each other, shouldn't really happen probably\n",
    "        if per <= per[::-1]:\n",
    "            if (per[0][0] == \"c\") or (per[-1][0] == \"c\"): continue\n",
    "            fail = 0\n",
    "            for i in range(n+m-1):\n",
    "                if (per[i][0] == per[(i+1)%(n+m)][0] == \"c\"):\n",
    "                    fail = 1\n",
    "                    break\n",
    "            if fail: continue\n",
    "\n",
    "            for i, node in enumerate(per):\n",
    "                if node[0] == \"b\":\n",
    "                    bits[int(node[1:])] = i\n",
    "                else:\n",
    "                    checks[int(node[1:])] = i\n",
    "            \n",
    "            num_lr = 0\n",
    "            lr_checks = set()\n",
    "\n",
    "            for check in range(m):\n",
    "                for bit in check_nbhd[check]:\n",
    "                    if abs(checks[check]-bits[bit]) != 1:\n",
    "                        num_lr += 1\n",
    "                        lr_checks |= {(check, bit)}\n",
    "                        if minimize_checks:\n",
    "                            break\n",
    "\n",
    "            if num_lr < min_val:\n",
    "                best_per = per\n",
    "                min_val = num_lr\n",
    "                best_lr_checks = lr_checks \n",
    "\n",
    "    return best_per, min_val, best_lr_checks"
   ]
  },
  {
   "cell_type": "code",
   "execution_count": 4,
   "metadata": {},
   "outputs": [],
   "source": [
    "def search_codes(n, k, d, num_iters):\n",
    "    # singleton bound d <= n - k + 1\n",
    "    if d > n-k+1:\n",
    "        raise ValueError(\"Singleton bound is violated.\")\n",
    "\n",
    "    best_code = None\n",
    "    best_weight = n*(n-k)\n",
    "\n",
    "    for i in range(num_iters):\n",
    "        H = np.random.randint(2, size=(n-k,n))\n",
    "        rank = np.linalg.matrix_rank(GF(H))\n",
    "        if (rank != n-k): continue\n",
    "\n",
    "        distance = find_distance(H)\n",
    "        if distance == d:\n",
    "            if (np.count_nonzero(H) < best_weight):\n",
    "                best_code = H\n",
    "                best_distance = distance\n",
    "    \n",
    "    return best_code\n",
    "\n",
    "def search_almost_local(n, k, num_iters):\n",
    "    best_code = None\n",
    "    best_d = 0\n",
    "    \n",
    "    for i in range(num_iters):\n",
    "        H = np.zeros((n-k,n), dtype=np.uint8)\n",
    "        for j in range(n-k):\n",
    "            tmp = np.array([0] * 2 + [1] * (n-2))\n",
    "            np.random.shuffle(tmp)\n",
    "            H[j] = tmp\n",
    "\n",
    "\n",
    "        rank = np.linalg.matrix_rank(GF(H))\n",
    "        if (rank != n-k): continue\n",
    "\n",
    "        d = find_distance(H)\n",
    "        if d > best_d:\n",
    "            best_code = H\n",
    "            best_d = d\n",
    "    \n",
    "    return best_code\n",
    "\n",
    "\n",
    "\n",
    "def search_codes_dvdc(n, dv, dc):\n",
    "    # dv, w_c. Every bit is in this many checks\n",
    "    # dc, w_r. Every check has this many bits in it\n",
    "    m = (n*dv)//dc\n",
    "    k = n - m\n",
    "\n",
    "    vs = np.array([[j for i in range(dv)] for j in range(n)]).flatten()\n",
    "    cs = np.array([[j for i in range(dc)] for j in range(m)]).flatten()\n",
    "\n",
    "    H = np.zeros((m, n), dtype=np.uint8)\n",
    "\n",
    "    while (vs.size and cs.size):\n",
    "        # choose random 'stub' from each array\n",
    "        double_edge = True\n",
    "        while(double_edge):\n",
    "            v_ind = np.random.randint(0, len(vs))\n",
    "            c_ind = np.random.randint(0, len(cs))\n",
    "\n",
    "            if (H[cs[c_ind]][vs[v_ind]] != 1):\n",
    "                double_edge = False\n",
    "                H[cs[c_ind]][vs[v_ind]] = 1\n",
    "                vs = np.delete(vs, v_ind)\n",
    "                cs =np.delete(cs, c_ind)\n",
    "        \n",
    "    print(f\"[[{n},{np.linalg.matrix_rank(GF(H))},{find_distance(H)}]]\")"
   ]
  },
  {
   "cell_type": "code",
   "execution_count": 6,
   "metadata": {},
   "outputs": [
    {
     "name": "stdout",
     "output_type": "stream",
     "text": [
      "[3,2,2]\n"
     ]
    }
   ],
   "source": [
    "oH = np.array([[1,1,1]])\n",
    "# oH = search_codes(6,2,4,1000)\n",
    "\n",
    "# oH = np.array([ # [5,2,3]\n",
    "#     [1,0,0,1,0],\n",
    "#     [0,1,1,0,0],\n",
    "#     [0,1,0,1,1]\n",
    "# ])\n",
    "\n",
    "# oH = np.array([ # [6,2,4]\n",
    "#     [1,0,1,0,0,0],\n",
    "#     [0,1,0,1,0,0],\n",
    "#     [1,1,0,0,1,0],\n",
    "#     [0,0,0,0,1,1]\n",
    "# ])\n",
    "\n",
    "n = oH.shape[1]\n",
    "m = np.linalg.matrix_rank(GF(oH))\n",
    "d = find_distance(oH)\n",
    "H = concatenate(oH, 2)\n",
    "print(f\"[{n},{n-m},{d}]\")"
   ]
  },
  {
   "cell_type": "code",
   "execution_count": 7,
   "metadata": {},
   "outputs": [
    {
     "name": "stdout",
     "output_type": "stream",
     "text": [
      "[[52,4,4]],[[100,4,4]]\n",
      "[[130,4,6]],[[244,4,6]]\n",
      "[[244,4,8]],[[452,4,8]]\n",
      "[[394,4,10]],[[724,4,10]]\n",
      "[[580,4,12]],[[1060,4,12]]\n",
      "[[802,4,14]],[[1460,4,14]]\n",
      "[[1060,4,16]],[[1924,4,16]]\n",
      "[[1354,4,18]],[[2452,4,18]]\n"
     ]
    }
   ],
   "source": [
    "for i in range(2,10):\n",
    "    k = (n-m)\n",
    "    print(f\"[[{(n*i)**2+(n*i-2)**2},{k**2},{i*d}]],[[{((d*i)**2+(d*i-1)**2)*(k**2)},{k**2},{d*i}]]\")"
   ]
  },
  {
   "cell_type": "code",
   "execution_count": 8,
   "metadata": {},
   "outputs": [
    {
     "name": "stdout",
     "output_type": "stream",
     "text": [
      "(('b0', 'b1', 'c0', 'b2'), 1, {(0, 0)})\n"
     ]
    }
   ],
   "source": [
    "best_emb = find_best_1D_embedding(oH, False)\n",
    "print(best_emb)"
   ]
  },
  {
   "cell_type": "code",
   "execution_count": 9,
   "metadata": {},
   "outputs": [
    {
     "name": "stdout",
     "output_type": "stream",
     "text": [
      "total edges: 180\n",
      "lr edges: 60, 0.333\n",
      "lr edges: 20, 0.111\n",
      "total gens: 48\n"
     ]
    }
   ],
   "source": [
    "tot_gens = 2 * (H.shape[0] * H.shape[1])\n",
    "tot_edges = 2 * np.count_nonzero(H) * (H.shape[0]+H.shape[1])\n",
    "lr_edges = 2 * np.count_nonzero(H[:oH.shape[0]]) * (H.shape[0]+H.shape[1])\n",
    "lr_edges_emb = 2 * best_emb[1]  * (H.shape[0]+H.shape[1])\n",
    "lr_gens = 2 * len(best_emb[2]) * (H.shape[0]+H.shape[1])\n",
    "\n",
    "print(f\"total edges: {tot_edges}\")\n",
    "print(f\"lr edges: {lr_edges}, {np.round(lr_edges/tot_edges, 3)}\")\n",
    "print(f\"lr edges: {lr_edges_emb}, {np.round(lr_edges_emb/tot_edges, 3)}\")\n",
    "print(f\"total gens: {tot_gens}\")"
   ]
  },
  {
   "cell_type": "code",
   "execution_count": 10,
   "metadata": {},
   "outputs": [
    {
     "name": "stdout",
     "output_type": "stream",
     "text": [
      "[6,2,4]\n",
      "c0: [0 1 2]\n",
      "0-->3\n",
      "1-->4\n",
      "2-->2\n",
      "['b0' 'c1' 'b3' 'b1' 'c2' 'b4' 'c0' 'b2' 'c3' 'b5']\n",
      "[[0 0 1 1 1 0]\n",
      " [1 0 0 1 0 0]\n",
      " [0 1 0 0 1 0]\n",
      " [0 0 1 0 0 1]]\n",
      "[(0, 3)]\n"
     ]
    }
   ],
   "source": [
    "def embed_1D(oH, rep_size, best_emb=None):\n",
    "    H = concatenate(oH, rep_size)\n",
    "    if best_emb == None: best_emb = find_best_1D_embedding(oH)\n",
    "    lr_connections = best_emb[2]\n",
    "\n",
    "    checks = np.zeros(H.shape[0], dtype=int)\n",
    "    bits = np.zeros(H.shape[1], dtype=int)\n",
    "\n",
    "    emb = np.empty(oH.shape[0]+oH.shape[1], dtype=object)\n",
    "    for i in range(oH.shape[0]+oH.shape[1]):\n",
    "        if best_emb[0][i][0] == \"b\":\n",
    "            emb[i] = np.empty(2*rep_size-1, dtype=object)\n",
    "            bits[int(best_emb[0][i][1:])] = i\n",
    "        else:\n",
    "            emb[i] = best_emb[0][i]\n",
    "\n",
    "    for bit in range(oH.shape[1]):\n",
    "        # place the repetition codes\n",
    "        for i in range(2*rep_size-1):\n",
    "            if (i % 2 == 0):\n",
    "                emb[bits[bit]][i] = f\"b{bit+((i//2)*oH.shape[1])}\"\n",
    "            else:\n",
    "                emb[bits[bit]][i] = f\"c{oH.shape[0]+((i-1)//2)+(bit*(rep_size-1))}\"\n",
    "\n",
    "    for i, node in enumerate(np.hstack(emb)):\n",
    "        if node[0] == \"b\":\n",
    "            bits[int(node[1:])] = i\n",
    "        else:\n",
    "            checks[int(node[1:])] = i\n",
    "\n",
    "    emb = np.hstack(emb)\n",
    "    # print(emb)\n",
    "    # print(bits)\n",
    "    # print(checks)\n",
    "    # print()\n",
    "\n",
    "    new_lr_connections = []\n",
    "    for check in range(oH.shape[0]):\n",
    "        # only need to weight balance the original checks\n",
    "        print(f\"c{check}: {np.where(oH[check])[0]}\")\n",
    "\n",
    "        for bit in np.where(oH[check])[0]:\n",
    "            min_dist = len(emb)\n",
    "            new_bit = bit\n",
    "            for i in range(rep_size):\n",
    "                tmp_dist = abs(checks[check] - bits[bit+(i*oH.shape[1])])\n",
    "                if tmp_dist < min_dist:\n",
    "                    min_dist = tmp_dist\n",
    "                    new_bit = bit + (i*oH.shape[1])\n",
    "\n",
    "            print(f\"{bit}-->{new_bit}\")\n",
    "            if (check, bit) in lr_connections: new_lr_connections.append((check, new_bit))\n",
    "            H[check][bit] = 0\n",
    "            H[check][new_bit] = 1\n",
    "\n",
    "    # print(H)\n",
    "    return H, emb, new_lr_connections\n",
    "\n",
    "rep_size = 2\n",
    "print(f\"[{rep_size*n},{n-m},{rep_size*d}]\")\n",
    "H, emb, lr_cons = embed_1D(oH, rep_size, best_emb=best_emb)\n",
    "print(emb)\n",
    "print(H)\n",
    "print(lr_cons)"
   ]
  },
  {
   "cell_type": "code",
   "execution_count": 11,
   "metadata": {},
   "outputs": [],
   "source": [
    "def get_relative_positions(H, emb):\n",
    "    n = H.shape[1]\n",
    "    m = H.shape[0]\n",
    "\n",
    "    bits = np.zeros(n, dtype=int)\n",
    "    checks = np.zeros(m, dtype=int)\n",
    "\n",
    "    bit_nbhd = []\n",
    "    for bit in range(n):\n",
    "        bit_nbhd.append(np.where(H[:,bit])[0])\n",
    "    check_nbhd = []\n",
    "    for check in range(m):\n",
    "        check_nbhd.append(np.where(H[check])[0])\n",
    "\n",
    "    for i, node in enumerate(emb):\n",
    "        if node[0] == \"b\":\n",
    "            bits[int(node[1:])] = i\n",
    "        else:\n",
    "            checks[int(node[1:])] = i\n",
    "\n",
    "    rel_positions = np.empty(n+m, dtype=object)\n",
    "\n",
    "    for i, bit in enumerate(bits):\n",
    "        rel_positions[bit] = [checks[check] - bit for check in bit_nbhd[i]]\n",
    "    for i, check in enumerate(checks):\n",
    "        rel_positions[check] = [bits[bit] - check for bit in check_nbhd[i]]\n",
    "\n",
    "    return rel_positions"
   ]
  },
  {
   "cell_type": "code",
   "execution_count": 13,
   "metadata": {},
   "outputs": [
    {
     "name": "stdout",
     "output_type": "stream",
     "text": [
      "[[52,4,4]]\n"
     ]
    }
   ],
   "source": [
    "def embed_hgp(H, emb):\n",
    "    lattice = np.empty((len(emb), len(emb)), dtype=object)\n",
    "    rel_pos = get_relative_positions(H, emb)\n",
    "\n",
    "    n = H.shape[1]\n",
    "    k = n-np.linalg.matrix_rank(GF(H))\n",
    "    qbts = np.array([None for _ in range(n**2+(n-k)**2)])\n",
    "\n",
    "    qb_ct = 0\n",
    "    x_ct = 0\n",
    "    z_ct = 0\n",
    "    for i in range(len(emb)):\n",
    "        for j in range(len(emb)):\n",
    "            if emb[i][0] == emb[j][0]:\n",
    "                lattice[i][j] = f\"q{qb_ct}\"\n",
    "                qbts[qb_ct] = (i,j)\n",
    "                qb_ct += 1\n",
    "            elif emb[i][0] == \"c\" and emb[j][0] == \"b\":\n",
    "                lattice[i][j] = f\"x{x_ct}\"\n",
    "                x_ct += 1\n",
    "            else:\n",
    "                lattice[i][j] = f\"z{z_ct}\"\n",
    "                z_ct += 1\n",
    "    \n",
    "    # print(lattice)\n",
    "    Hz = np.zeros((z_ct, qb_ct), dtype=np.uint8)\n",
    "    Hx = np.zeros((x_ct, qb_ct), dtype=np.uint8)\n",
    "\n",
    "    for i, qbt in enumerate(qbts):\n",
    "        y, x = qbt\n",
    "        hor_nbrs = rel_pos[x]\n",
    "        ver_nbrs = rel_pos[y]\n",
    "\n",
    "        for nbr in hor_nbrs:\n",
    "            gen = lattice[y][x+nbr]\n",
    "            gen_type = gen[0]\n",
    "            gen_ind = int(gen[1:])\n",
    "            if gen_type == \"z\":\n",
    "                Hz[gen_ind][i] = 1\n",
    "            else:\n",
    "                Hx[gen_ind][i] = 1\n",
    "        for nbr in ver_nbrs:\n",
    "            gen = lattice[y+nbr][x]\n",
    "            gen_type = gen[0]\n",
    "            gen_ind = int(gen[1:])\n",
    "            if gen_type == \"z\":\n",
    "                Hz[gen_ind][i] = 1\n",
    "            else:\n",
    "                Hx[gen_ind][i] = 1\n",
    "\n",
    "    return Hz, Hx, qbts\n",
    "Hz, Hx, qbts = embed_hgp(H, emb)\n",
    "\n",
    "n = Hx.shape[1]\n",
    "k = Hx.shape[1]-2*Hx.shape[0]\n",
    "print(f\"[[{n},{k},{rep_size*d}]]\")"
   ]
  },
  {
   "cell_type": "code",
   "execution_count": 14,
   "metadata": {},
   "outputs": [
    {
     "data": {
      "text/plain": [
       "(array([0.625     , 0.        , 0.        , 0.        , 0.        ,\n",
       "        0.        , 0.        , 0.        , 0.        , 0.        ,\n",
       "        0.        , 0.        , 0.        , 0.        , 0.33333333,\n",
       "        0.        , 0.        , 0.        , 0.04166667]),\n",
       " array([1.        , 1.10081452, 1.20162905, 1.30244357, 1.40325809,\n",
       "        1.50407262, 1.60488714, 1.70570166, 1.80651619, 1.90733071,\n",
       "        2.00814524, 2.10895976, 2.20977428, 2.31058881, 2.41140333,\n",
       "        2.51221785, 2.61303238, 2.7138469 , 2.81466142, 2.91547595]),\n",
       " <BarContainer object of 19 artists>)"
      ]
     },
     "execution_count": 14,
     "metadata": {},
     "output_type": "execute_result"
    },
    {
     "data": {
      "image/png": "[encoded data removed]",
      "text/plain": [
       "<Figure size 432x288 with 1 Axes>"
      ]
     },
     "metadata": {
      "needs_background": "light"
     },
     "output_type": "display_data"
    }
   ],
   "source": [
    "x_mask = np.zeros(Hx.shape[0], dtype=np.uint8)\n",
    "z_mask = np.zeros(Hz.shape[0], dtype=np.uint8)\n",
    "\n",
    "rs = []\n",
    "for i in range(Hx.shape[0]):\n",
    "    gen_qbts = qbts[np.where(Hx[i])[0]]\n",
    "    rs.append(make_circle(gen_qbts)[2])\n",
    "    if make_circle(gen_qbts)[2] > 1:\n",
    "        x_mask[i] = 1\n",
    "for i in range(Hz.shape[0]):\n",
    "    gen_qbts = qbts[np.where(Hz[i])[0]]\n",
    "    rs.append(make_circle(gen_qbts)[2])\n",
    "    if make_circle(gen_qbts)[2] > 1:\n",
    "        z_mask[i] = 1\n",
    "\n",
    "# scaled_rs = [(r - min(rs)) / (max(rs) - min(rs)) for r in rs]\n",
    "bins = np.linspace(min(rs), max(rs), 20)\n",
    "counts, _ = np.histogram(rs, bins=bins)\n",
    "counts_weighter = counts.sum()\n",
    "\n",
    "# print(code, np.percentile(scaled_rs, 70))\n",
    "plt.hist(bins[:-1], bins=bins, weights=counts/counts_weighter)"
   ]
  },
  {
   "cell_type": "code",
   "execution_count": 15,
   "metadata": {},
   "outputs": [
    {
     "name": "stdout",
     "output_type": "stream",
     "text": [
      "0.375\n",
      "9\n"
     ]
    }
   ],
   "source": [
    "print(np.count_nonzero(x_mask) / Hx.shape[0])\n",
    "print(np.count_nonzero(x_mask))"
   ]
  },
  {
   "cell_type": "code",
   "execution_count": 16,
   "metadata": {},
   "outputs": [],
   "source": [
    "hx1 = np.kron(H, np.eye(H.shape[1], dtype=bool))\n",
    "hx2 = np.kron(np.eye(H.shape[0], dtype=bool), H.T)\n",
    "Hx = np.hstack([hx1, hx2])\n",
    "\n",
    "hz1 = np.kron(np.eye(H.shape[1], dtype=bool), H)\n",
    "hz2 = np.kron(H.T, np.eye(H.shape[0], dtype=bool))\n",
    "Hz = np.hstack([hz1, hz2])"
   ]
  },
  {
   "cell_type": "code",
   "execution_count": 17,
   "metadata": {},
   "outputs": [
    {
     "name": "stdout",
     "output_type": "stream",
     "text": [
      "[array([1], dtype=int64), array([2], dtype=int64), array([0, 3], dtype=int64), array([0, 1], dtype=int64), array([0, 2], dtype=int64), array([3], dtype=int64)]\n",
      "[array([2, 3, 4], dtype=int64), array([0, 3], dtype=int64), array([1, 4], dtype=int64), array([2, 5], dtype=int64)]\n"
     ]
    }
   ],
   "source": [
    "bit_nbhd = []\n",
    "for bit in range(H.shape[1]):\n",
    "    bit_nbhd.append(np.where(H[:,bit])[0])\n",
    "check_nbhd = []\n",
    "for check in range(H.shape[0]):\n",
    "    check_nbhd.append(np.where(H[check])[0])\n",
    "\n",
    "print(bit_nbhd)\n",
    "print(check_nbhd)"
   ]
  },
  {
   "cell_type": "code",
   "execution_count": 18,
   "metadata": {},
   "outputs": [
    {
     "name": "stdout",
     "output_type": "stream",
     "text": [
      "[[ True False False False]\n",
      " [ True False False False]\n",
      " [ True False False False]\n",
      " [ True  True  True  True]\n",
      " [ True False False False]\n",
      " [ True False False False]]\n"
     ]
    }
   ],
   "source": [
    "mask = np.array([[False for c2 in range(H.shape[0])] for v1 in range(H.shape[1])])\n",
    "\n",
    "for lr_con in lr_cons:\n",
    "    mask[:, lr_con[0]] = True\n",
    "    mask[lr_con[1]] = True    \n",
    "\n",
    "print(mask)"
   ]
  },
  {
   "cell_type": "code",
   "execution_count": 385,
   "metadata": {},
   "outputs": [
    {
     "data": {
      "text/plain": [
       "21"
      ]
     },
     "execution_count": 385,
     "metadata": {},
     "output_type": "execute_result"
    }
   ],
   "source": [
    "np.count_nonzero(mask)"
   ]
  },
  {
   "cell_type": "code",
   "execution_count": 386,
   "metadata": {},
   "outputs": [
    {
     "data": {
      "text/plain": [
       "{(0, 0)}"
      ]
     },
     "execution_count": 386,
     "metadata": {},
     "output_type": "execute_result"
    }
   ],
   "source": [
    "set([(0,0)])"
   ]
  },
  {
   "cell_type": "code",
   "execution_count": null,
   "metadata": {},
   "outputs": [],
   "source": []
  }
 ],
 "metadata": {
  "kernelspec": {
   "display_name": "qc",
   "language": "python",
   "name": "python3"
  },
  "language_info": {
   "codemirror_mode": {
    "name": "ipython",
    "version": 3
   },
   "file_extension": ".py",
   "mimetype": "text/x-python",
   "name": "python",
   "nbconvert_exporter": "python",
   "pygments_lexer": "ipython3",
   "version": "3.8.17"
  },
  "orig_nbformat": 4
 },
 "nbformat": 4,
 "nbformat_minor": 2
}
