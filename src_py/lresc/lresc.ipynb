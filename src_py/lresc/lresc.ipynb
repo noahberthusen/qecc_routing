{
 "cells": [
  {
   "cell_type": "code",
   "execution_count": 287,
   "metadata": {},
   "outputs": [],
   "source": [
    "import numpy as np\n",
    "import matplotlib.pyplot as plt\n",
    "import galois\n",
    "import itertools\n",
    "from mec import make_circle"
   ]
  },
  {
   "cell_type": "code",
   "execution_count": 227,
   "metadata": {},
   "outputs": [],
   "source": [
    "GF = galois.GF(2)\n",
    "def find_distance(H):\n",
    "    # good thing these codes are small\n",
    "    n = H.shape[1]\n",
    "    min_weight = n\n",
    "    for i in range(2**n):\n",
    "        cw = bin(i)[2:].zfill(n)\n",
    "        cw = [int(digit) for digit in cw]\n",
    "        if not np.any((H @ cw) % 2):\n",
    "            weight = np.count_nonzero(cw)\n",
    "            if 0 < weight < min_weight:\n",
    "                min_weight = weight\n",
    "    return min_weight\n",
    "\n",
    "def repetition_code(n):\n",
    "    H = np.zeros((n-1,n))\n",
    "    for i in range(n-1):\n",
    "        H[i][i] = H[i][i+1] = 1\n",
    "    return H\n",
    "\n",
    "def concatenate(H, rep_size):\n",
    "    # rep = repetition_code(rep_size)\n",
    "    n = H.shape[1]*rep_size\n",
    "    k = H.shape[1]-np.linalg.matrix_rank(H)\n",
    "    new_H = np.zeros((n-k,n), dtype=np.uint8)\n",
    "\n",
    "    new_H[0:H.shape[0], 0:H.shape[1]] = H\n",
    "    for i in range(H.shape[1]):\n",
    "        for j in range(rep_size-1):\n",
    "            new_H[H.shape[0]+(i*(rep_size-1)+j)][i+(j*H.shape[1])] = 1\n",
    "            new_H[H.shape[0]+(i*(rep_size-1)+j)][i+((j+1)*H.shape[1])] = 1\n",
    "\n",
    "    return new_H"
   ]
  },
  {
   "cell_type": "code",
   "execution_count": 228,
   "metadata": {},
   "outputs": [],
   "source": [
    "def find_best_1D_embedding(H, minimize_checks=False):\n",
    "    # find best ordering of bit and checks to reduce lr edges\n",
    "    # good thing the codes are small\n",
    "    n = H.shape[1]\n",
    "    m = H.shape[0]\n",
    "    bits = np.zeros(n)\n",
    "    checks = np.zeros(m)\n",
    "\n",
    "    check_nbhd = []\n",
    "    for check in range(m):\n",
    "        check_nbhd.append(np.where(H[check])[0])\n",
    "\n",
    "    best_per = None\n",
    "    min_val = np.count_nonzero(H)\n",
    "    best_lr_checks = None\n",
    "\n",
    "    for per in itertools.permutations([f\"b{i}\" for i in range(n)] + [f\"c{i}\" for i in range(m)]):\n",
    "        # probably no checks at the end (at least if all checks have at least two bits in them)\n",
    "        # also add condition for two checks next to each other, shouldn't really happen probably\n",
    "        if per <= per[::-1]:\n",
    "            if (per[0][0] == \"c\") or (per[-1][0] == \"c\"): continue\n",
    "            fail = 0\n",
    "            for i in range(n+m-1):\n",
    "                if (per[i][0] == per[(i+1)%(n+m)][0] == \"c\"):\n",
    "                    fail = 1\n",
    "                    break\n",
    "            if fail: continue\n",
    "\n",
    "            for i, node in enumerate(per):\n",
    "                if node[0] == \"b\":\n",
    "                    bits[int(node[1:])] = i\n",
    "                else:\n",
    "                    checks[int(node[1:])] = i\n",
    "            \n",
    "            num_lr = 0\n",
    "            lr_checks = set()\n",
    "\n",
    "            for check in range(m):\n",
    "                for bit in check_nbhd[check]:\n",
    "                    if abs(checks[check]-bits[bit]) != 1:\n",
    "                        num_lr += 1\n",
    "                        lr_checks |= {check}\n",
    "                        if minimize_checks:\n",
    "                            break\n",
    "\n",
    "            if num_lr < min_val:\n",
    "                best_per = per\n",
    "                min_val = num_lr\n",
    "                best_lr_checks = lr_checks \n",
    "\n",
    "    return best_per, min_val, best_lr_checks"
   ]
  },
  {
   "cell_type": "code",
   "execution_count": 229,
   "metadata": {},
   "outputs": [],
   "source": [
    "def search_codes(n, k, d, num_iters):\n",
    "    # singleton bound d <= n - k + 1\n",
    "    if d > n-k+1:\n",
    "        raise ValueError(\"Singleton bound is violated.\")\n",
    "\n",
    "    best_code = None\n",
    "    best_weight = n*(n-k)\n",
    "\n",
    "    for i in range(num_iters):\n",
    "        H = np.random.randint(2, size=(n-k,n))\n",
    "        rank = np.linalg.matrix_rank(GF(H))\n",
    "        if (rank != n-k): continue\n",
    "\n",
    "        distance = find_distance(H)\n",
    "        if distance == d:\n",
    "            if (np.count_nonzero(H) < best_weight):\n",
    "                best_code = H\n",
    "                best_distance = distance\n",
    "    \n",
    "    return best_code\n",
    "\n",
    "\n",
    "\n",
    "def search_codes_dvdc(n, dv, dc):\n",
    "    # dv, w_c. Every bit is in this many checks\n",
    "    # dc, w_r. Every check has this many bits in it\n",
    "    m = (n*dv)//dc\n",
    "    k = n - m\n",
    "\n",
    "    vs = np.array([[j for i in range(dv)] for j in range(n)]).flatten()\n",
    "    cs = np.array([[j for i in range(dc)] for j in range(m)]).flatten()\n",
    "\n",
    "    H = np.zeros((m, n), dtype=np.uint8)\n",
    "\n",
    "    while (vs.size and cs.size):\n",
    "        # choose random 'stub' from each array\n",
    "        double_edge = True\n",
    "        while(double_edge):\n",
    "            v_ind = np.random.randint(0, len(vs))\n",
    "            c_ind = np.random.randint(0, len(cs))\n",
    "\n",
    "            if (H[cs[c_ind]][vs[v_ind]] != 1):\n",
    "                double_edge = False\n",
    "                H[cs[c_ind]][vs[v_ind]] = 1\n",
    "                vs = np.delete(vs, v_ind)\n",
    "                cs =np.delete(cs, c_ind)\n",
    "        \n",
    "    print(f\"[[{n},{np.linalg.matrix_rank(GF(H))},{find_distance(H)}]]\")"
   ]
  },
  {
   "cell_type": "code",
   "execution_count": 344,
   "metadata": {},
   "outputs": [
    {
     "name": "stdout",
     "output_type": "stream",
     "text": [
      "[5,2,3]\n",
      "[10,2,6]\n"
     ]
    }
   ],
   "source": [
    "# oH = np.array([[1,1,1]])\n",
    "# oH = search_codes(6,2,4,1000)\n",
    "\n",
    "oH = np.array([\n",
    "    [1,0,0,1,0],\n",
    "    [0,1,1,0,0],\n",
    "    [0,1,0,1,1]\n",
    "])\n",
    "\n",
    "n = oH.shape[1]\n",
    "m = np.linalg.matrix_rank(GF(oH))\n",
    "d = find_distance(oH)\n",
    "\n",
    "print(f\"[{n},{n-m},{d}]\")\n",
    "rep_size = 2\n",
    "H = concatenate(oH, rep_size)\n",
    "print(f\"[{rep_size*n},{n-m},{rep_size*d}]\")"
   ]
  },
  {
   "cell_type": "code",
   "execution_count": 345,
   "metadata": {},
   "outputs": [
    {
     "name": "stdout",
     "output_type": "stream",
     "text": [
      "(('b0', 'c0', 'b3', 'b2', 'c1', 'b1', 'c2', 'b4'), 1, {2})\n"
     ]
    }
   ],
   "source": [
    "best_emb = find_best_1D_embedding(oH, False)\n",
    "print(best_emb)"
   ]
  },
  {
   "cell_type": "code",
   "execution_count": 346,
   "metadata": {},
   "outputs": [
    {
     "name": "stdout",
     "output_type": "stream",
     "text": [
      "total edges: 612\n",
      "lr edges: 252, 0.412\n",
      "lr edges: 36, 0.059\n"
     ]
    }
   ],
   "source": [
    "tot_edges = 2 * np.count_nonzero(H) * (H.shape[0]+H.shape[1])\n",
    "lr_edges = 2 * np.count_nonzero(H[:oH.shape[0]]) * (H.shape[0]+H.shape[1])\n",
    "lr_edges_emb = 2 * best_emb[1]  * (H.shape[0]+H.shape[1])\n",
    "lr_gens = 2 * len(best_emb[2]) * (H.shape[0]+H.shape[1])\n",
    "\n",
    "print(f\"total edges: {tot_edges}\")\n",
    "print(f\"lr edges: {lr_edges}, {np.round(lr_edges/tot_edges, 3)}\")\n",
    "print(f\"lr edges: {lr_edges_emb}, {np.round(lr_edges_emb/tot_edges, 3)}\")"
   ]
  },
  {
   "cell_type": "code",
   "execution_count": 347,
   "metadata": {},
   "outputs": [
    {
     "name": "stdout",
     "output_type": "stream",
     "text": [
      "c0: [0 3]\n",
      "0-->10\n",
      "3-->3\n",
      "c1: [1 2]\n",
      "1-->1\n",
      "2-->12\n",
      "c2: [1 3 4]\n",
      "1-->11\n",
      "3-->13\n",
      "4-->4\n",
      "['b14' 'c12' 'b9' 'c11' 'b4' 'c2' 'b11' 'c6' 'b6' 'c5' 'b1' 'c1' 'b12'\n",
      " 'c8' 'b7' 'c7' 'b2' 'b13' 'c10' 'b8' 'c9' 'b3' 'c0' 'b10' 'c4' 'b5' 'c3'\n",
      " 'b0']\n",
      "[[0 0 0 1 0 0 0 0 0 0 1 0 0 0 0]\n",
      " [0 1 0 0 0 0 0 0 0 0 0 0 1 0 0]\n",
      " [0 0 0 0 1 0 0 0 0 0 0 1 0 1 0]\n",
      " [1 0 0 0 0 1 0 0 0 0 0 0 0 0 0]\n",
      " [0 0 0 0 0 1 0 0 0 0 1 0 0 0 0]\n",
      " [0 1 0 0 0 0 1 0 0 0 0 0 0 0 0]\n",
      " [0 0 0 0 0 0 1 0 0 0 0 1 0 0 0]\n",
      " [0 0 1 0 0 0 0 1 0 0 0 0 0 0 0]\n",
      " [0 0 0 0 0 0 0 1 0 0 0 0 1 0 0]\n",
      " [0 0 0 1 0 0 0 0 1 0 0 0 0 0 0]\n",
      " [0 0 0 0 0 0 0 0 1 0 0 0 0 1 0]\n",
      " [0 0 0 0 1 0 0 0 0 1 0 0 0 0 0]\n",
      " [0 0 0 0 0 0 0 0 0 1 0 0 0 0 1]]\n"
     ]
    }
   ],
   "source": [
    "def embed_1D(oH, rep_size):\n",
    "    H = concatenate(oH, rep_size)\n",
    "    best_emb = find_best_1D_embedding(oH)[0]\n",
    "\n",
    "    checks = np.zeros(H.shape[0], dtype=int)\n",
    "    bits = np.zeros(H.shape[1], dtype=int)\n",
    "\n",
    "    emb = np.empty(oH.shape[0]+oH.shape[1], dtype=object)\n",
    "    for i in range(oH.shape[0]+oH.shape[1]):\n",
    "        if best_emb[i][0] == \"b\":\n",
    "            emb[i] = np.empty(2*rep_size-1, dtype=object)\n",
    "            bits[int(best_emb[i][1:])] = i\n",
    "        else:\n",
    "            emb[i] = best_emb[i]\n",
    "\n",
    "    for bit in range(oH.shape[1]):\n",
    "        # place the repetition codes\n",
    "        for i in range(2*rep_size-1):\n",
    "            if (i % 2 == 0):\n",
    "                emb[bits[bit]][i] = f\"b{bit+((i//2)*oH.shape[1])}\"\n",
    "            else:\n",
    "                emb[bits[bit]][i] = f\"c{oH.shape[0]+((i-1)//2)+(bit*(rep_size-1))}\"\n",
    "\n",
    "    for i, node in enumerate(np.hstack(emb)):\n",
    "        if node[0] == \"b\":\n",
    "            bits[int(node[1:])] = i\n",
    "        else:\n",
    "            checks[int(node[1:])] = i\n",
    "\n",
    "    emb = np.hstack(emb)\n",
    "    # print(emb)\n",
    "    # print(bits)\n",
    "    # print(checks)\n",
    "    # print()\n",
    "\n",
    "    for check in range(oH.shape[0]):\n",
    "        # only need to weight balance the original checks\n",
    "        print(f\"c{check}: {np.where(oH[check])[0]}\")\n",
    "\n",
    "        for bit in np.where(oH[check])[0]:\n",
    "            min_dist = len(emb)\n",
    "            new_bit = bit\n",
    "            for i in range(rep_size):\n",
    "                tmp_dist = abs(checks[check] - bits[bit+(i*oH.shape[1])])\n",
    "                if tmp_dist < min_dist:\n",
    "                    min_dist = tmp_dist\n",
    "                    new_bit = bit + (i*oH.shape[1])\n",
    "\n",
    "            print(f\"{bit}-->{new_bit}\")\n",
    "            H[check][bit] = 0\n",
    "            H[check][new_bit] = 1\n",
    "\n",
    "    # print(H)\n",
    "    return H, emb\n",
    "\n",
    "H, emb = embed_1D(oH, 3)\n",
    "emb = emb[::-1]\n",
    "print(emb)\n",
    "print(H)"
   ]
  },
  {
   "cell_type": "code",
   "execution_count": 348,
   "metadata": {},
   "outputs": [],
   "source": [
    "def get_relative_positions(H, emb):\n",
    "    n = H.shape[1]\n",
    "    m = H.shape[0]\n",
    "\n",
    "    bits = np.zeros(n, dtype=int)\n",
    "    checks = np.zeros(m, dtype=int)\n",
    "\n",
    "    bit_nbhd = []\n",
    "    for bit in range(n):\n",
    "        bit_nbhd.append(np.where(H[:,bit])[0])\n",
    "    check_nbhd = []\n",
    "    for check in range(m):\n",
    "        check_nbhd.append(np.where(H[check])[0])\n",
    "\n",
    "    for i, node in enumerate(emb):\n",
    "        if node[0] == \"b\":\n",
    "            bits[int(node[1:])] = i\n",
    "        else:\n",
    "            checks[int(node[1:])] = i\n",
    "\n",
    "    rel_positions = np.empty(n+m, dtype=object)\n",
    "\n",
    "    for i, bit in enumerate(bits):\n",
    "        rel_positions[bit] = [checks[check] - bit for check in bit_nbhd[i]]\n",
    "    for i, check in enumerate(checks):\n",
    "        rel_positions[check] = [bits[bit] - check for bit in check_nbhd[i]]\n",
    "\n",
    "    return rel_positions"
   ]
  },
  {
   "cell_type": "code",
   "execution_count": 356,
   "metadata": {},
   "outputs": [],
   "source": [
    "def embed_hgp(H, emb):\n",
    "    lattice = np.empty((len(emb), len(emb)), dtype=object)\n",
    "    rel_pos = get_relative_positions(H, emb)\n",
    "\n",
    "    n = H.shape[1]\n",
    "    k = n-np.linalg.matrix_rank(GF(H))\n",
    "    qbts = np.array([None for _ in range(n**2+(n-k)**2)])\n",
    "\n",
    "    qb_ct = 0\n",
    "    x_ct = 0\n",
    "    z_ct = 0\n",
    "    for i in range(len(emb)):\n",
    "        for j in range(len(emb)):\n",
    "            if emb[i][0] == emb[j][0]:\n",
    "                lattice[i][j] = f\"q{qb_ct}\"\n",
    "                qbts[qb_ct] = (i,j)\n",
    "                qb_ct += 1\n",
    "            elif emb[i][0] == \"c\" and emb[j][0] == \"b\":\n",
    "                lattice[i][j] = f\"x{x_ct}\"\n",
    "                x_ct += 1\n",
    "            else:\n",
    "                lattice[i][j] = f\"z{z_ct}\"\n",
    "                z_ct += 1\n",
    "    \n",
    "    Hz = np.zeros((z_ct, qb_ct), dtype=np.uint8)\n",
    "    Hx = np.zeros((x_ct, qb_ct), dtype=np.uint8)\n",
    "\n",
    "    for i, qbt in enumerate(qbts):\n",
    "        y, x = qbt\n",
    "        hor_nbrs = rel_pos[x]\n",
    "        ver_nbrs = rel_pos[y]\n",
    "\n",
    "        for nbr in hor_nbrs:\n",
    "            gen = lattice[y][x+nbr]\n",
    "            gen_type = gen[0]\n",
    "            gen_ind = int(gen[1:])\n",
    "            if gen_type == \"z\":\n",
    "                Hz[gen_ind][i] = 1\n",
    "            else:\n",
    "                Hx[gen_ind][i] = 1\n",
    "        for nbr in ver_nbrs:\n",
    "            gen = lattice[y+nbr][x]\n",
    "            gen_type = gen[0]\n",
    "            gen_ind = int(gen[1:])\n",
    "            if gen_type == \"z\":\n",
    "                Hz[gen_ind][i] = 1\n",
    "            else:\n",
    "                Hx[gen_ind][i] = 1\n",
    "\n",
    "    return Hz, Hx, qbts\n",
    "Hz, Hx, qbts = embed_hgp(H, emb)"
   ]
  },
  {
   "cell_type": "code",
   "execution_count": 350,
   "metadata": {},
   "outputs": [
    {
     "data": {
      "text/plain": [
       "(array([0.86153846, 0.        , 0.        , 0.        , 0.        ,\n",
       "        0.        , 0.        , 0.        , 0.        , 0.        ,\n",
       "        0.        , 0.        , 0.        , 0.13333333, 0.        ,\n",
       "        0.        , 0.        , 0.        , 0.00512821]),\n",
       " array([0.        , 0.05263158, 0.10526316, 0.15789474, 0.21052632,\n",
       "        0.26315789, 0.31578947, 0.36842105, 0.42105263, 0.47368421,\n",
       "        0.52631579, 0.57894737, 0.63157895, 0.68421053, 0.73684211,\n",
       "        0.78947368, 0.84210526, 0.89473684, 0.94736842, 1.        ]),\n",
       " <BarContainer object of 19 artists>)"
      ]
     },
     "execution_count": 350,
     "metadata": {},
     "output_type": "execute_result"
    },
    {
     "data": {
      "image/png": "[encoded data removed]",
      "text/plain": [
       "<Figure size 432x288 with 1 Axes>"
      ]
     },
     "metadata": {
      "needs_background": "light"
     },
     "output_type": "display_data"
    }
   ],
   "source": [
    "rs = []\n",
    "for i in range(Hx.shape[0]):\n",
    "    gen_qbts = qbts[np.where(Hx[i])[0]]\n",
    "    rs.append(make_circle(gen_qbts)[2])\n",
    "for i in range(Hz.shape[0]):\n",
    "    gen_qbts = qbts[np.where(Hz[i])[0]]\n",
    "    rs.append(make_circle(gen_qbts)[2])\n",
    "\n",
    "scaled_rs = [(r - min(rs)) / (max(rs) - min(rs)) for r in rs]\n",
    "bins = np.linspace(min(scaled_rs), max(scaled_rs), 20)\n",
    "counts, _ = np.histogram(scaled_rs, bins=bins)\n",
    "counts_weighter = counts.sum()\n",
    "\n",
    "# print(code, np.percentile(scaled_rs, 70))\n",
    "plt.hist(bins[:-1], bins=bins, weights=counts/counts_weighter, alpha=0.7)"
   ]
  },
  {
   "cell_type": "code",
   "execution_count": 353,
   "metadata": {},
   "outputs": [
    {
     "name": "stdout",
     "output_type": "stream",
     "text": [
      "[[394,4,6]]\n"
     ]
    }
   ],
   "source": [
    "hx1 = np.kron(H, np.eye(H.shape[1], dtype=bool))\n",
    "hx2 = np.kron(np.eye(H.shape[0], dtype=bool), H.T)\n",
    "Hx = np.hstack([hx1, hx2])\n",
    "\n",
    "hz1 = np.kron(np.eye(H.shape[1], dtype=bool), H)\n",
    "hz2 = np.kron(H.T, np.eye(H.shape[0], dtype=bool))\n",
    "Hz = np.hstack([hz1, hz2])\n",
    "\n",
    "n = Hx.shape[1]\n",
    "m = 2*Hx.shape[0]\n",
    "k = n-m\n",
    "print(f\"[[{n},{k},{rep_size*d}]]\")"
   ]
  },
  {
   "cell_type": "code",
   "execution_count": 357,
   "metadata": {},
   "outputs": [
    {
     "data": {
      "text/plain": [
       "<matplotlib.image.AxesImage at 0x269f06cf0a0>"
      ]
     },
     "execution_count": 357,
     "metadata": {},
     "output_type": "execute_result"
    },
    {
     "data": {
      "image/png": "[encoded data removed]",
      "text/plain": [
       "<Figure size 581.908x288 with 1 Axes>"
      ]
     },
     "metadata": {
      "needs_background": "light"
     },
     "output_type": "display_data"
    }
   ],
   "source": [
    "plt.matshow(Hx)"
   ]
  },
  {
   "cell_type": "code",
   "execution_count": 358,
   "metadata": {},
   "outputs": [
    {
     "data": {
      "text/plain": [
       "<matplotlib.image.AxesImage at 0x269f072c6a0>"
      ]
     },
     "execution_count": 358,
     "metadata": {},
     "output_type": "execute_result"
    },
    {
     "data": {
      "image/png": "[encoded data removed]",
      "text/plain": [
       "<Figure size 581.908x288 with 1 Axes>"
      ]
     },
     "metadata": {
      "needs_background": "light"
     },
     "output_type": "display_data"
    }
   ],
   "source": [
    "plt.matshow(Hz)"
   ]
  },
  {
   "cell_type": "code",
   "execution_count": null,
   "metadata": {},
   "outputs": [],
   "source": []
  }
 ],
 "metadata": {
  "kernelspec": {
   "display_name": "qc",
   "language": "python",
   "name": "python3"
  },
  "language_info": {
   "codemirror_mode": {
    "name": "ipython",
    "version": 3
   },
   "file_extension": ".py",
   "mimetype": "text/x-python",
   "name": "python",
   "nbconvert_exporter": "python",
   "pygments_lexer": "ipython3",
   "version": "3.8.17"
  },
  "orig_nbformat": 4
 },
 "nbformat": 4,
 "nbformat_minor": 2
}
