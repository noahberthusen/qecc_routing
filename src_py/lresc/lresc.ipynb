{
 "cells": [
  {
   "cell_type": "code",
   "execution_count": 199,
   "metadata": {},
   "outputs": [],
   "source": [
    "import numpy as np\n",
    "import matplotlib.pyplot as plt\n",
    "import galois\n",
    "import itertools"
   ]
  },
  {
   "cell_type": "code",
   "execution_count": 177,
   "metadata": {},
   "outputs": [],
   "source": [
    "GF = galois.GF(2)\n",
    "def find_distance(H):\n",
    "    # good thing these codes are small\n",
    "    n = H.shape[1]\n",
    "    min_weight = n\n",
    "    for i in range(2**n):\n",
    "        cw = bin(i)[2:].zfill(n)\n",
    "        cw = [int(digit) for digit in cw]\n",
    "        if not np.any((H @ cw) % 2):\n",
    "            weight = np.count_nonzero(cw)\n",
    "            if 0 < weight < min_weight:\n",
    "                min_weight = weight\n",
    "    return min_weight\n",
    "\n",
    "def repetition_code(n):\n",
    "    H = np.zeros((n-1,n))\n",
    "    for i in range(n-1):\n",
    "        H[i][i] = H[i][i+1] = 1\n",
    "    return\n",
    "\n",
    "def concatenate(H, rep_size):\n",
    "    # rep = repetition_code(rep_size)\n",
    "    n = H.shape[1]*rep_size\n",
    "    k = H.shape[1]-np.linalg.matrix_rank(H)\n",
    "    new_H = np.zeros((n-k,n), dtype=np.uint8)\n",
    "\n",
    "    new_H[0:H.shape[0], 0:H.shape[1]] = H\n",
    "    for i in range(H.shape[1]):\n",
    "        for j in range(rep_size-1):\n",
    "            new_H[H.shape[0]+(i*(rep_size-1)+j)][i+(j*H.shape[1])] = 1\n",
    "            new_H[H.shape[0]+(i*(rep_size-1)+j)][i+((j+1)*H.shape[1])] = 1\n",
    "\n",
    "    return new_H"
   ]
  },
  {
   "cell_type": "code",
   "execution_count": 260,
   "metadata": {},
   "outputs": [],
   "source": [
    "def find_best_1D_embedding(H, minimize_checks=False):\n",
    "    # find best ordering of bit and checks to reduce lr edges\n",
    "    # good thing the codes are small\n",
    "    n = H.shape[1]\n",
    "    m = H.shape[0]\n",
    "\n",
    "    check_nbhd = []\n",
    "    for check in range(m):\n",
    "        bits = np.where(H[check])[1]\n",
    "        check_nbhd.append(bits)\n",
    "\n",
    "    best_per = None\n",
    "    min_val = np.count_nonzero(H)\n",
    "    best_lr_checks = None\n",
    "    for per in itertools.permutations(range(n+m)):\n",
    "        if per <= per[::-1]:\n",
    "            num_lr = 0\n",
    "            lr_checks = set()\n",
    "            bits = np.zeros(n)\n",
    "            \n",
    "            counter = 0\n",
    "            for bit in range(n):\n",
    "                bits[bit] = per[counter]\n",
    "                counter += 1\n",
    "\n",
    "            for check in range(m):\n",
    "                check_pos = per[counter]\n",
    "\n",
    "                for bit in check_nbhd[check]:\n",
    "                    if abs(check_pos-bits[bit]) != 1:\n",
    "                        num_lr += 1\n",
    "                        lr_checks |= {check}\n",
    "                        if minimize_checks:\n",
    "                            break\n",
    "                counter += 1\n",
    "\n",
    "            if num_lr < min_val:\n",
    "                best_per = per\n",
    "                min_val = num_lr\n",
    "                best_lr_checks = lr_checks\n",
    "            \n",
    "    return best_per, min_val, best_lr_checks"
   ]
  },
  {
   "cell_type": "code",
   "execution_count": 217,
   "metadata": {},
   "outputs": [],
   "source": [
    "def search_codes(n, k, d, num_iters):\n",
    "    best_code = None\n",
    "    best_weight = n*(n-k)\n",
    "\n",
    "    for i in range(num_iters):\n",
    "        H = np.random.randint(2, size=(n-k,n))\n",
    "        rank = np.linalg.matrix_rank(GF(H))\n",
    "        if (rank != n-k): continue\n",
    "\n",
    "        distance = find_distance(H)\n",
    "        if distance == d:\n",
    "            if (np.count_nonzero(H) < best_weight):\n",
    "                best_code = H\n",
    "                best_distance = distance\n",
    "    \n",
    "    return np.matrix(best_code)\n",
    "\n",
    "\n",
    "\n",
    "def search_codes_dvdc(n, dv, dc):\n",
    "    # dv, w_c. Every bit is in this many checks\n",
    "    # dc, w_r. Every check has this many bits in it\n",
    "    m = (n*dv)//dc\n",
    "    k = n - m\n",
    "\n",
    "    vs = np.array([[j for i in range(dv)] for j in range(n)]).flatten()\n",
    "    cs = np.array([[j for i in range(dc)] for j in range(m)]).flatten()\n",
    "\n",
    "    H = np.zeros((m, n), dtype=np.uint8)\n",
    "\n",
    "    while (vs.size and cs.size):\n",
    "        # choose random 'stub' from each array\n",
    "        double_edge = True\n",
    "        while(double_edge):\n",
    "            v_ind = np.random.randint(0, len(vs))\n",
    "            c_ind = np.random.randint(0, len(cs))\n",
    "\n",
    "            if (H[cs[c_ind]][vs[v_ind]] != 1):\n",
    "                double_edge = False\n",
    "                H[cs[c_ind]][vs[v_ind]] = 1\n",
    "                vs = np.delete(vs, v_ind)\n",
    "                cs =np.delete(cs, c_ind)\n",
    "        \n",
    "    print(f\"[[{n},{np.linalg.matrix_rank(GF(H))},{find_distance(H)}]]\")"
   ]
  },
  {
   "cell_type": "code",
   "execution_count": 277,
   "metadata": {},
   "outputs": [
    {
     "name": "stdout",
     "output_type": "stream",
     "text": [
      "[[12,2,8]]\n"
     ]
    }
   ],
   "source": [
    "# oH = np.matrix([1,1,1])\n",
    "oH = search_codes(6,2,4,1000)\n",
    "H = concatenate(oH, 2)\n",
    "\n",
    "n = H.shape[1]\n",
    "m = np.linalg.matrix_rank(GF(H))\n",
    "d = find_distance(H)\n",
    "print(f\"[[{n},{n-m},{d}]]\")"
   ]
  },
  {
   "cell_type": "code",
   "execution_count": 286,
   "metadata": {},
   "outputs": [
    {
     "name": "stdout",
     "output_type": "stream",
     "text": [
      "((0, 3, 2, 5, 7, 9, 4, 1, 8, 6), 4, {0, 2, 3})\n"
     ]
    }
   ],
   "source": [
    "best_emb = find_best_1D_embedding(oH, False)\n",
    "print(best_emb)"
   ]
  },
  {
   "cell_type": "code",
   "execution_count": 287,
   "metadata": {},
   "outputs": [
    {
     "name": "stdout",
     "output_type": "stream",
     "text": [
      "total edges: 1056\n",
      "lr edges: 528, 0.5\n",
      "lr edges: 176, 0.17\n"
     ]
    }
   ],
   "source": [
    "tot_edges = 2 * np.count_nonzero(H) * (H.shape[0]+H.shape[1])\n",
    "lr_edges = 2 * np.count_nonzero(H[:oH.shape[0]]) * (H.shape[0]+H.shape[1])\n",
    "lr_edges_emb = 2 * best_emb[1]  * (H.shape[0]+H.shape[1])\n",
    "\n",
    "print(f\"total edges: {tot_edges}\")\n",
    "print(f\"lr edges: {lr_edges}, {np.round(lr_edges/tot_edges, 2)}\")\n",
    "print(f\"lr edges: {lr_edges_emb}, {np.round(lr_edges_emb/tot_edges, 2)}\")"
   ]
  },
  {
   "cell_type": "code",
   "execution_count": 280,
   "metadata": {},
   "outputs": [
    {
     "data": {
      "text/plain": [
       "((0, 3, 2, 4, 5, 6, 7, 1, 8, 9), 3, {0, 2, 3})"
      ]
     },
     "execution_count": 280,
     "metadata": {},
     "output_type": "execute_result"
    }
   ],
   "source": [
    "find_best_1D_embedding(oH, True)"
   ]
  },
  {
   "cell_type": "code",
   "execution_count": 283,
   "metadata": {},
   "outputs": [
    {
     "name": "stdout",
     "output_type": "stream",
     "text": [
      "[[244,4,8]]\n"
     ]
    }
   ],
   "source": [
    "hx1 = np.kron(H, np.eye(H.shape[1], dtype=bool))\n",
    "hx2 = np.kron(np.eye(H.shape[0], dtype=bool), H.T)\n",
    "Hx = np.hstack([hx1, hx2])\n",
    "\n",
    "hz1 = np.kron(np.eye(H.shape[1], dtype=bool), H)\n",
    "hz2 = np.kron(H.T, np.eye(H.shape[0], dtype=bool))\n",
    "Hz = np.hstack([hz1, hz2])\n",
    "\n",
    "n = Hx.shape[1]\n",
    "m = 2*Hx.shape[0]\n",
    "k = n-m\n",
    "print(f\"[[{n},{k},{d}]]\")"
   ]
  },
  {
   "cell_type": "code",
   "execution_count": 285,
   "metadata": {},
   "outputs": [
    {
     "data": {
      "text/plain": [
       "0.25"
      ]
     },
     "execution_count": 285,
     "metadata": {},
     "output_type": "execute_result"
    }
   ],
   "source": [
    "(3*2*10)/m"
   ]
  },
  {
   "cell_type": "code",
   "execution_count": null,
   "metadata": {},
   "outputs": [],
   "source": []
  }
 ],
 "metadata": {
  "kernelspec": {
   "display_name": "qc",
   "language": "python",
   "name": "python3"
  },
  "language_info": {
   "codemirror_mode": {
    "name": "ipython",
    "version": 3
   },
   "file_extension": ".py",
   "mimetype": "text/x-python",
   "name": "python",
   "nbconvert_exporter": "python",
   "pygments_lexer": "ipython3",
   "version": "3.8.17"
  },
  "orig_nbformat": 4
 },
 "nbformat": 4,
 "nbformat_minor": 2
}
