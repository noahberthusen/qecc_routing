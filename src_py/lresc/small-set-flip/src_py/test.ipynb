{
 "cells": [
  {
   "cell_type": "code",
   "execution_count": 2,
   "metadata": {},
   "outputs": [],
   "source": [
    "import numpy as np"
   ]
  },
  {
   "cell_type": "code",
   "execution_count": 4,
   "metadata": {},
   "outputs": [],
   "source": [
    "def compute_gray_code(dv):\n",
    "    \"\"\"\n",
    "    returns the gray code\n",
    "    If you begin with [0 for i in range(dv)] and flip the bits res[0], res[1], ..., res[dv-2] then you go through {0,1}^dv\n",
    "    \"\"\"\n",
    "    res = []\n",
    "    for i in range(dv):\n",
    "        res = res + [i] + res\n",
    "    return res\n",
    "\n",
    "def hor_subset_score(hor_synd_diff, hor_wweight, ver_synd_diff, dv, dc):\n",
    "    \"\"\"\n",
    "    'hor' means horizontal\n",
    "    'ver' means vertical\n",
    "    Input:\n",
    "      'hor_synd_diff' is |s| - |s xor synd(F)| for the current F which is a flip of the columns\n",
    "      'hor_wweight' is the weighted weight of the horizontal flips = dc * hor_flips\n",
    "      ver_synd_diff[i] is the difference of syndrome size when we flip the line 'i'\n",
    "    Output:\n",
    "      'ver_flips' the optimal set of lines to flip for this given flips of columns\n",
    "      'synd_diff' the syndrome difference for this flips\n",
    "    When hor_weight = 0, i.e F = 0 then len(ver_flips) > 0 even if the flipping ver_flips increases the syndrome weight\n",
    "    wweight = weighted weight = dv * len(ver_flips) + dc * len (hor_flips)\n",
    "    \"\"\"\n",
    "    synd_diff = 0\n",
    "    s = 0\n",
    "    i = 0\n",
    "    weight = 0\n",
    "    len_ver_flips = 0\n",
    "\n",
    "    synd_diff = hor_synd_diff\n",
    "    # print(synd_diff, hor_synd_diff, ver_synd_diff)\n",
    "    ver_flips = []\n",
    "    sorted_ver_synd_diff = [(ver_synd_diff[i],i) for  i in range(len(ver_synd_diff))]\n",
    "    sorted_ver_synd_diff.sort(reverse=True)\n",
    "\n",
    "    wweight = hor_wweight\n",
    "    for (s,i) in sorted_ver_synd_diff:\n",
    "        if s*wweight >= dv * synd_diff:\n",
    "            synd_diff = synd_diff + s\n",
    "            ver_flips.append(i)\n",
    "            wweight = wweight + dv\n",
    "\n",
    "    return (synd_diff,ver_flips)\n",
    "\n",
    "# @cython.binding(True)\n",
    "def score_gen(synd_gen, synd_gen_mask):\n",
    "    \"\"\"\n",
    "    Input:\n",
    "      'synd_gen' is a 0,1 matrix which reprensents the syndrome of the current generator\n",
    "      'gray_code' is the output of 'compute_gray_code'\n",
    "    Output:\n",
    "      'best_flips' = (ver_flips,hor_flips) are two lists of lines and columns which are optimal for the generator\n",
    "      'best_synd_diff' is the syndrome difference for these flips\n",
    "      'best_wweight' = dv * len(ver_flips) + dc * len(hor_flips)\n",
    "    We go through all the possible flips of columns and use the function 'hor_subset_score'\n",
    "    At the end, best_weight > 0 even it is better to flip nothing\n",
    "    \"\"\"\n",
    "    i = 0\n",
    "    j = 0\n",
    "    dc = 0\n",
    "    dv = 0\n",
    "\n",
    "    hor_wweight = 0\n",
    "    hor_synd_diff = 0\n",
    "\n",
    "    best_wweight = 0\n",
    "    best_synd_diff = 0\n",
    "\n",
    "    dc = len(synd_gen)\n",
    "    dv = len(synd_gen[0])\n",
    "    hor_wweight = 0\n",
    "    hor_flips_array = [False for j in range(dv)]\n",
    "    hor_synd_diff = 0\n",
    "    ver_synd_diff = [0 for i in range(dc)]\n",
    "    for i in range(dc):\n",
    "        for j in range(dv):\n",
    "            if (synd_gen_mask[i][j]):\n",
    "                ver_synd_diff[i] = ver_synd_diff[i] + 2*synd_gen[i][j] - 1\n",
    "\n",
    "    gray_code = compute_gray_code(dv)\n",
    "    (best_synd_diff,ver_flips) = hor_subset_score(hor_synd_diff, hor_wweight, ver_synd_diff, dv, dc)\n",
    "    print(best_synd_diff, ver_flips)\n",
    "    best_wweight = len(ver_flips) * dv\n",
    "    best_flips = (ver_flips, [])\n",
    "    for j in gray_code:\n",
    "        if hor_flips_array[j]:\n",
    "            hor_wweight = hor_wweight - dc\n",
    "            hor_flips_array[j] = False\n",
    "            for i in range(dc):\n",
    "                if (synd_gen_mask[i][j]):\n",
    "                    ver_synd_diff[i] = ver_synd_diff[i] + 4*synd_gen[i][j] - 2\n",
    "                    hor_synd_diff = hor_synd_diff - 2*synd_gen[i][j] + 1\n",
    "        else:\n",
    "            hor_wweight = hor_wweight + dc\n",
    "            hor_flips_array[j] = True\n",
    "            for i in range(dc):\n",
    "                if (synd_gen_mask[i][j]):\n",
    "                    ver_synd_diff[i] = ver_synd_diff[i] - 4*synd_gen[i][j] + 2\n",
    "                    hor_synd_diff = hor_synd_diff + 2*synd_gen[i][j] - 1\n",
    "\n",
    "        (synd_diff,ver_flips) = hor_subset_score(hor_synd_diff, hor_wweight, ver_synd_diff, dv, dc)\n",
    "        wweight = hor_wweight + dv * len(ver_flips)\n",
    "        if synd_diff*best_wweight > best_synd_diff*wweight:\n",
    "            best_synd_diff = synd_diff\n",
    "            best_wweight = wweight\n",
    "            best_flips = (ver_flips, [j for j in range(dv) if hor_flips_array[j]])\n",
    "\n",
    "    return (best_synd_diff,best_wweight,best_flips)\n"
   ]
  },
  {
   "cell_type": "code",
   "execution_count": 6,
   "metadata": {},
   "outputs": [
    {
     "name": "stdout",
     "output_type": "stream",
     "text": [
      "1 [0]\n"
     ]
    },
    {
     "data": {
      "text/plain": [
       "(1, 1, ([0], []))"
      ]
     },
     "execution_count": 6,
     "metadata": {},
     "output_type": "execute_result"
    }
   ],
   "source": [
    "synd_gen = np.array([[1],[0]])\n",
    "synd_mask_gen = np.array([[1],[1]])\n",
    "\n",
    "score_gen(synd_gen, synd_mask_gen)"
   ]
  },
  {
   "cell_type": "code",
   "execution_count": null,
   "metadata": {},
   "outputs": [],
   "source": []
  }
 ],
 "metadata": {
  "kernelspec": {
   "display_name": "qc",
   "language": "python",
   "name": "python3"
  },
  "language_info": {
   "codemirror_mode": {
    "name": "ipython",
    "version": 3
   },
   "file_extension": ".py",
   "mimetype": "text/x-python",
   "name": "python",
   "nbconvert_exporter": "python",
   "pygments_lexer": "ipython3",
   "version": "3.8.17"
  },
  "orig_nbformat": 4
 },
 "nbformat": 4,
 "nbformat_minor": 2
}
