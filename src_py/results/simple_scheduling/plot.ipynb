{
 "cells": [
  {
   "cell_type": "code",
   "execution_count": 1,
   "metadata": {},
   "outputs": [],
   "source": [
    "import matplotlib.pyplot as plt\n",
    "import pandas as pd\n",
    "import numpy as np\n",
    "from scipy.optimize import curve_fit\n",
    "from sklearn.metrics import r2_score"
   ]
  },
  {
   "cell_type": "code",
   "execution_count": 11,
   "metadata": {},
   "outputs": [
    {
     "name": "stdout",
     "output_type": "stream",
     "text": [
      "0.0 [0.0003317] [9.70245647e-06] 0.939990909330735\n",
      "0.0 [3.67080687e-05] [6.23305528e-07] 0.9927853026671535\n",
      "0.0 [5.03604244e-06] [1.58354374e-07] 0.9351908086897854\n"
     ]
    },
    {
     "data": {
      "text/plain": [
       "<matplotlib.legend.Legend at 0x2a6242750a0>"
      ]
     },
     "execution_count": 11,
     "metadata": {},
     "output_type": "execute_result"
    },
    {
     "data": {
      "image/png": "[encoded data removed]",
      "text/plain": [
       "<Figure size 360x288 with 1 Axes>"
      ]
     },
     "metadata": {
      "needs_background": "light"
     },
     "output_type": "display_data"
    }
   ],
   "source": [
    "fig, ax = plt.subplots(1, 1, figsize=(5,4), sharey=True)\n",
    "\n",
    "codes = [\n",
    "    \"5_4_60\",\n",
    "    \"5_4_160\",\n",
    "    \"5_4_360\",\n",
    "    # \"5_4_660\"\n",
    "    # \"5_4_1800\"\n",
    "]\n",
    "p_masks = [0.]\n",
    "\n",
    "\n",
    "def fun(x, a):\n",
    "    return 1 - (1 - a)**x\n",
    "params = []\n",
    "\n",
    "for i, code in enumerate(codes):\n",
    "    df = pd.read_csv(f\"./{code}/iterative_masked_decoding.res\")\n",
    "    df['p_error'] = 1 - df['p_log']\n",
    "    df['p_std_dev'] = np.sqrt(df['p_error'] * df['p_log'] / df['no_test'])\n",
    "    # df['p_std_dev'].replace(to_replace=0, value=1e-2, inplace=True)\n",
    "\n",
    "    def fun(x, a):\n",
    "        return 1 - (1 - a)**x\n",
    "\n",
    "    cutoff = 0\n",
    "    upper_cutoff = 2000\n",
    "    colors = ['#1f77b4', '#ff7f0e', '#2ca02c', '#d62728', '#9467bd', '#8c564b', '#e377c2', '#7f7f7f', '#bcbd22', '#17becf']\n",
    "    for k, j in enumerate(p_masks):\n",
    "        df = df[df['t'] <= upper_cutoff]\n",
    "        tmp_df = df[(df['p_mask'] == j) & (df['t'] >= cutoff) & (df['p_std_dev'] > 0)]\n",
    "        \n",
    "        tmp_df_fit = df[(df['p_mask'] == j) & (df['t'] >= cutoff)]\n",
    "        tmp_df_before = df[(df['p_mask'] == j) & (df['t'] < cutoff)]\n",
    "\n",
    "        ax.errorbar(tmp_df_fit['t'], tmp_df_fit['p_error'], tmp_df_fit['p_std_dev'], label=f'{code}', fmt='o', c=colors[i])\n",
    "        ax.errorbar(tmp_df_before['t'], tmp_df_before['p_error'], tmp_df_before['p_std_dev'], fmt='x', alpha=0.8)\n",
    "\n",
    "        popt, pcov = curve_fit(fun, tmp_df['t'], tmp_df['p_error'], maxfev=1000, p0=(0.001),sigma=tmp_df['p_std_dev'])\n",
    "        print(j, popt, np.sqrt(np.diag(pcov)), r2_score(tmp_df['p_error'], fun(tmp_df['t'], *popt)))\n",
    "        params.append(popt[0])\n",
    "        xx = np.linspace(1, upper_cutoff, 1000)\n",
    "        yy = fun(xx, *popt)\n",
    "        ax.plot(xx, yy, c='k')\n",
    "\n",
    "plt.yscale('log')\n",
    "plt.legend(loc='lower right')"
   ]
  },
  {
   "cell_type": "code",
   "execution_count": null,
   "metadata": {},
   "outputs": [],
   "source": []
  }
 ],
 "metadata": {
  "kernelspec": {
   "display_name": "qc",
   "language": "python",
   "name": "python3"
  },
  "language_info": {
   "codemirror_mode": {
    "name": "ipython",
    "version": 3
   },
   "file_extension": ".py",
   "mimetype": "text/x-python",
   "name": "python",
   "nbconvert_exporter": "python",
   "pygments_lexer": "ipython3",
   "version": "3.8.12"
  },
  "orig_nbformat": 4,
  "vscode": {
   "interpreter": {
    "hash": "0ec6a07b5680b7cd4331b54bc02dbe3823b9a431e7975ff6d8e95dcfb04b0c38"
   }
  }
 },
 "nbformat": 4,
 "nbformat_minor": 2
}
