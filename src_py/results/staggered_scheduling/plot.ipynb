{
 "cells": [
  {
   "cell_type": "code",
   "execution_count": 2,
   "metadata": {},
   "outputs": [],
   "source": [
    "import matplotlib.pyplot as plt\n",
    "import pandas as pd\n",
    "import numpy as np\n",
    "from scipy.optimize import curve_fit\n",
    "from sklearn.metrics import r2_score"
   ]
  },
  {
   "cell_type": "code",
   "execution_count": 80,
   "metadata": {},
   "outputs": [
    {
     "data": {
      "image/png": "[encoded data removed]",
      "text/plain": [
       "<Figure size 360x216 with 1 Axes>"
      ]
     },
     "metadata": {
      "needs_background": "light"
     },
     "output_type": "display_data"
    }
   ],
   "source": [
    "plt.rc('font', family='serif')\n",
    "# plt.rcParams['xtick.direction'] = 'in'\n",
    "# plt.rcParams['ytick.direction'] = 'in'\n",
    "plt.rcParams['axes.linewidth'] = 1\n",
    "fig, ax = plt.subplots(1, 1, figsize=(5,3), sharey=True)\n",
    "\n",
    "codes = [\n",
    "    # \"5_4_360/iterative_masked_decoding.res\",\n",
    "    \"5_4_360/10alternating0.res\",\n",
    "    \"5_4_360/skipalternating0.res\",\n",
    "    \"5_4_360/iterative_masked_decoding.res\",\n",
    "    # \"5_4_360/iterative_masked_decoding.res\",\n",
    "][::-1]\n",
    "p_masks = [0.1, 0.1, 0.0][::-1]\n",
    "# axes = [1,1,0,0,0]\n",
    "labels = [\"Alternating 10%, 0% masked\",\"Alternating WAIT, 0% masked\",\"0% masked\"][::-1]\n",
    "\n",
    "def fun(x, a):\n",
    "    return 1 - (1 - a)**x\n",
    "params = []\n",
    "\n",
    "cutoff = 0\n",
    "upper_cutoff = 201\n",
    "colors = [(64, 83, 211), (221, 179, 16), (181, 29, 20), (0, 190, 255), (251, 73, 176), (0, 178, 93)]\n",
    "colors = [(c[0]/255, c[1]/255, c[2]/255) for c in colors]\n",
    "\n",
    "for i, code in enumerate(codes):\n",
    "    df = pd.read_csv(f\"./{code}\")\n",
    "    df['p_error'] = 1 - df['p_log']\n",
    "    df['p_std_dev'] = np.sqrt(df['p_error'] * df['p_log'] / df['no_test'])\n",
    "    # df['p_std_dev'].replace(to_replace=0, value=1e-2, inplace=True)\n",
    "\n",
    "    df = df[(df['t'] % 10 == 0) & (df['t'] <= upper_cutoff)]\n",
    "    tmp_df = df[(df['p_mask'] == p_masks[i]) & (df['t'] >= cutoff) & (df['p_std_dev'] > 0)]\n",
    "    \n",
    "    tmp_df_fit = df[(df['p_mask'] == p_masks[i]) & (df['t'] >= cutoff)]\n",
    "    tmp_df_before = df[(df['p_mask'] == p_masks[i]) & (df['t'] < cutoff)]\n",
    "\n",
    "    ax.errorbar(tmp_df_fit['t'], tmp_df_fit['p_error'], tmp_df_fit['p_std_dev'], label=f'{labels[i]}', fmt='o', c=colors[i])\n",
    "    ax.errorbar(tmp_df_before['t'], tmp_df_before['p_error'], tmp_df_before['p_std_dev'], fmt='x', alpha=0.8, c=colors[i])\n",
    "\n",
    "    popt, pcov = curve_fit(fun, tmp_df['t'], tmp_df['p_error'], maxfev=1000, p0=(0.001),sigma=tmp_df['p_std_dev'])\n",
    "    # print(j, popt, np.sqrt(np.diag(pcov)), r2_score(tmp_df['p_error'], fun(tmp_df['t'], *popt)))\n",
    "    params.append(popt[0])\n",
    "    xx = np.linspace(1, upper_cutoff, 1000)\n",
    "    yy = fun(xx, *popt)\n",
    "    ax.plot(xx[0:], yy[0:], c='k')\n",
    "    # ax.plot(xx[:100], yy[:100], c='k', linestyle='--', alpha=0.8)\n",
    "\n",
    "ax.set_ylabel('Logical error rate, $p_\\log$')\n",
    "ax.set_xlabel('Rounds, $t$')\n",
    "plt.yscale('log')\n",
    "\n",
    "handles,labels = ax.get_legend_handles_labels()\n",
    "handles = handles[::-1]\n",
    "labels = labels[::-1]\n",
    "ax.legend(handles, labels, loc='lower right')\n",
    "\n",
    "plt.savefig('../../../figures/hyperbolic', dpi=1000, transparent=False, bbox_inches='tight')\n"
   ]
  },
  {
   "cell_type": "code",
   "execution_count": 43,
   "metadata": {},
   "outputs": [
    {
     "name": "stderr",
     "output_type": "stream",
     "text": [
      "No artists with labels found to put in legend.  Note that artists whose label start with an underscore are ignored when legend() is called with no argument.\n"
     ]
    },
    {
     "data": {
      "text/plain": [
       "Text(0.5, 0, 'Rounds, $t$')"
      ]
     },
     "execution_count": 43,
     "metadata": {},
     "output_type": "execute_result"
    },
    {
     "data": {
      "image/png": "[encoded data removed]",
      "text/plain": [
       "<Figure size 360x288 with 1 Axes>"
      ]
     },
     "metadata": {
      "needs_background": "light"
     },
     "output_type": "display_data"
    }
   ],
   "source": [
    "fig, ax = plt.subplots(1, 1, figsize=(5,4), sharey=True)\n",
    "\n",
    "codes = [\n",
    "    # \"5_4_60\",\n",
    "    # \"5_4_160/iterative_masked_decoding.res\",\n",
    "    # \"5_4_160/iterative_masked_decoding2.res\",\n",
    "    # \"../simple_scheduling/5_4_160/iterative_masked_decoding.res\"\n",
    "    \"5_4_360/iterative_masked_decoding.res\",\n",
    "    # \"5_4_1800\"\n",
    "]\n",
    "labels = [\n",
    "    \"0%\"\n",
    "    # \"Nothing, 0% mask, alternating\",\n",
    "    # \"10% mask, 0% mask, alternating\",\n",
    "    # \"10% mask every time\"\n",
    "]\n",
    "p_masks = [0.1]\n",
    "\n",
    "\n",
    "def fun(x, a):\n",
    "    return 1 - (1 - a)**x\n",
    "params = []\n",
    "\n",
    "for i, code in enumerate(codes):\n",
    "    # df = pd.read_csv(f\"./{code}/iterative_masked_decoding2.res\")\n",
    "    df = pd.read_csv(f\"./{code}\")\n",
    "    df['p_error'] = 1 - df['p_log']\n",
    "    df['p_std_dev'] = np.sqrt(df['p_error'] * df['p_log'] / df['no_test'])\n",
    "    # df['p_std_dev'].replace(to_replace=0, value=1e-2, inplace=True)\n",
    "\n",
    "    def fun(x, a):\n",
    "        return 1 - (1 - a)**x\n",
    "\n",
    "    cutoff = 0\n",
    "    upper_cutoff = 201\n",
    "    colors = ['#1f77b4', '#ff7f0e', '#2ca02c', '#d62728', '#9467bd', '#8c564b', '#e377c2', '#7f7f7f', '#bcbd22', '#17becf']\n",
    "    for k, j in enumerate(p_masks):\n",
    "        df = df[(df['t'] % 10 == 0) & (df['t'] <= upper_cutoff)]\n",
    "        tmp_df = df[(df['p_mask'] == j) & (df['t'] >= cutoff) & (df['p_std_dev'] > 0)]\n",
    "        if (len(tmp_df)):            \n",
    "            tmp_df_fit = df[(df['p_mask'] == j) & (df['t'] >= cutoff)]\n",
    "            tmp_df_before = df[(df['p_mask'] == j) & (df['t'] < cutoff)]\n",
    "\n",
    "            ax.errorbar(tmp_df_fit['t'], tmp_df_fit['p_error'], tmp_df_fit['p_std_dev'], fmt='o', c=colors[i])\n",
    "            ax.errorbar(tmp_df_before['t'], tmp_df_before['p_error'], tmp_df_before['p_std_dev'], fmt='x', alpha=0.8)\n",
    "\n",
    "            popt, pcov = curve_fit(fun, tmp_df['t'], tmp_df['p_error'], maxfev=1000, p0=(0.001),sigma=tmp_df['p_std_dev'])\n",
    "            print(j, popt, np.sqrt(np.diag(pcov)), r2_score(tmp_df['p_error'], fun(tmp_df['t'], *popt)))\n",
    "            params.append(popt[0])\n",
    "            xx = np.linspace(1, upper_cutoff, 1000)\n",
    "            yy = fun(xx, *popt)\n",
    "            ax.plot(xx, yy, c='k')\n",
    "\n",
    "plt.yscale('log')\n",
    "plt.legend(loc='lower right')\n",
    "plt.ylabel(\"Logical error rate, $p_\\log$\")\n",
    "plt.xlabel(\"Rounds, $t$\")"
   ]
  },
  {
   "cell_type": "code",
   "execution_count": null,
   "metadata": {},
   "outputs": [],
   "source": []
  }
 ],
 "metadata": {
  "kernelspec": {
   "display_name": "qc",
   "language": "python",
   "name": "python3"
  },
  "language_info": {
   "codemirror_mode": {
    "name": "ipython",
    "version": 3
   },
   "file_extension": ".py",
   "mimetype": "text/x-python",
   "name": "python",
   "nbconvert_exporter": "python",
   "pygments_lexer": "ipython3",
   "version": "3.8.12"
  },
  "orig_nbformat": 4,
  "vscode": {
   "interpreter": {
    "hash": "0ec6a07b5680b7cd4331b54bc02dbe3823b9a431e7975ff6d8e95dcfb04b0c38"
   }
  }
 },
 "nbformat": 4,
 "nbformat_minor": 2
}
