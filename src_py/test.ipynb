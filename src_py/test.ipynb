{
 "cells": [
  {
   "cell_type": "code",
   "execution_count": 38,
   "metadata": {},
   "outputs": [],
   "source": [
    "import pandas as pd\n",
    "import ast\n",
    "import numpy as np\n",
    "import matplotlib.pyplot as plt"
   ]
  },
  {
   "cell_type": "code",
   "execution_count": 39,
   "metadata": {},
   "outputs": [],
   "source": [
    "def print_grid(grid, N):\n",
    "    for i in range(N):\n",
    "        for j in range(N):\n",
    "            print(grid[i][j], end='')\n",
    "        print()\n",
    "    print()"
   ]
  },
  {
   "cell_type": "code",
   "execution_count": 40,
   "metadata": {},
   "outputs": [],
   "source": [
    "N = 20\n",
    "k = 7\n",
    "# grid = Grid(N, k+1)\n",
    "\n",
    "df = pd.read_csv(f\"{N}_{k}_gens.csv\")"
   ]
  },
  {
   "cell_type": "code",
   "execution_count": 41,
   "metadata": {},
   "outputs": [
    {
     "data": {
      "text/html": [
       "<div>\n",
       "<style scoped>\n",
       "    .dataframe tbody tr th:only-of-type {\n",
       "        vertical-align: middle;\n",
       "    }\n",
       "\n",
       "    .dataframe tbody tr th {\n",
       "        vertical-align: top;\n",
       "    }\n",
       "\n",
       "    .dataframe thead th {\n",
       "        text-align: right;\n",
       "    }\n",
       "</style>\n",
       "<table border=\"1\" class=\"dataframe\">\n",
       "  <thead>\n",
       "    <tr style=\"text-align: right;\">\n",
       "      <th></th>\n",
       "      <th>points</th>\n",
       "      <th>cx</th>\n",
       "      <th>cy</th>\n",
       "      <th>r</th>\n",
       "    </tr>\n",
       "  </thead>\n",
       "  <tbody>\n",
       "    <tr>\n",
       "      <th>0</th>\n",
       "      <td>[(1, 2), (2, 1), (2, 0), (0, 0), (0, 2), (1, 1...</td>\n",
       "      <td>1.000000</td>\n",
       "      <td>1.0</td>\n",
       "      <td>1.414214</td>\n",
       "    </tr>\n",
       "    <tr>\n",
       "      <th>1</th>\n",
       "      <td>[(2, 1), (0, 2), (1, 1), (0, 0), (2, 0), (1, 0...</td>\n",
       "      <td>1.000000</td>\n",
       "      <td>1.0</td>\n",
       "      <td>1.414214</td>\n",
       "    </tr>\n",
       "    <tr>\n",
       "      <th>2</th>\n",
       "      <td>[(0, 2), (1, 1), (0, 0), (2, 1), (0, 1), (1, 0...</td>\n",
       "      <td>1.000000</td>\n",
       "      <td>1.0</td>\n",
       "      <td>1.414214</td>\n",
       "    </tr>\n",
       "    <tr>\n",
       "      <th>3</th>\n",
       "      <td>[(1, 1), (0, 2), (0, 1), (0, 0), (2, 0), (2, 1...</td>\n",
       "      <td>1.000000</td>\n",
       "      <td>1.0</td>\n",
       "      <td>1.414214</td>\n",
       "    </tr>\n",
       "    <tr>\n",
       "      <th>4</th>\n",
       "      <td>[(2, 0), (0, 1), (0, 2), (1, 1), (2, 1), (0, 0...</td>\n",
       "      <td>1.000000</td>\n",
       "      <td>1.0</td>\n",
       "      <td>1.414214</td>\n",
       "    </tr>\n",
       "    <tr>\n",
       "      <th>...</th>\n",
       "      <td>...</td>\n",
       "      <td>...</td>\n",
       "      <td>...</td>\n",
       "      <td>...</td>\n",
       "    </tr>\n",
       "    <tr>\n",
       "      <th>3997</th>\n",
       "      <td>[(19, 19), (17, 17), (18, 18), (18, 17), (17, ...</td>\n",
       "      <td>17.500000</td>\n",
       "      <td>18.5</td>\n",
       "      <td>1.581139</td>\n",
       "    </tr>\n",
       "    <tr>\n",
       "      <th>3998</th>\n",
       "      <td>[(16, 18), (18, 17), (19, 17), (16, 17), (18, ...</td>\n",
       "      <td>17.500000</td>\n",
       "      <td>17.5</td>\n",
       "      <td>1.581139</td>\n",
       "    </tr>\n",
       "    <tr>\n",
       "      <th>3999</th>\n",
       "      <td>[(16, 18), (17, 17), (17, 19), (19, 17), (18, ...</td>\n",
       "      <td>17.700000</td>\n",
       "      <td>17.3</td>\n",
       "      <td>1.838478</td>\n",
       "    </tr>\n",
       "    <tr>\n",
       "      <th>5949</th>\n",
       "      <td>[(18, 8), (16, 10), (16, 8), (15, 9), (17, 11)...</td>\n",
       "      <td>16.833333</td>\n",
       "      <td>9.5</td>\n",
       "      <td>1.900292</td>\n",
       "    </tr>\n",
       "    <tr>\n",
       "      <th>7603</th>\n",
       "      <td>[(15, 2), (13, 1), (14, 2), (16, 2), (14, 1), ...</td>\n",
       "      <td>14.666667</td>\n",
       "      <td>1.0</td>\n",
       "      <td>1.666667</td>\n",
       "    </tr>\n",
       "  </tbody>\n",
       "</table>\n",
       "<p>506 rows × 4 columns</p>\n",
       "</div>"
      ],
      "text/plain": [
       "                                                 points         cx    cy  \\\n",
       "0     [(1, 2), (2, 1), (2, 0), (0, 0), (0, 2), (1, 1...   1.000000   1.0   \n",
       "1     [(2, 1), (0, 2), (1, 1), (0, 0), (2, 0), (1, 0...   1.000000   1.0   \n",
       "2     [(0, 2), (1, 1), (0, 0), (2, 1), (0, 1), (1, 0...   1.000000   1.0   \n",
       "3     [(1, 1), (0, 2), (0, 1), (0, 0), (2, 0), (2, 1...   1.000000   1.0   \n",
       "4     [(2, 0), (0, 1), (0, 2), (1, 1), (2, 1), (0, 0...   1.000000   1.0   \n",
       "...                                                 ...        ...   ...   \n",
       "3997  [(19, 19), (17, 17), (18, 18), (18, 17), (17, ...  17.500000  18.5   \n",
       "3998  [(16, 18), (18, 17), (19, 17), (16, 17), (18, ...  17.500000  17.5   \n",
       "3999  [(16, 18), (17, 17), (17, 19), (19, 17), (18, ...  17.700000  17.3   \n",
       "5949  [(18, 8), (16, 10), (16, 8), (15, 9), (17, 11)...  16.833333   9.5   \n",
       "7603  [(15, 2), (13, 1), (14, 2), (16, 2), (14, 1), ...  14.666667   1.0   \n",
       "\n",
       "             r  \n",
       "0     1.414214  \n",
       "1     1.414214  \n",
       "2     1.414214  \n",
       "3     1.414214  \n",
       "4     1.414214  \n",
       "...        ...  \n",
       "3997  1.581139  \n",
       "3998  1.581139  \n",
       "3999  1.838478  \n",
       "5949  1.900292  \n",
       "7603  1.666667  \n",
       "\n",
       "[506 rows x 4 columns]"
      ]
     },
     "execution_count": 41,
     "metadata": {},
     "output_type": "execute_result"
    }
   ],
   "source": [
    "res_df = df[df[\"r\"] < 2]\n",
    "gens = [ast.literal_eval(row[\"points\"]) for _, row in res_df.iterrows()]\n",
    "res_df"
   ]
  },
  {
   "cell_type": "code",
   "execution_count": 54,
   "metadata": {},
   "outputs": [
    {
     "name": "stdout",
     "output_type": "stream",
     "text": [
      "10100000000000000000\n",
      "11100000000000000000\n",
      "11000000000000000000\n",
      "00000000000000000000\n",
      "00000000000000000000\n",
      "00000000000000000000\n",
      "00000000000000000000\n",
      "00000000000000000000\n",
      "00000000000000000000\n",
      "00000000000000000000\n",
      "00000000000000000000\n",
      "00000000000000000000\n",
      "00000000000000000000\n",
      "00000000000000000000\n",
      "00000000000000000000\n",
      "00000000000000000000\n",
      "00000000000000000000\n",
      "00000000000000000000\n",
      "00000000000000000000\n",
      "00000000000000000000\n",
      "\n"
     ]
    }
   ],
   "source": [
    "grid = [[0 for _ in range(N)] for _ in range(N)]\n",
    "for qbt in gens[1]:\n",
    "    grid[qbt[0]][qbt[1]] = 1\n",
    "\n",
    "print_grid(grid, N)"
   ]
  },
  {
   "cell_type": "code",
   "execution_count": 9,
   "metadata": {},
   "outputs": [
    {
     "data": {
      "text/plain": [
       "13.435028842544403"
      ]
     },
     "execution_count": 9,
     "metadata": {},
     "output_type": "execute_result"
    }
   ],
   "source": [
    "19*np.sqrt(2)/2"
   ]
  },
  {
   "cell_type": "code",
   "execution_count": 37,
   "metadata": {},
   "outputs": [
    {
     "data": {
      "text/plain": [
       "(array([ 455.,  535.,  470.,  701.,  882., 1254., 1709., 1168.,  377.,\n",
       "          49.]),\n",
       " array([ 1.25      ,  2.46850288,  3.68700577,  4.90550865,  6.12401154,\n",
       "         7.34251442,  8.56101731,  9.77952019, 10.99802307, 12.21652596,\n",
       "        13.43502884]),\n",
       " <BarContainer object of 10 artists>)"
      ]
     },
     "execution_count": 37,
     "metadata": {},
     "output_type": "execute_result"
    },
    {
     "data": {
      "image/png": "[encoded data removed]",
      "text/plain": [
       "<Figure size 432x288 with 1 Axes>"
      ]
     },
     "metadata": {
      "needs_background": "light"
     },
     "output_type": "display_data"
    }
   ],
   "source": [
    "plt.hist(df['r'])\n"
   ]
  },
  {
   "cell_type": "code",
   "execution_count": null,
   "metadata": {},
   "outputs": [],
   "source": []
  }
 ],
 "metadata": {
  "kernelspec": {
   "display_name": "Python 3.8.12 ('qc')",
   "language": "python",
   "name": "python3"
  },
  "language_info": {
   "codemirror_mode": {
    "name": "ipython",
    "version": 3
   },
   "file_extension": ".py",
   "mimetype": "text/x-python",
   "name": "python",
   "nbconvert_exporter": "python",
   "pygments_lexer": "ipython3",
   "version": "3.8.12"
  },
  "orig_nbformat": 4,
  "vscode": {
   "interpreter": {
    "hash": "0ec6a07b5680b7cd4331b54bc02dbe3823b9a431e7975ff6d8e95dcfb04b0c38"
   }
  }
 },
 "nbformat": 4,
 "nbformat_minor": 2
}
