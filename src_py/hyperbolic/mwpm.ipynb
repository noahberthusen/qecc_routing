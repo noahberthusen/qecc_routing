{
 "cells": [
  {
   "cell_type": "code",
   "execution_count": 1,
   "metadata": {},
   "outputs": [],
   "source": [
    "import numpy as np\n",
    "from read_code import read_code\n",
    "import matplotlib.pyplot as plt\n",
    "import galois\n",
    "from pymatching import Matching\n",
    "# https://www.mathworks.com/help/comm/ref/gen2par.html"
   ]
  },
  {
   "cell_type": "code",
   "execution_count": 2,
   "metadata": {},
   "outputs": [],
   "source": [
    "def par2gen(H):\n",
    "    GF = galois.GF(2)\n",
    "    gfH = GF(H)\n",
    "    gfH_rank = np.linalg.matrix_rank(gfH)\n",
    "\n",
    "    rref_H = gfH.row_reduce()\n",
    "\n",
    "    swaps = []\n",
    "    col_H = rref_H.copy()\n",
    "    for i in range(gfH_rank):\n",
    "        inds = np.where(col_H[i])[0]\n",
    "        pivot = inds[0]\n",
    "        col_H[:,[i,pivot]] = col_H[:,[pivot,i]]\n",
    "        swaps.append((i,pivot))\n",
    "\n",
    "    col_H = col_H[:gfH_rank]\n",
    "    col_G = GF(np.hstack([col_H[:,gfH_rank:].T, np.eye(H.shape[1]-gfH_rank, dtype=int)]))\n",
    "\n",
    "    G = col_G.copy()\n",
    "    for swap in swaps[::-1]:\n",
    "        G[:,[swap[1],swap[0]]] = G[:,[swap[0],swap[1]]]\n",
    "\n",
    "    if (np.any(G @ rref_H[:gfH_rank].T) or np.any(col_G @ col_H.T)):\n",
    "        print(\"FAILED\")\n",
    "        return\n",
    "    return (np.array(G, dtype=int), np.array(col_G, dtype=int))\n"
   ]
  },
  {
   "cell_type": "code",
   "execution_count": 3,
   "metadata": {},
   "outputs": [],
   "source": [
    "def commute(x, z, n):\n",
    "    # 0 if commute, 1 if anticommute\n",
    "    x1 = x[:n]\n",
    "    x2 = x[n:]\n",
    "    z1 = z[:n]\n",
    "    z2 = z[n:]\n",
    "    return (x1 @ z2 % 2) ^ (x2 @ z1 % 2)\n",
    "    \n",
    "\n",
    "def SGSOP(Gx, Gz, n):\n",
    "    # symplectic gram-schmidt orthogonalization procedure\n",
    "    sym_Gx = np.hstack([Gx, np.zeros(Gx.shape, dtype=int)])\n",
    "    sym_Gz = np.hstack([np.zeros(Gz.shape, dtype=int), Gz])\n",
    "    sym_G = np.vstack([sym_Gx, sym_Gz])\n",
    "    logicals = []\n",
    "    generators = []\n",
    "\n",
    "    while(sym_G.shape[0]):\n",
    "        g1 = sym_G[0]\n",
    "\n",
    "        commutes = True\n",
    "        for i in range(1, sym_G.shape[0]-1):\n",
    "            g2 = sym_G[i]\n",
    "            if (commute(g1,g2,n)):\n",
    "                logicals.append((g1, g2))\n",
    "                sym_G = np.delete(sym_G, [0, i], axis=0)\n",
    "\n",
    "                for j in range(sym_G.shape[0]):\n",
    "                    gj = sym_G[j]\n",
    "                    sym_G[j] = gj ^ (commute(gj,g2,n) * g1) ^ (commute(gj,g1,n) * g2)\n",
    "                commutes = False\n",
    "                break\n",
    "        \n",
    "        if commutes:\n",
    "            generators.append(g1)\n",
    "            sym_G = np.delete(sym_G, 0, axis=0)\n",
    "    \n",
    "    return (logicals, generators)"
   ]
  },
  {
   "cell_type": "code",
   "execution_count": 4,
   "metadata": {},
   "outputs": [
    {
     "name": "stdout",
     "output_type": "stream",
     "text": [
      "[[360,38]]\n"
     ]
    }
   ],
   "source": [
    "params, H = read_code('./codes/5_4_360.txt')\n",
    "\n",
    "n = H.shape[1]\n",
    "m = H.shape[0]\n",
    "m1 = params['m1']\n",
    "m2 = params['m2']\n",
    "Hx = H[:m1]\n",
    "Hz = H[m1:]\n",
    "\n",
    "Gx, col_Gx = par2gen(Hx)\n",
    "Gz, col_Gz = par2gen(Hz)\n",
    "logicals, generators = SGSOP(Gx, Gz, n)\n",
    "\n",
    "print(f\"[[{n},{len(logicals)}]]\")"
   ]
  },
  {
   "cell_type": "code",
   "execution_count": 4,
   "metadata": {},
   "outputs": [],
   "source": [
    "def num_decoding_failures_vectorised(H, logicals, p, num_shots):\n",
    "    matching = Matching.from_check_matrix(H, weights=np.log((1-p)/p), faults_matrix=logicals)\n",
    "    noise = (np.random.random((num_shots, H.shape[1])) < p).astype(np.uint8)\n",
    "    shots = (noise @ H.T) % 2\n",
    "    actual_observables = (noise @ logicals.T) % 2\n",
    "    predicted_observables = matching.decode_batch(shots)\n",
    "    num_errors = np.sum(np.any(predicted_observables != actual_observables, axis=1))\n",
    "    return num_errors\n",
    "\n",
    "def num_decoding_failures_vectorised_masked(H, logicals, p, p_mask, num_shots):\n",
    "    matching = Matching.from_check_matrix(H, weights=np.log((1-p)/p), faults_matrix=logicals)\n",
    "\n",
    "    num_errors = 0\n",
    "    for i in range(num_shots):\n",
    "        mask = np.where(np.random.random(H.shape[0]) < p_mask)[0]\n",
    "        matching.set_boundary_nodes(set(mask))\n",
    "        noise = (np.random.random(H.shape[1]) < p).astype(np.uint8)\n",
    "        shots = (noise @ H.T) % 2\n",
    "        shots[mask] = 0\n",
    "        actual_observables = (noise @ logicals.T) % 2\n",
    "        predicted_observables = matching.decode(shots)\n",
    "        num_errors += np.sum(np.any(predicted_observables != actual_observables))\n",
    "    return num_errors\n",
    "\n",
    "def num_decoding_failures_iterative(H, logicals, p, p_mask, num_shots, T):\n",
    "    unmasked_matching = Matching.from_check_matrix(H, weights=np.log((1-p)/p), faults_matrix=logicals)\n",
    "    masked_matching = Matching.from_check_matrix(H, weights=np.log((1-p)/p))\n",
    "\n",
    "    num_errors = 0\n",
    "    for i in range(num_shots):\n",
    "        noise = np.zeros(H.shape[1], dtype=np.uint8)\n",
    "        mask = np.where(np.random.random(H.shape[0]) < p_mask)[0]\n",
    "        masked_matching.set_boundary_nodes(set(mask))\n",
    "\n",
    "        for j in range(T):\n",
    "            noise = noise ^ (np.random.random(H.shape[1]) < p).astype(np.uint8)\n",
    "            shots = (noise @ H.T) % 2\n",
    "            shots[mask] = 0\n",
    "            # actual_observables = (noise @ logicals.T) % 2\n",
    "            predicted_error = masked_matching.decode(shots)\n",
    "            noise = noise ^ predicted_error\n",
    "\n",
    "        noise = noise ^ (np.random.random(H.shape[1]) < p).astype(np.uint8)\n",
    "        shots = (noise @ H.T) % 2\n",
    "        actual_observables = (noise @ logicals.T) % 2\n",
    "        predicted_observables = unmasked_matching.decode(shots)\n",
    "        num_errors += np.sum(np.any(predicted_observables != actual_observables))\n",
    "        \n",
    "    return num_errors"
   ]
  },
  {
   "cell_type": "code",
   "execution_count": 5,
   "metadata": {},
   "outputs": [
    {
     "name": "stdout",
     "output_type": "stream",
     "text": [
      "Simulating ./codes/5_4_60.txt\n",
      "Simulating ./codes/5_4_160.txt\n"
     ]
    }
   ],
   "source": [
    "num_shots = 2000\n",
    "ps = np.linspace(0.0001, 0.02, 20)\n",
    "Ts = np.linspace(1,50,11,dtype=np.uint8)\n",
    "np.random.seed(2)\n",
    "log_errors_all_L = []\n",
    "\n",
    "codes = [\n",
    "    \"./codes/5_4_60.txt\",\n",
    "    \"./codes/5_4_160.txt\",\n",
    "    # \"./codes/5_4_360.txt\",\n",
    "    # \"./codes/5_4_660.txt\"\n",
    "]\n",
    "\n",
    "for code in codes:\n",
    "    print(f\"Simulating {code}\")\n",
    "    params, H = read_code(code)\n",
    "\n",
    "    n = H.shape[1]\n",
    "    m = H.shape[0]\n",
    "    m1 = params['m1']\n",
    "    m2 = params['m2']\n",
    "    Hx = H[:m1]\n",
    "    Hz = H[m1:]\n",
    "\n",
    "    Gx, col_Gx = par2gen(Hx)\n",
    "    Gz, col_Gz = par2gen(Hz)\n",
    "    logicals, generators = SGSOP(Gx, Gz, n)\n",
    "\n",
    "    logX = np.array([l[1][n:] for l in logicals])\n",
    "    logZ = np.array([l[0][:n] for l in logicals])\n",
    "    log_errors = []\n",
    "    for T in Ts:\n",
    "        # num_errors = num_decoding_failures_vectorised(Hz, logZ, p, num_shots)\n",
    "        # num_errors += num_decoding_failures_vectorised(Hx, logX, p, num_shots)\n",
    "        num_errors = num_decoding_failures_iterative(Hx, logX, 0.001, 0.2, num_shots, T)\n",
    "        num_errors += num_decoding_failures_iterative(Hz, logZ, 0.001, 0.2, num_shots, T)\n",
    "\n",
    "        log_errors.append(num_errors/(2*num_shots))\n",
    "    log_errors_all_L.append(np.array(log_errors))"
   ]
  },
  {
   "cell_type": "code",
   "execution_count": 6,
   "metadata": {},
   "outputs": [
    {
     "data": {
      "image/png": "[encoded data removed]",
      "text/plain": [
       "<Figure size 288x360 with 1 Axes>"
      ]
     },
     "metadata": {
      "needs_background": "light"
     },
     "output_type": "display_data"
    }
   ],
   "source": [
    "fig, ax = plt.subplots(1, 1, figsize=(4,5))\n",
    "\n",
    "\n",
    "for code, logical_errors in zip(codes, log_errors_all_L):\n",
    "    std_err = (logical_errors*(1-logical_errors)/num_shots)**0.5\n",
    "    ax.errorbar(Ts, logical_errors, yerr=std_err, label=\"{}\".format(code.split(\"/\")[2]))\n",
    "ax.set_xlabel(\"Number of rounds\")\n",
    "ax.set_ylabel(\"Logical error rate\")\n",
    "plt.legend(loc=0)\n",
    "plt.yscale('log')"
   ]
  },
  {
   "cell_type": "code",
   "execution_count": 44,
   "metadata": {},
   "outputs": [
    {
     "data": {
      "text/plain": [
       "[array([0.000625, 0.0025  , 0.003625, 0.005375, 0.006625, 0.010375,\n",
       "        0.0125  , 0.01375 , 0.015375, 0.017   , 0.021125]),\n",
       " array([0.      , 0.0005  , 0.001375, 0.00125 , 0.0025  , 0.00375 ,\n",
       "        0.005375, 0.006   , 0.008375, 0.011   , 0.009125])]"
      ]
     },
     "execution_count": 44,
     "metadata": {},
     "output_type": "execute_result"
    }
   ],
   "source": [
    "log_errors_all_L"
   ]
  },
  {
   "cell_type": "code",
   "execution_count": 93,
   "metadata": {},
   "outputs": [],
   "source": [
    "p_mask = 0.1\n",
    "p = 0.05\n",
    "params, H = read_code(\"./codes/5_4_60.txt\")\n",
    "\n",
    "n = H.shape[1]\n",
    "m = H.shape[0]\n",
    "m1 = params['m1']\n",
    "m2 = params['m2']\n",
    "Hx = H[:m1]\n",
    "Hz = H[m1:]\n",
    "\n",
    "Gx, col_Gx = par2gen(Hx)\n",
    "Gz, col_Gz = par2gen(Hz)\n",
    "logicals, generators = SGSOP(Gx, Gz, n)\n",
    "\n",
    "logX = np.array([l[1][n:] for l in logicals])\n",
    "logZ = np.array([l[0][:n] for l in logicals])\n",
    "\n",
    "unmasked_matching = Matching.from_check_matrix(Hx, weights=np.log((1-p)/p), faults_matrix=logX)\n",
    "\n",
    "# mask = np.where(np.random.random(Hx.shape[0]) < p_mask)[0]\n",
    "# matching.set_boundary_nodes(set(mask))\n",
    "noise = (np.random.random(Hx.shape[1]) < p).astype(np.uint8)\n",
    "shots = (noise @ Hx.T) % 2\n",
    "# shots[mask] = 0\n",
    "actual_observables = (noise @ logX.T) % 2\n",
    "predicted_observables = matching.decode(shots)"
   ]
  },
  {
   "cell_type": "code",
   "execution_count": null,
   "metadata": {},
   "outputs": [],
   "source": []
  }
 ],
 "metadata": {
  "kernelspec": {
   "display_name": "qc",
   "language": "python",
   "name": "python3"
  },
  "language_info": {
   "codemirror_mode": {
    "name": "ipython",
    "version": 3
   },
   "file_extension": ".py",
   "mimetype": "text/x-python",
   "name": "python",
   "nbconvert_exporter": "python",
   "pygments_lexer": "ipython3",
   "version": "3.8.12"
  },
  "orig_nbformat": 4,
  "vscode": {
   "interpreter": {
    "hash": "0ec6a07b5680b7cd4331b54bc02dbe3823b9a431e7975ff6d8e95dcfb04b0c38"
   }
  }
 },
 "nbformat": 4,
 "nbformat_minor": 2
}
