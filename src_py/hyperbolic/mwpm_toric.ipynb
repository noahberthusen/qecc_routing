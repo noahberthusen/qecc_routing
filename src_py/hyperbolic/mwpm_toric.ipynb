{
 "cells": [
  {
   "cell_type": "code",
   "execution_count": 1,
   "metadata": {},
   "outputs": [],
   "source": [
    "import numpy as np\n",
    "import matplotlib.pyplot as plt\n",
    "from scipy.sparse import hstack, kron, eye, csc_matrix, block_diag\n",
    "import galois\n",
    "from pymatching import Matching"
   ]
  },
  {
   "cell_type": "code",
   "execution_count": 130,
   "metadata": {},
   "outputs": [],
   "source": [
    "def repetition_code(n, shift):\n",
    "    \"\"\"\n",
    "    Parity check matrix of a repetition code with length n.\n",
    "    \"\"\"\n",
    "    row_ind, col_ind = zip(*((i, j) for i in range(n) for j in (i, (i+1)%n)))\n",
    "    data = np.ones(2*n, dtype=np.uint8)\n",
    "    H = csc_matrix((data, (row_ind, col_ind))).A\n",
    "    return np.roll(H, shift, axis=1)\n",
    "\n",
    "# def repetition_code(n, shift):\n",
    "\n",
    "\n",
    "def toric_code_stabilisers(L, shift):\n",
    "    \"\"\"\n",
    "    Sparse check matrix for the X stabilisers of a toric code with\n",
    "    lattice size L, constructed as the hypergraph product of\n",
    "    two repetition codes.\n",
    "    \"\"\"\n",
    "    Hr = repetition_code(L, shift)\n",
    "    Hz = hstack(\n",
    "            [kron(Hr, eye(Hr.shape[1])).T, kron(eye(Hr.shape[0]), Hr.T)],\n",
    "            dtype=int\n",
    "        )\n",
    "    Hx = hstack(\n",
    "            [kron(eye(Hr.shape[1]), Hr), kron(Hr.T, eye(Hr.shape[0])).T],\n",
    "            dtype=int\n",
    "        )\n",
    "    # Hx.data = Hx.data % 2\n",
    "    # Hz.data = Hz.data % 2\n",
    "\n",
    "    # return Hx, Hz\n",
    "    Hx.eliminate_zeros()\n",
    "    Hz.eliminate_zeros()\n",
    "    return csc_matrix(Hx), csc_matrix(Hz)"
   ]
  },
  {
   "cell_type": "code",
   "execution_count": 154,
   "metadata": {},
   "outputs": [
    {
     "data": {
      "text/plain": [
       "<matplotlib.image.AxesImage at 0x1a889ea3250>"
      ]
     },
     "execution_count": 154,
     "metadata": {},
     "output_type": "execute_result"
    },
    {
     "data": {
      "image/png": "[encoded data removed]",
      "text/plain": [
       "<Figure size 576x288 with 1 Axes>"
      ]
     },
     "metadata": {
      "needs_background": "light"
     },
     "output_type": "display_data"
    }
   ],
   "source": [
    "L = 3\n",
    "Hx, Hz = toric_code_stabilisers(L, 1)\n",
    "lattice = np.empty((2*L, 2*L), dtype=object)\n",
    "\n",
    "plt.matshow(Hx.A)"
   ]
  },
  {
   "cell_type": "code",
   "execution_count": 155,
   "metadata": {},
   "outputs": [
    {
     "data": {
      "text/plain": [
       "<matplotlib.image.AxesImage at 0x1a889f1f9d0>"
      ]
     },
     "execution_count": 155,
     "metadata": {},
     "output_type": "execute_result"
    },
    {
     "data": {
      "image/png": "[encoded data removed]",
      "text/plain": [
       "<Figure size 576x288 with 1 Axes>"
      ]
     },
     "metadata": {
      "needs_background": "light"
     },
     "output_type": "display_data"
    }
   ],
   "source": [
    "plt.matshow(Hz.A)"
   ]
  },
  {
   "cell_type": "code",
   "execution_count": 156,
   "metadata": {},
   "outputs": [
    {
     "data": {
      "text/plain": [
       "array([[0, 0, 0, 0, 0, 0, 0, 0, 0],\n",
       "       [0, 0, 0, 0, 0, 0, 0, 0, 0],\n",
       "       [0, 0, 0, 0, 0, 0, 0, 0, 0],\n",
       "       [0, 0, 0, 0, 0, 0, 0, 0, 0],\n",
       "       [0, 0, 0, 0, 0, 0, 0, 0, 0],\n",
       "       [0, 0, 0, 0, 0, 0, 0, 0, 0],\n",
       "       [0, 0, 0, 0, 0, 0, 0, 0, 0],\n",
       "       [0, 0, 0, 0, 0, 0, 0, 0, 0],\n",
       "       [0, 0, 0, 0, 0, 0, 0, 0, 0]], dtype=int32)"
      ]
     },
     "execution_count": 156,
     "metadata": {},
     "output_type": "execute_result"
    }
   ],
   "source": [
    "(Hx.A @ Hz.A.T) % 2"
   ]
  },
  {
   "cell_type": "code",
   "execution_count": null,
   "metadata": {},
   "outputs": [],
   "source": []
  },
  {
   "cell_type": "code",
   "execution_count": 157,
   "metadata": {},
   "outputs": [],
   "source": [
    "def available(pos):\n",
    "    # returns list of available checks or qubits for a given position\n",
    "    x, y = pos\n",
    "    nbrs = [lattice[(x+1)%(2*L)][y], lattice[(x-1)%(2*L)][y], lattice[x][(y+1)%(2*L)], lattice[x][(y-1)%(2*L)]]\n",
    "\n",
    "    num_nbrs = len([x for x in nbrs if x is not None])\n",
    "\n",
    "    potentials = set(np.arange((2*L)**2))\n",
    "    potentials = potentials ^ placed\n",
    "\n",
    "    for nbr in nbrs:\n",
    "        if nbr is None:\n",
    "            continue\n",
    "\n",
    "        if nbr[0] == \"x\":\n",
    "            potentials = potentials.intersection(Hx[int(nbr[1:])].tocsr().indices)\n",
    "        elif nbr[0] == \"z\":\n",
    "            potentials = potentials.intersection(Hz[int(nbr[1:])].tocsr().indices)\n",
    "        # elif neighbor[0] == \"q\":\n",
    "        #     potentials.intersection(Hz[:, int(neighbor[1:])].indices)\n",
    "        #     potentials.intersection(Hx[:, int(neighbor[1:])].indices)            \n",
    "\n",
    "    return potentials\n",
    "\n",
    "def find_most_neighbors():\n",
    "    pos = None\n",
    "    best_num_nbrs = 0\n",
    "    for i in range(2*L):\n",
    "        for j in range(2*L):\n",
    "            if (lattice[i][j] is not None):\n",
    "                continue\n",
    "            nbrs = [lattice[(i+1)%(2*L)][j], lattice[(i-1)%(2*L)][j], lattice[i][(j+1)%(2*L)], lattice[i][(j-1)%(2*L)]]\n",
    "            num_nbrs = len([x for x in nbrs if x is not None])\n",
    "\n",
    "            if num_nbrs > best_num_nbrs:\n",
    "                best_num_nbrs = num_nbrs\n",
    "                pos = (i,j)\n",
    "    return pos\n",
    "\n",
    "def place_qubit(loc, qbt):\n",
    "    x, y = loc\n",
    "    lattice[x][y] = f\"q{qbt}\"  # {\"type\": 'q', \"ind\": 0}\n",
    "    nbrs = [lattice[(x+1)%(2*L)][y], lattice[(x-1)%(2*L)][y], lattice[x][(y+1)%(2*L)], lattice[x][(y-1)%(2*L)]]\n",
    "\n",
    "    if ((x % 2) == 0):\n",
    "        placed_x_checks = [nbrs[2], nbrs[3]]\n",
    "        placed_z_checks = [nbrs[0], nbrs[1]]\n",
    "\n",
    "        for i, check in enumerate(Hx[:,qbt].indices):\n",
    "            if f\"x{check}\" not in placed_x_checks:\n",
    "                for j, x_check in enumerate(placed_x_checks):\n",
    "                    if x_check is not None:\n",
    "                        lattice[x][(y+(-1)**(j+1))%(2*L)] = f\"x{check}\"\n",
    "        for i, check in enumerate(Hz[:,qbt].indices):\n",
    "            if f\"z{check}\" not in placed_z_checks:\n",
    "                for j, z_check in enumerate(placed_z_checks):\n",
    "                    if z_check is not None:\n",
    "                        lattice[(x+(-1)**(j+1))%(2*L)][y] = f\"z{check}\"\n",
    "    else:\n",
    "        placed_x_checks = [nbrs[0], nbrs[1]]\n",
    "        placed_z_checks = [nbrs[2], nbrs[3]]\n",
    "\n",
    "        for i, check in enumerate(Hx[:,qbt].indices):\n",
    "            if f\"x{check}\" not in placed_x_checks:\n",
    "                for j, x_check in enumerate(placed_x_checks):\n",
    "                    if x_check is not None:\n",
    "                        lattice[(x+(-1)**(j+1))%(2*L)][y] = f\"x{check}\"\n",
    "        for i, check in enumerate(Hz[:,qbt].indices):\n",
    "            if f\"z{check}\" not in placed_z_checks:\n",
    "                for j, z_check in enumerate(placed_z_checks):\n",
    "                    if z_check is not None:\n",
    "                        lattice[x][(y+(-1)**(j+1))%(2*L)] = f\"z{check}\""
   ]
  },
  {
   "cell_type": "code",
   "execution_count": 158,
   "metadata": {},
   "outputs": [
    {
     "name": "stdout",
     "output_type": "stream",
     "text": [
      "[['q0' 'x1' 'q2' 'x0' 'q1' 'x2']\n",
      " ['z3' 'q13' 'z5' 'q12' 'z4' 'q14']\n",
      " ['q6' 'x7' 'q8' 'x6' 'q7' 'x8']\n",
      " ['z0' 'q10' 'z2' 'q9' 'z1' 'q11']\n",
      " ['q3' 'x4' 'q5' 'x3' 'q4' 'x5']\n",
      " ['z6' 'q16' 'z8' 'q15' 'z7' 'q17']]\n"
     ]
    }
   ],
   "source": [
    "\n",
    "lattice = np.empty((2*L, 2*L), dtype=object)\n",
    "\n",
    "qbt = 0\n",
    "placed = {qbt}\n",
    "x, y = (0,0)\n",
    "lattice[x][y] = f\"q{qbt}\"  # {\"type\": 'q', \"ind\": 0}\n",
    "\n",
    "if ((x % 2) == 0):\n",
    "    for i, check in enumerate(Hx[:,qbt].indices):\n",
    "        lattice[x][(y+(-1)**i)%(2*L)] = f\"x{check}\"\n",
    "    for i, check in enumerate(Hz[:,qbt].indices):\n",
    "        lattice[(x+(-1)**i)%(2*L)][y] = f\"z{check}\"\n",
    "else:\n",
    "    for i, check in enumerate(Hx[:,qbt].indices):\n",
    "        lattice[(x+(-1)**i)%(2*L)][y] = f\"x{check}\"\n",
    "    for i, check in enumerate(Hz[:,qbt].indices):\n",
    "        lattice[x][(y+(-1)**i)%(2*L)] = f\"z{check}\"\n",
    "\n",
    "while (np.count_nonzero(lattice) != (2*L)**2):\n",
    "    loc = find_most_neighbors()\n",
    "    qbt = available(loc)\n",
    "    placed ^= qbt\n",
    "    place_qubit(loc, list(qbt)[0])\n",
    "print(lattice)"
   ]
  },
  {
   "cell_type": "code",
   "execution_count": 5,
   "metadata": {},
   "outputs": [],
   "source": [
    "def par2gen(H):\n",
    "    GF = galois.GF(2)\n",
    "    gfH = GF(H)\n",
    "    gfH_rank = np.linalg.matrix_rank(gfH)\n",
    "\n",
    "    rref_H = gfH.row_reduce()\n",
    "\n",
    "    swaps = []\n",
    "    col_H = rref_H.copy()\n",
    "    for i in range(gfH_rank):\n",
    "        inds = np.where(col_H[i])[0]\n",
    "        pivot = inds[0]\n",
    "        col_H[:,[i,pivot]] = col_H[:,[pivot,i]]\n",
    "        swaps.append((i,pivot))\n",
    "\n",
    "    col_H = col_H[:gfH_rank]\n",
    "    col_G = GF(np.hstack([col_H[:,gfH_rank:].T, np.eye(H.shape[1]-gfH_rank, dtype=int)]))\n",
    "\n",
    "    G = col_G.copy()\n",
    "    for swap in swaps[::-1]:\n",
    "        G[:,[swap[1],swap[0]]] = G[:,[swap[0],swap[1]]]\n",
    "\n",
    "    if (np.any(G @ rref_H[:gfH_rank].T) or np.any(col_G @ col_H.T)):\n",
    "        print(\"FAILED\")\n",
    "        return\n",
    "    return (np.array(G, dtype=int), np.array(col_G, dtype=int))\n"
   ]
  },
  {
   "cell_type": "code",
   "execution_count": 6,
   "metadata": {},
   "outputs": [],
   "source": [
    "def commute(x, z, n):\n",
    "    # 0 if commute, 1 if anticommute\n",
    "    x1 = x[:n]\n",
    "    x2 = x[n:]\n",
    "    z1 = z[:n]\n",
    "    z2 = z[n:]\n",
    "    return (x1 @ z2 % 2) ^ (x2 @ z1 % 2)\n",
    "    \n",
    "\n",
    "def SGSOP(Gx, Gz, n):\n",
    "    # symplectic gram-schmidt orthogonalization procedure\n",
    "    sym_Gx = np.hstack([Gx, np.zeros(Gx.shape, dtype=int)])\n",
    "    sym_Gz = np.hstack([np.zeros(Gz.shape, dtype=int), Gz])\n",
    "    sym_G = np.vstack([sym_Gx, sym_Gz])\n",
    "    logicals = []\n",
    "    generators = []\n",
    "\n",
    "    while(sym_G.shape[0]):\n",
    "        g1 = sym_G[0]\n",
    "\n",
    "        commutes = True\n",
    "        for i in range(1, sym_G.shape[0]-1):\n",
    "            g2 = sym_G[i]\n",
    "            if (commute(g1,g2,n)):\n",
    "                logicals.append((g1, g2))\n",
    "                sym_G = np.delete(sym_G, [0, i], axis=0)\n",
    "\n",
    "                for j in range(sym_G.shape[0]):\n",
    "                    gj = sym_G[j]\n",
    "                    sym_G[j] = gj ^ (commute(gj,g2,n) * g1) ^ (commute(gj,g1,n) * g2)\n",
    "                commutes = False\n",
    "                break\n",
    "        \n",
    "        if commutes:\n",
    "            generators.append(g1)\n",
    "            sym_G = np.delete(sym_G, 0, axis=0)\n",
    "    \n",
    "    return (logicals, generators)"
   ]
  },
  {
   "cell_type": "code",
   "execution_count": 7,
   "metadata": {},
   "outputs": [],
   "source": [
    "def num_decoding_failures_vectorised(H, logicals, p, num_shots):\n",
    "    matching = Matching.from_check_matrix(H, weights=np.log((1-p)/p), faults_matrix=logicals)\n",
    "    noise = (np.random.random((num_shots, H.shape[1])) < p).astype(np.uint8)\n",
    "    shots = (noise @ H.T) % 2\n",
    "    actual_observables = (noise @ logicals.T) % 2\n",
    "    predicted_observables = matching.decode_batch(shots)\n",
    "    num_errors = np.sum(np.any(predicted_observables != actual_observables, axis=1))\n",
    "    return num_errors"
   ]
  },
  {
   "cell_type": "code",
   "execution_count": 6,
   "metadata": {},
   "outputs": [
    {
     "name": "stdout",
     "output_type": "stream",
     "text": [
      "Simulating L=4...\n",
      "Simulating L=8...\n",
      "Simulating L=12...\n"
     ]
    }
   ],
   "source": [
    "num_shots = 5000\n",
    "Ls = range(4,14,4)\n",
    "ps = np.linspace(0.01, 0.2, 9)\n",
    "np.random.seed(2)\n",
    "log_errors_all_L = []\n",
    "for L in Ls:\n",
    "    print(\"Simulating L={}...\".format(L))\n",
    "    Hx, Hz = toric_code_stabilisers(L)\n",
    "    n = Hx.shape[1]\n",
    "    Gx, col_Gx = par2gen(Hx.toarray())\n",
    "    Gz, col_Gz = par2gen(Hz.toarray())\n",
    "    logicals, generators = SGSOP(Gx, Gz, n)\n",
    "\n",
    "    logX = np.array([l[1][n:] for l in logicals])\n",
    "    logZ = np.array([l[0][:n] for l in logicals])\n",
    "    log_errors = []\n",
    "    for p in ps:\n",
    "        num_errors = num_decoding_failures_vectorised(Hx, logX, p, num_shots)\n",
    "        log_errors.append(num_errors/num_shots)\n",
    "    log_errors_all_L.append(np.array(log_errors))"
   ]
  },
  {
   "cell_type": "code",
   "execution_count": 7,
   "metadata": {},
   "outputs": [
    {
     "data": {
      "text/plain": [
       "<matplotlib.legend.Legend at 0x23c785d9850>"
      ]
     },
     "execution_count": 7,
     "metadata": {},
     "output_type": "execute_result"
    },
    {
     "data": {
      "image/png": "[encoded data removed]",
      "text/plain": [
       "<Figure size 432x288 with 1 Axes>"
      ]
     },
     "metadata": {
      "needs_background": "light"
     },
     "output_type": "display_data"
    }
   ],
   "source": [
    "plt.figure()\n",
    "for L, logical_errors in zip(Ls, log_errors_all_L):\n",
    "    std_err = (logical_errors*(1-logical_errors)/num_shots)**0.5\n",
    "    plt.errorbar(ps, logical_errors, yerr=std_err, label=\"L={}\".format(L))\n",
    "plt.xlabel(\"Physical error rate\")\n",
    "plt.ylabel(\"Logical error rate\")\n",
    "plt.legend(loc=0)"
   ]
  },
  {
   "cell_type": "code",
   "execution_count": 8,
   "metadata": {},
   "outputs": [],
   "source": [
    "Hx, Hz = toric_code_stabilisers(4)\n",
    "n = Hx.shape[1]\n",
    "Gx, col_Gx = par2gen(Hx.toarray())\n",
    "Gz, col_Gz = par2gen(Hz.toarray())\n",
    "logicals, generators = SGSOP(Gx, Gz, n)\n",
    "\n",
    "logX = np.array([l[1][n:] for l in logicals])\n",
    "logZ = np.array([l[0][:n] for l in logicals])"
   ]
  },
  {
   "cell_type": "code",
   "execution_count": 38,
   "metadata": {},
   "outputs": [
    {
     "data": {
      "text/plain": [
       "array([[0, 1, 0, 0],\n",
       "       [0, 1, 0, 0],\n",
       "       [0, 0, 0, 0],\n",
       "       [0, 0, 1, 1]], dtype=int32)"
      ]
     },
     "execution_count": 38,
     "metadata": {},
     "output_type": "execute_result"
    }
   ],
   "source": [
    "noise = np.zeros(Hx.shape[1], dtype=int)\n",
    "noise[5] = 1\n",
    "noise[30] = 1\n",
    "shots = (noise @ Hx.T) % 2\n",
    "shots.reshape((4,4))"
   ]
  },
  {
   "cell_type": "code",
   "execution_count": 39,
   "metadata": {},
   "outputs": [
    {
     "data": {
      "text/plain": [
       "(array([ 5, 30], dtype=int64),)"
      ]
     },
     "execution_count": 39,
     "metadata": {},
     "output_type": "execute_result"
    }
   ],
   "source": [
    "matching = Matching.from_check_matrix(Hx)\n",
    "predicted_error = matching.decode(shots)\n",
    "np.where(predicted_error)"
   ]
  },
  {
   "cell_type": "code",
   "execution_count": 40,
   "metadata": {},
   "outputs": [
    {
     "data": {
      "text/plain": [
       "array([[0, 0, 0, 0],\n",
       "       [0, 1, 0, 0],\n",
       "       [0, 0, 0, 0],\n",
       "       [0, 0, 1, 0]], dtype=int32)"
      ]
     },
     "execution_count": 40,
     "metadata": {},
     "output_type": "execute_result"
    }
   ],
   "source": [
    "masked_synd = shots.copy()\n",
    "masked_synd[1] = 0\n",
    "masked_synd[15] = 0\n",
    "masked_synd.reshape((4,4))"
   ]
  },
  {
   "cell_type": "code",
   "execution_count": 41,
   "metadata": {},
   "outputs": [
    {
     "data": {
      "text/plain": [
       "(array([ 5, 30], dtype=int64),)"
      ]
     },
     "execution_count": 41,
     "metadata": {},
     "output_type": "execute_result"
    }
   ],
   "source": [
    "masked_matching = Matching.from_check_matrix(Hx)\n",
    "masked_matching.set_boundary_nodes({1,15})\n",
    "predicted_error = masked_matching.decode(masked_synd)\n",
    "np.where(predicted_error)"
   ]
  },
  {
   "cell_type": "code",
   "execution_count": null,
   "metadata": {},
   "outputs": [],
   "source": []
  }
 ],
 "metadata": {
  "kernelspec": {
   "display_name": "qc",
   "language": "python",
   "name": "python3"
  },
  "language_info": {
   "codemirror_mode": {
    "name": "ipython",
    "version": 3
   },
   "file_extension": ".py",
   "mimetype": "text/x-python",
   "name": "python",
   "nbconvert_exporter": "python",
   "pygments_lexer": "ipython3",
   "version": "3.8.12"
  },
  "orig_nbformat": 4,
  "vscode": {
   "interpreter": {
    "hash": "0ec6a07b5680b7cd4331b54bc02dbe3823b9a431e7975ff6d8e95dcfb04b0c38"
   }
  }
 },
 "nbformat": 4,
 "nbformat_minor": 2
}
