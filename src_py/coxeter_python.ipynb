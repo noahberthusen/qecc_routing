{
 "cells": [
  {
   "cell_type": "code",
   "execution_count": 15,
   "metadata": {},
   "outputs": [],
   "source": [
    "from sympy.combinatorics.free_groups import free_group, vfree_group, xfree_group\n",
    "from sympy.combinatorics.fp_groups import FpGroup, CosetTable, coset_enumeration_r\n",
    "from sympy.combinatorics.fp_groups import low_index_subgroups\n",
    "from sympy.combinatorics.fp_groups import reidemeister_presentation"
   ]
  },
  {
   "cell_type": "code",
   "execution_count": 39,
   "metadata": {},
   "outputs": [],
   "source": [
    "F, o, p = free_group(\"o, p\")\n",
    "G = FpGroup(F, [o**3, p**8, (o*p)**2])\n",
    "H = FpGroup(F, [o**3, p**8, (o*p)**2, p**4])"
   ]
  },
  {
   "cell_type": "code",
   "execution_count": 42,
   "metadata": {},
   "outputs": [
    {
     "name": "stdout",
     "output_type": "stream",
     "text": [
      "1\n"
     ]
    }
   ],
   "source": [
    "ct = coset_enumeration_r(G, [o, p, p**4])\n",
    "print(len(ct.table))"
   ]
  },
  {
   "cell_type": "code",
   "execution_count": null,
   "metadata": {},
   "outputs": [],
   "source": [
    "# https://math.stackexchange.com/questions/3427296/finding-a-presentation-of-a-permutation-group-given-the-generators\n",
    "# https://math.stackexchange.com/questions/3697546/finding-low-index-normal-subgroups-of-finitely-presented-groups-in-gap\n",
    "# https://github.com/pdobsan/lowx\n",
    "# https://www.math.auckland.ac.nz/~conder/preprints/lowindex.pdf\n",
    "\n",
    "\"\"\"\n",
    "\n",
    "LoadPackage(\"LINS\");\n",
    "F := FreeGroup(\"a\",\"b\");;\n",
    "G := F / [ F.1^4, F.2^5, (F.1*F.2)^2 ];;\n",
    "\n",
    "L := LowIndexNormalSubgroupsSearchForAll(G, 500);\n",
    "H := List(L)[6];\n",
    "Gh := G / Grp(H);\n",
    "GhFp := Image(IsomorphismFpGroupByGenerators(Gh, GeneratorsOfGroup(Gh)));\n",
    "\n",
    "rhos := Subgroup(GhFp, [GhFp.1]);;\n",
    "rhos_left := LeftCosets(GhFp, rhos);;\n",
    "sigmas := Subgroup(GhFp, [GhFp.2]);;\n",
    "sigmas_left := LeftCosets(GhFp, sigmas);;\n",
    "taus := Subgroup(GhFp, [GhFp.2*GhFp.1]);;\n",
    "taus_left := LeftCosets(GhFp, taus);;\n",
    "\n",
    "output := OutputTextFile(\"../code.txt\", false);;\n",
    "SetPrintFormattingStatus(output, false);\n",
    "for tlc in rhos_left do\n",
    "    for rlc in taus_left do\n",
    "        PrintTo(output, Size(Intersection(tlc, rlc)));\n",
    "    od;\n",
    "    PrintTo(output, \"\\n\");\n",
    "od;\n",
    "for tlc in sigmas_left do\n",
    "    for rlc in taus_left do\n",
    "        PrintTo(output, Size(Intersection(tlc, rlc)));\n",
    "    od;\n",
    "    PrintTo(output, \"\\n\");\n",
    "od;\n",
    "\n",
    "\"\"\""
   ]
  },
  {
   "cell_type": "code",
   "execution_count": 105,
   "metadata": {},
   "outputs": [
    {
     "data": {
      "text/plain": [
       "array([[1, 1, 1, ..., 0, 0, 0],\n",
       "       [0, 0, 1, ..., 0, 0, 0],\n",
       "       [1, 0, 0, ..., 0, 0, 0],\n",
       "       ...,\n",
       "       [0, 0, 0, ..., 0, 0, 0],\n",
       "       [0, 0, 0, ..., 0, 0, 0],\n",
       "       [0, 0, 0, ..., 1, 0, 0]])"
      ]
     },
     "execution_count": 105,
     "metadata": {},
     "output_type": "execute_result"
    }
   ],
   "source": []
  },
  {
   "cell_type": "code",
   "execution_count": 101,
   "metadata": {},
   "outputs": [
    {
     "name": "stdout",
     "output_type": "stream",
     "text": [
      "0\n",
      "0\n",
      "0\n",
      "0\n",
      "0\n",
      "0\n",
      "0\n",
      "0\n",
      "0\n",
      "0\n",
      "0\n",
      "0\n",
      "0\n",
      "0\n",
      "0\n",
      "0\n",
      "0\n",
      "0\n",
      "0\n",
      "0\n",
      "0\n",
      "0\n",
      "0\n",
      "0\n",
      "0\n",
      "0\n",
      "0\n",
      "0\n",
      "0\n",
      "0\n",
      "0\n",
      "0\n",
      "0\n",
      "0\n",
      "0\n",
      "0\n",
      "0\n",
      "0\n",
      "0\n",
      "0\n",
      "0\n",
      "0\n",
      "0\n",
      "0\n",
      "0\n",
      "0\n",
      "0\n",
      "0\n",
      "0\n",
      "0\n",
      "0\n",
      "0\n",
      "0\n",
      "0\n",
      "0\n",
      "0\n",
      "0\n",
      "0\n",
      "0\n",
      "0\n",
      "0\n",
      "0\n",
      "0\n",
      "0\n",
      "0\n",
      "1\n",
      "0\n",
      "0\n",
      "0\n",
      "1\n",
      "0\n",
      "1\n",
      "0\n",
      "1\n",
      "0\n",
      "0\n",
      "0\n",
      "1\n",
      "0\n",
      "0\n"
     ]
    }
   ],
   "source": [
    "for d in line:\n",
    "    print(int(d))"
   ]
  },
  {
   "cell_type": "code",
   "execution_count": null,
   "metadata": {},
   "outputs": [],
   "source": []
  }
 ],
 "metadata": {
  "kernelspec": {
   "display_name": "qc",
   "language": "python",
   "name": "python3"
  },
  "language_info": {
   "codemirror_mode": {
    "name": "ipython",
    "version": 3
   },
   "file_extension": ".py",
   "mimetype": "text/x-python",
   "name": "python",
   "nbconvert_exporter": "python",
   "pygments_lexer": "ipython3",
   "version": "3.8.12"
  },
  "orig_nbformat": 4
 },
 "nbformat": 4,
 "nbformat_minor": 2
}
